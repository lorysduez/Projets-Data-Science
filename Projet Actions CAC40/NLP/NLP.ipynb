{
  "cells": [
    {
      "cell_type": "markdown",
      "metadata": {
        "id": "view-in-github",
        "colab_type": "text"
      },
      "source": [
        "<a href=\"https://colab.research.google.com/github/lorysduez/ProjetP5/blob/main/NLP.ipynb\" target=\"_parent\"><img src=\"https://colab.research.google.com/assets/colab-badge.svg\" alt=\"Open In Colab\"/></a>"
      ]
    },
    {
      "cell_type": "markdown",
      "metadata": {
        "id": "M_vhfVHNO_he"
      },
      "source": [
        "# Installation"
      ]
    },
    {
      "cell_type": "code",
      "execution_count": null,
      "metadata": {
        "colab": {
          "base_uri": "https://localhost:8080/"
        },
        "id": "Wg3_N6gLLKpn",
        "outputId": "5226a2ac-decf-4f32-e90d-474eed1481af"
      },
      "outputs": [
        {
          "output_type": "stream",
          "name": "stdout",
          "text": [
            "Looking in indexes: https://pypi.org/simple, https://us-python.pkg.dev/colab-wheels/public/simple/\n",
            "Requirement already satisfied: pip in /usr/local/lib/python3.9/dist-packages (23.0.1)\n",
            "\u001b[33mWARNING: Running pip as the 'root' user can result in broken permissions and conflicting behaviour with the system package manager. It is recommended to use a virtual environment instead: https://pip.pypa.io/warnings/venv\u001b[0m\u001b[33m\n",
            "\u001b[0m"
          ]
        }
      ],
      "source": [
        "!pip install --upgrade pip"
      ]
    },
    {
      "cell_type": "code",
      "source": [
        "!pip install tensorflow-gpu"
      ],
      "metadata": {
        "colab": {
          "base_uri": "https://localhost:8080/"
        },
        "id": "DMWlWRJcq-jr",
        "outputId": "3528f1ca-ab92-42a8-e310-cfcf78c6cb74"
      },
      "execution_count": null,
      "outputs": [
        {
          "output_type": "stream",
          "name": "stdout",
          "text": [
            "Looking in indexes: https://pypi.org/simple, https://us-python.pkg.dev/colab-wheels/public/simple/\n",
            "Collecting tensorflow-gpu\n",
            "  Using cached tensorflow-gpu-2.12.0.tar.gz (2.6 kB)\n",
            "  Preparing metadata (setup.py) ... \u001b[?25l\u001b[?25hdone\n",
            "Requirement already satisfied: python_version>\"3.7\" in /usr/local/lib/python3.9/dist-packages (from tensorflow-gpu) (0.0.2)\n",
            "Building wheels for collected packages: tensorflow-gpu\n",
            "  \u001b[1;31merror\u001b[0m: \u001b[1msubprocess-exited-with-error\u001b[0m\n",
            "  \n",
            "  \u001b[31m×\u001b[0m \u001b[32mpython setup.py bdist_wheel\u001b[0m did not run successfully.\n",
            "  \u001b[31m│\u001b[0m exit code: \u001b[1;36m1\u001b[0m\n",
            "  \u001b[31m╰─>\u001b[0m See above for output.\n",
            "  \n",
            "  \u001b[1;35mnote\u001b[0m: This error originates from a subprocess, and is likely not a problem with pip.\n",
            "  Building wheel for tensorflow-gpu (setup.py) ... \u001b[?25lerror\n",
            "\u001b[31m  ERROR: Failed building wheel for tensorflow-gpu\u001b[0m\u001b[31m\n",
            "\u001b[0m\u001b[?25h  Running setup.py clean for tensorflow-gpu\n",
            "Failed to build tensorflow-gpu\n",
            "Installing collected packages: tensorflow-gpu\n",
            "  \u001b[1;31merror\u001b[0m: \u001b[1msubprocess-exited-with-error\u001b[0m\n",
            "  \n",
            "  \u001b[31m×\u001b[0m \u001b[32mRunning setup.py install for tensorflow-gpu\u001b[0m did not run successfully.\n",
            "  \u001b[31m│\u001b[0m exit code: \u001b[1;36m1\u001b[0m\n",
            "  \u001b[31m╰─>\u001b[0m See above for output.\n",
            "  \n",
            "  \u001b[1;35mnote\u001b[0m: This error originates from a subprocess, and is likely not a problem with pip.\n",
            "  Running setup.py install for tensorflow-gpu ... \u001b[?25l\u001b[?25herror\n",
            "\u001b[1;31merror\u001b[0m: \u001b[1mlegacy-install-failure\u001b[0m\n",
            "\n",
            "\u001b[31m×\u001b[0m Encountered error while trying to install package.\n",
            "\u001b[31m╰─>\u001b[0m tensorflow-gpu\n",
            "\n",
            "\u001b[1;35mnote\u001b[0m: This is an issue with the package mentioned above, not pip.\n",
            "\u001b[1;36mhint\u001b[0m: See above for output from the failure.\n"
          ]
        }
      ]
    },
    {
      "cell_type": "code",
      "execution_count": null,
      "metadata": {
        "colab": {
          "base_uri": "https://localhost:8080/"
        },
        "id": "uJxR-VnYp5cf",
        "outputId": "ee71078f-4c20-4ba5-a1e2-88e47f6ea08a"
      },
      "outputs": [
        {
          "output_type": "stream",
          "name": "stdout",
          "text": [
            "Looking in indexes: https://pypi.org/simple, https://us-python.pkg.dev/colab-wheels/public/simple/\n",
            "Requirement already satisfied: transformers in /usr/local/lib/python3.9/dist-packages (4.26.1)\n",
            "Requirement already satisfied: regex!=2019.12.17 in /usr/local/lib/python3.9/dist-packages (from transformers) (2022.6.2)\n",
            "Requirement already satisfied: tokenizers!=0.11.3,<0.14,>=0.11.1 in /usr/local/lib/python3.9/dist-packages (from transformers) (0.13.2)\n",
            "Requirement already satisfied: numpy>=1.17 in /usr/local/lib/python3.9/dist-packages (from transformers) (1.22.4)\n",
            "Requirement already satisfied: pyyaml>=5.1 in /usr/local/lib/python3.9/dist-packages (from transformers) (6.0)\n",
            "Requirement already satisfied: packaging>=20.0 in /usr/local/lib/python3.9/dist-packages (from transformers) (23.0)\n",
            "Requirement already satisfied: requests in /usr/local/lib/python3.9/dist-packages (from transformers) (2.25.1)\n",
            "Requirement already satisfied: tqdm>=4.27 in /usr/local/lib/python3.9/dist-packages (from transformers) (4.65.0)\n",
            "Requirement already satisfied: huggingface-hub<1.0,>=0.11.0 in /usr/local/lib/python3.9/dist-packages (from transformers) (0.13.1)\n",
            "Requirement already satisfied: filelock in /usr/local/lib/python3.9/dist-packages (from transformers) (3.9.0)\n",
            "Requirement already satisfied: typing-extensions>=3.7.4.3 in /usr/local/lib/python3.9/dist-packages (from huggingface-hub<1.0,>=0.11.0->transformers) (4.5.0)\n",
            "Requirement already satisfied: idna<3,>=2.5 in /usr/local/lib/python3.9/dist-packages (from requests->transformers) (2.10)\n",
            "Requirement already satisfied: certifi>=2017.4.17 in /usr/local/lib/python3.9/dist-packages (from requests->transformers) (2022.12.7)\n",
            "Requirement already satisfied: chardet<5,>=3.0.2 in /usr/local/lib/python3.9/dist-packages (from requests->transformers) (4.0.0)\n",
            "Requirement already satisfied: urllib3<1.27,>=1.21.1 in /usr/local/lib/python3.9/dist-packages (from requests->transformers) (1.26.14)\n",
            "\u001b[33mWARNING: Running pip as the 'root' user can result in broken permissions and conflicting behaviour with the system package manager. It is recommended to use a virtual environment instead: https://pip.pypa.io/warnings/venv\u001b[0m\u001b[33m\n",
            "\u001b[0m"
          ]
        }
      ],
      "source": [
        "!pip install transformers"
      ]
    },
    {
      "cell_type": "code",
      "execution_count": null,
      "metadata": {
        "colab": {
          "base_uri": "https://localhost:8080/"
        },
        "id": "o3H2RvB0LV9q",
        "outputId": "92eb1da5-21fc-467b-bada-0fdf01914fe9"
      },
      "outputs": [
        {
          "output_type": "stream",
          "name": "stdout",
          "text": [
            "Looking in indexes: https://pypi.org/simple, https://us-python.pkg.dev/colab-wheels/public/simple/\n",
            "Requirement already satisfied: transformers[sentencepiece] in /usr/local/lib/python3.9/dist-packages (4.26.1)\n",
            "Requirement already satisfied: regex!=2019.12.17 in /usr/local/lib/python3.9/dist-packages (from transformers[sentencepiece]) (2022.6.2)\n",
            "Requirement already satisfied: huggingface-hub<1.0,>=0.11.0 in /usr/local/lib/python3.9/dist-packages (from transformers[sentencepiece]) (0.13.1)\n",
            "Requirement already satisfied: tqdm>=4.27 in /usr/local/lib/python3.9/dist-packages (from transformers[sentencepiece]) (4.65.0)\n",
            "Requirement already satisfied: tokenizers!=0.11.3,<0.14,>=0.11.1 in /usr/local/lib/python3.9/dist-packages (from transformers[sentencepiece]) (0.13.2)\n",
            "Requirement already satisfied: requests in /usr/local/lib/python3.9/dist-packages (from transformers[sentencepiece]) (2.25.1)\n",
            "Requirement already satisfied: pyyaml>=5.1 in /usr/local/lib/python3.9/dist-packages (from transformers[sentencepiece]) (6.0)\n",
            "Requirement already satisfied: packaging>=20.0 in /usr/local/lib/python3.9/dist-packages (from transformers[sentencepiece]) (23.0)\n",
            "Requirement already satisfied: numpy>=1.17 in /usr/local/lib/python3.9/dist-packages (from transformers[sentencepiece]) (1.22.4)\n",
            "Requirement already satisfied: filelock in /usr/local/lib/python3.9/dist-packages (from transformers[sentencepiece]) (3.9.0)\n",
            "Requirement already satisfied: protobuf<=3.20.2 in /usr/local/lib/python3.9/dist-packages (from transformers[sentencepiece]) (3.19.6)\n",
            "Requirement already satisfied: sentencepiece!=0.1.92,>=0.1.91 in /usr/local/lib/python3.9/dist-packages (from transformers[sentencepiece]) (0.1.97)\n",
            "Requirement already satisfied: typing-extensions>=3.7.4.3 in /usr/local/lib/python3.9/dist-packages (from huggingface-hub<1.0,>=0.11.0->transformers[sentencepiece]) (4.5.0)\n",
            "Requirement already satisfied: idna<3,>=2.5 in /usr/local/lib/python3.9/dist-packages (from requests->transformers[sentencepiece]) (2.10)\n",
            "Requirement already satisfied: chardet<5,>=3.0.2 in /usr/local/lib/python3.9/dist-packages (from requests->transformers[sentencepiece]) (4.0.0)\n",
            "Requirement already satisfied: certifi>=2017.4.17 in /usr/local/lib/python3.9/dist-packages (from requests->transformers[sentencepiece]) (2022.12.7)\n",
            "Requirement already satisfied: urllib3<1.27,>=1.21.1 in /usr/local/lib/python3.9/dist-packages (from requests->transformers[sentencepiece]) (1.26.14)\n",
            "\u001b[33mWARNING: Running pip as the 'root' user can result in broken permissions and conflicting behaviour with the system package manager. It is recommended to use a virtual environment instead: https://pip.pypa.io/warnings/venv\u001b[0m\u001b[33m\n",
            "\u001b[0m"
          ]
        }
      ],
      "source": [
        "!pip install transformers[sentencepiece]"
      ]
    },
    {
      "cell_type": "code",
      "execution_count": null,
      "metadata": {
        "colab": {
          "base_uri": "https://localhost:8080/"
        },
        "id": "Oe47f6eEZwQ9",
        "outputId": "e138b68b-79ab-4f6e-eca0-f29bc277e7e1"
      },
      "outputs": [
        {
          "output_type": "stream",
          "name": "stdout",
          "text": [
            "Looking in indexes: https://pypi.org/simple, https://us-python.pkg.dev/colab-wheels/public/simple/\n",
            "Requirement already satisfied: deep-translator in /usr/local/lib/python3.9/dist-packages (1.10.1)\n",
            "Requirement already satisfied: beautifulsoup4<5.0.0,>=4.9.1 in /usr/local/lib/python3.9/dist-packages (from deep-translator) (4.11.2)\n",
            "Requirement already satisfied: requests<3.0.0,>=2.23.0 in /usr/local/lib/python3.9/dist-packages (from deep-translator) (2.25.1)\n",
            "Requirement already satisfied: soupsieve>1.2 in /usr/local/lib/python3.9/dist-packages (from beautifulsoup4<5.0.0,>=4.9.1->deep-translator) (2.4)\n",
            "Requirement already satisfied: urllib3<1.27,>=1.21.1 in /usr/local/lib/python3.9/dist-packages (from requests<3.0.0,>=2.23.0->deep-translator) (1.26.14)\n",
            "Requirement already satisfied: chardet<5,>=3.0.2 in /usr/local/lib/python3.9/dist-packages (from requests<3.0.0,>=2.23.0->deep-translator) (4.0.0)\n",
            "Requirement already satisfied: certifi>=2017.4.17 in /usr/local/lib/python3.9/dist-packages (from requests<3.0.0,>=2.23.0->deep-translator) (2022.12.7)\n",
            "Requirement already satisfied: idna<3,>=2.5 in /usr/local/lib/python3.9/dist-packages (from requests<3.0.0,>=2.23.0->deep-translator) (2.10)\n",
            "\u001b[33mWARNING: Running pip as the 'root' user can result in broken permissions and conflicting behaviour with the system package manager. It is recommended to use a virtual environment instead: https://pip.pypa.io/warnings/venv\u001b[0m\u001b[33m\n",
            "\u001b[0m"
          ]
        }
      ],
      "source": [
        "!pip install deep-translator"
      ]
    },
    {
      "cell_type": "code",
      "execution_count": null,
      "metadata": {
        "colab": {
          "base_uri": "https://localhost:8080/"
        },
        "id": "vumh5Y41Z0xQ",
        "outputId": "b4a08d45-2623-4a09-e3e5-7311ebfb972b"
      },
      "outputs": [
        {
          "output_type": "stream",
          "name": "stdout",
          "text": [
            "Looking in indexes: https://pypi.org/simple, https://us-python.pkg.dev/colab-wheels/public/simple/\n",
            "Requirement already satisfied: happytransformer in /usr/local/lib/python3.9/dist-packages (2.4.1)\n",
            "Requirement already satisfied: tqdm>=4.43 in /usr/local/lib/python3.9/dist-packages (from happytransformer) (4.65.0)\n",
            "Requirement already satisfied: datasets>=1.6.0 in /usr/local/lib/python3.9/dist-packages (from happytransformer) (2.10.1)\n",
            "Requirement already satisfied: protobuf in /usr/local/lib/python3.9/dist-packages (from happytransformer) (3.19.6)\n",
            "Requirement already satisfied: transformers>=4.4.0 in /usr/local/lib/python3.9/dist-packages (from happytransformer) (4.26.1)\n",
            "Requirement already satisfied: sentencepiece in /usr/local/lib/python3.9/dist-packages (from happytransformer) (0.1.97)\n",
            "Requirement already satisfied: torch>=1.0 in /usr/local/lib/python3.9/dist-packages (from happytransformer) (1.13.1+cu116)\n",
            "Requirement already satisfied: pyyaml>=5.1 in /usr/local/lib/python3.9/dist-packages (from datasets>=1.6.0->happytransformer) (6.0)\n",
            "Requirement already satisfied: pandas in /usr/local/lib/python3.9/dist-packages (from datasets>=1.6.0->happytransformer) (1.3.5)\n",
            "Requirement already satisfied: requests>=2.19.0 in /usr/local/lib/python3.9/dist-packages (from datasets>=1.6.0->happytransformer) (2.25.1)\n",
            "Requirement already satisfied: aiohttp in /usr/local/lib/python3.9/dist-packages (from datasets>=1.6.0->happytransformer) (3.8.4)\n",
            "Requirement already satisfied: multiprocess in /usr/local/lib/python3.9/dist-packages (from datasets>=1.6.0->happytransformer) (0.70.14)\n",
            "Requirement already satisfied: packaging in /usr/local/lib/python3.9/dist-packages (from datasets>=1.6.0->happytransformer) (23.0)\n",
            "Requirement already satisfied: pyarrow>=6.0.0 in /usr/local/lib/python3.9/dist-packages (from datasets>=1.6.0->happytransformer) (9.0.0)\n",
            "Requirement already satisfied: numpy>=1.17 in /usr/local/lib/python3.9/dist-packages (from datasets>=1.6.0->happytransformer) (1.22.4)\n",
            "Requirement already satisfied: dill<0.3.7,>=0.3.0 in /usr/local/lib/python3.9/dist-packages (from datasets>=1.6.0->happytransformer) (0.3.6)\n",
            "Requirement already satisfied: responses<0.19 in /usr/local/lib/python3.9/dist-packages (from datasets>=1.6.0->happytransformer) (0.18.0)\n",
            "Requirement already satisfied: huggingface-hub<1.0.0,>=0.2.0 in /usr/local/lib/python3.9/dist-packages (from datasets>=1.6.0->happytransformer) (0.13.1)\n",
            "Requirement already satisfied: fsspec[http]>=2021.11.1 in /usr/local/lib/python3.9/dist-packages (from datasets>=1.6.0->happytransformer) (2023.3.0)\n",
            "Requirement already satisfied: xxhash in /usr/local/lib/python3.9/dist-packages (from datasets>=1.6.0->happytransformer) (3.2.0)\n",
            "Requirement already satisfied: typing-extensions in /usr/local/lib/python3.9/dist-packages (from torch>=1.0->happytransformer) (4.5.0)\n",
            "Requirement already satisfied: tokenizers!=0.11.3,<0.14,>=0.11.1 in /usr/local/lib/python3.9/dist-packages (from transformers>=4.4.0->happytransformer) (0.13.2)\n",
            "Requirement already satisfied: filelock in /usr/local/lib/python3.9/dist-packages (from transformers>=4.4.0->happytransformer) (3.9.0)\n",
            "Requirement already satisfied: regex!=2019.12.17 in /usr/local/lib/python3.9/dist-packages (from transformers>=4.4.0->happytransformer) (2022.6.2)\n",
            "Requirement already satisfied: attrs>=17.3.0 in /usr/local/lib/python3.9/dist-packages (from aiohttp->datasets>=1.6.0->happytransformer) (22.2.0)\n",
            "Requirement already satisfied: charset-normalizer<4.0,>=2.0 in /usr/local/lib/python3.9/dist-packages (from aiohttp->datasets>=1.6.0->happytransformer) (3.1.0)\n",
            "Requirement already satisfied: async-timeout<5.0,>=4.0.0a3 in /usr/local/lib/python3.9/dist-packages (from aiohttp->datasets>=1.6.0->happytransformer) (4.0.2)\n",
            "Requirement already satisfied: frozenlist>=1.1.1 in /usr/local/lib/python3.9/dist-packages (from aiohttp->datasets>=1.6.0->happytransformer) (1.3.3)\n",
            "Requirement already satisfied: multidict<7.0,>=4.5 in /usr/local/lib/python3.9/dist-packages (from aiohttp->datasets>=1.6.0->happytransformer) (6.0.4)\n",
            "Requirement already satisfied: yarl<2.0,>=1.0 in /usr/local/lib/python3.9/dist-packages (from aiohttp->datasets>=1.6.0->happytransformer) (1.8.2)\n",
            "Requirement already satisfied: aiosignal>=1.1.2 in /usr/local/lib/python3.9/dist-packages (from aiohttp->datasets>=1.6.0->happytransformer) (1.3.1)\n",
            "Requirement already satisfied: urllib3<1.27,>=1.21.1 in /usr/local/lib/python3.9/dist-packages (from requests>=2.19.0->datasets>=1.6.0->happytransformer) (1.26.14)\n",
            "Requirement already satisfied: chardet<5,>=3.0.2 in /usr/local/lib/python3.9/dist-packages (from requests>=2.19.0->datasets>=1.6.0->happytransformer) (4.0.0)\n",
            "Requirement already satisfied: certifi>=2017.4.17 in /usr/local/lib/python3.9/dist-packages (from requests>=2.19.0->datasets>=1.6.0->happytransformer) (2022.12.7)\n",
            "Requirement already satisfied: idna<3,>=2.5 in /usr/local/lib/python3.9/dist-packages (from requests>=2.19.0->datasets>=1.6.0->happytransformer) (2.10)\n",
            "Requirement already satisfied: python-dateutil>=2.7.3 in /usr/local/lib/python3.9/dist-packages (from pandas->datasets>=1.6.0->happytransformer) (2.8.2)\n",
            "Requirement already satisfied: pytz>=2017.3 in /usr/local/lib/python3.9/dist-packages (from pandas->datasets>=1.6.0->happytransformer) (2022.7.1)\n",
            "Requirement already satisfied: six>=1.5 in /usr/local/lib/python3.9/dist-packages (from python-dateutil>=2.7.3->pandas->datasets>=1.6.0->happytransformer) (1.15.0)\n",
            "\u001b[33mWARNING: Running pip as the 'root' user can result in broken permissions and conflicting behaviour with the system package manager. It is recommended to use a virtual environment instead: https://pip.pypa.io/warnings/venv\u001b[0m\u001b[33m\n",
            "\u001b[0m"
          ]
        }
      ],
      "source": [
        "!pip install happytransformer"
      ]
    },
    {
      "cell_type": "code",
      "execution_count": null,
      "metadata": {
        "colab": {
          "base_uri": "https://localhost:8080/"
        },
        "id": "tn-RZ5iaqlPx",
        "outputId": "1e782b2f-2127-456a-f8e0-858354f3604d"
      },
      "outputs": [
        {
          "output_type": "stream",
          "name": "stdout",
          "text": [
            "Looking in indexes: https://pypi.org/simple, https://us-python.pkg.dev/colab-wheels/public/simple/\n",
            "Requirement already satisfied: vaderSentiment in /usr/local/lib/python3.9/dist-packages (3.3.2)\n",
            "Requirement already satisfied: requests in /usr/local/lib/python3.9/dist-packages (from vaderSentiment) (2.25.1)\n",
            "Requirement already satisfied: chardet<5,>=3.0.2 in /usr/local/lib/python3.9/dist-packages (from requests->vaderSentiment) (4.0.0)\n",
            "Requirement already satisfied: idna<3,>=2.5 in /usr/local/lib/python3.9/dist-packages (from requests->vaderSentiment) (2.10)\n",
            "Requirement already satisfied: certifi>=2017.4.17 in /usr/local/lib/python3.9/dist-packages (from requests->vaderSentiment) (2022.12.7)\n",
            "Requirement already satisfied: urllib3<1.27,>=1.21.1 in /usr/local/lib/python3.9/dist-packages (from requests->vaderSentiment) (1.26.14)\n",
            "\u001b[33mWARNING: Running pip as the 'root' user can result in broken permissions and conflicting behaviour with the system package manager. It is recommended to use a virtual environment instead: https://pip.pypa.io/warnings/venv\u001b[0m\u001b[33m\n",
            "\u001b[0m"
          ]
        }
      ],
      "source": [
        "!pip install vaderSentiment"
      ]
    },
    {
      "cell_type": "code",
      "execution_count": null,
      "metadata": {
        "colab": {
          "base_uri": "https://localhost:8080/"
        },
        "id": "2xMI8SMhqqMT",
        "outputId": "e4fa58f2-dcc3-4ca1-ac72-777f984a650c"
      },
      "outputs": [
        {
          "output_type": "stream",
          "name": "stdout",
          "text": [
            "Looking in indexes: https://pypi.org/simple, https://us-python.pkg.dev/colab-wheels/public/simple/\n",
            "Requirement already satisfied: textblob in /usr/local/lib/python3.9/dist-packages (0.15.3)\n",
            "Requirement already satisfied: nltk>=3.1 in /usr/local/lib/python3.9/dist-packages (from textblob) (3.7)\n",
            "Requirement already satisfied: regex>=2021.8.3 in /usr/local/lib/python3.9/dist-packages (from nltk>=3.1->textblob) (2022.6.2)\n",
            "Requirement already satisfied: click in /usr/local/lib/python3.9/dist-packages (from nltk>=3.1->textblob) (8.1.3)\n",
            "Requirement already satisfied: joblib in /usr/local/lib/python3.9/dist-packages (from nltk>=3.1->textblob) (1.2.0)\n",
            "Requirement already satisfied: tqdm in /usr/local/lib/python3.9/dist-packages (from nltk>=3.1->textblob) (4.65.0)\n",
            "\u001b[33mWARNING: Running pip as the 'root' user can result in broken permissions and conflicting behaviour with the system package manager. It is recommended to use a virtual environment instead: https://pip.pypa.io/warnings/venv\u001b[0m\u001b[33m\n",
            "\u001b[0m"
          ]
        }
      ],
      "source": [
        "!pip install textblob "
      ]
    },
    {
      "cell_type": "markdown",
      "metadata": {
        "id": "73h97u_xPNKn"
      },
      "source": [
        "# Importation"
      ]
    },
    {
      "cell_type": "code",
      "execution_count": null,
      "metadata": {
        "id": "Q1d8S_sEaBR0"
      },
      "outputs": [],
      "source": [
        "import pandas as pd\n",
        "\n",
        "from transformers import AutoTokenizer, TFAutoModelForSequenceClassification\n",
        "from transformers import pipeline\n",
        "import numpy as np\n",
        "\n",
        "from deep_translator import GoogleTranslator, MyMemoryTranslator \n",
        "#There is a DeepL class but with limited requests\n",
        "from happytransformer import HappyTextToText\n",
        "from vaderSentiment.vaderSentiment import SentimentIntensityAnalyzer\n",
        "from textblob import TextBlob\n",
        "from transformers import BertTokenizer, BertForSequenceClassification\n",
        "from transformers import pipeline\n",
        "\n",
        "from datetime import datetime, date, timedelta"
      ]
    },
    {
      "cell_type": "code",
      "execution_count": null,
      "metadata": {
        "id": "W1pTB3thaWh_"
      },
      "outputs": [],
      "source": [
        "dataset = pd.read_csv(\"dataset.csv\", index_col = 0)"
      ]
    },
    {
      "cell_type": "code",
      "execution_count": null,
      "metadata": {
        "colab": {
          "base_uri": "https://localhost:8080/"
        },
        "id": "eskm29l8acHw",
        "outputId": "2003dd0e-80c4-4847-bca9-9d83555c1f0f"
      },
      "outputs": [
        {
          "output_type": "execute_result",
          "data": {
            "text/plain": [
              "                                              headlines  \\\n",
              "0     Chine : bond de l'activité dans les services e...   \n",
              "1     Accident de Vega : le CNES demande des comptes...   \n",
              "2     Avec un résultat d'exploitation ajusté de 1,51...   \n",
              "3     Les 5 infos business à retenir ce vendredi mat...   \n",
              "4     L'Etat au chevet de l'industrie agroalimentair...   \n",
              "...                                                 ...   \n",
              "2854       LVMH révise encore ses ambitions à la baisse   \n",
              "2855     L'engouement pour LVMH n'est plus aussi massif   \n",
              "2856   Les profits de LVMH ont reculé de 19,5 % en 1992   \n",
              "2857                        Luxe: LVMH sans les Vuitton   \n",
              "2858                   LVMH: les Vuitton se désengagent   \n",
              "\n",
              "                                            newsflashes       dates  \\\n",
              "0     PEKIN, 3 mars (Reuters) - L'activité dans le s...  03/03/2023   \n",
              "1     L'enquête technique menée par l'Agence spatial...  03/03/2023   \n",
              "2     Lufthansa a enregistré des résultats en ligne ...  03/03/2023   \n",
              "3     La Tribune a sélectionné pour vous les cinq pr...  03/03/2023   \n",
              "4     Le gouvernement va présenter ce vendredi un pl...  03/03/2023   \n",
              "...                                                 ...         ...   \n",
              "2854  Six ans après être entré dans le capital de LV...  21/01/1994   \n",
              "2855  Le numéro un du luxe, le groupe LVMH, vient de...  29/11/1993   \n",
              "2856  Le numéro un mondial du luxe annonce un bénéfi...  13/01/1993   \n",
              "2857  Bernard Arnault face à Henry Racamier. Le face...  26/11/1991   \n",
              "2858  VIG a vendu à la banque américaine Goldman Sac...  25/03/1991   \n",
              "\n",
              "                                                  links company_name  \n",
              "0     https://investir.lesechos.fr/marches-indices/e...       airbus  \n",
              "1     https://www.lesechos.fr/industrie-services/air...       airbus  \n",
              "2     https://www.latribune.fr/entreprises-finance/s...       airbus  \n",
              "3     https://www.latribune.fr/economie/les-5-infos-...       airbus  \n",
              "4     https://www.latribune.fr/entreprises-finance/i...       airbus  \n",
              "...                                                 ...          ...  \n",
              "2854  https://www.lesechos.fr/1994/01/arnault-renfor...         lvmh  \n",
              "2855  https://www.lesechos.fr/1993/11/lvmh-rachete-i...         lvmh  \n",
              "2856  https://www.lesechos.fr/1993/01/les-profits-de...         lvmh  \n",
              "2857  https://www.lesechos.fr/1991/11/luxe-lvmh-sans...         lvmh  \n",
              "2858  https://www.lesechos.fr/1991/03/lvmh-les-vuitt...         lvmh  \n",
              "\n",
              "[2859 rows x 5 columns]"
            ],
            "text/html": [
              "\n",
              "  <div id=\"df-0d1cdf32-3a57-4ffc-8607-b22969d02419\">\n",
              "    <div class=\"colab-df-container\">\n",
              "      <div>\n",
              "<style scoped>\n",
              "    .dataframe tbody tr th:only-of-type {\n",
              "        vertical-align: middle;\n",
              "    }\n",
              "\n",
              "    .dataframe tbody tr th {\n",
              "        vertical-align: top;\n",
              "    }\n",
              "\n",
              "    .dataframe thead th {\n",
              "        text-align: right;\n",
              "    }\n",
              "</style>\n",
              "<table border=\"1\" class=\"dataframe\">\n",
              "  <thead>\n",
              "    <tr style=\"text-align: right;\">\n",
              "      <th></th>\n",
              "      <th>headlines</th>\n",
              "      <th>newsflashes</th>\n",
              "      <th>dates</th>\n",
              "      <th>links</th>\n",
              "      <th>company_name</th>\n",
              "    </tr>\n",
              "  </thead>\n",
              "  <tbody>\n",
              "    <tr>\n",
              "      <th>0</th>\n",
              "      <td>Chine : bond de l'activité dans les services e...</td>\n",
              "      <td>PEKIN, 3 mars (Reuters) - L'activité dans le s...</td>\n",
              "      <td>03/03/2023</td>\n",
              "      <td>https://investir.lesechos.fr/marches-indices/e...</td>\n",
              "      <td>airbus</td>\n",
              "    </tr>\n",
              "    <tr>\n",
              "      <th>1</th>\n",
              "      <td>Accident de Vega : le CNES demande des comptes...</td>\n",
              "      <td>L'enquête technique menée par l'Agence spatial...</td>\n",
              "      <td>03/03/2023</td>\n",
              "      <td>https://www.lesechos.fr/industrie-services/air...</td>\n",
              "      <td>airbus</td>\n",
              "    </tr>\n",
              "    <tr>\n",
              "      <th>2</th>\n",
              "      <td>Avec un résultat d'exploitation ajusté de 1,51...</td>\n",
              "      <td>Lufthansa a enregistré des résultats en ligne ...</td>\n",
              "      <td>03/03/2023</td>\n",
              "      <td>https://www.latribune.fr/entreprises-finance/s...</td>\n",
              "      <td>airbus</td>\n",
              "    </tr>\n",
              "    <tr>\n",
              "      <th>3</th>\n",
              "      <td>Les 5 infos business à retenir ce vendredi mat...</td>\n",
              "      <td>La Tribune a sélectionné pour vous les cinq pr...</td>\n",
              "      <td>03/03/2023</td>\n",
              "      <td>https://www.latribune.fr/economie/les-5-infos-...</td>\n",
              "      <td>airbus</td>\n",
              "    </tr>\n",
              "    <tr>\n",
              "      <th>4</th>\n",
              "      <td>L'Etat au chevet de l'industrie agroalimentair...</td>\n",
              "      <td>Le gouvernement va présenter ce vendredi un pl...</td>\n",
              "      <td>03/03/2023</td>\n",
              "      <td>https://www.latribune.fr/entreprises-finance/i...</td>\n",
              "      <td>airbus</td>\n",
              "    </tr>\n",
              "    <tr>\n",
              "      <th>...</th>\n",
              "      <td>...</td>\n",
              "      <td>...</td>\n",
              "      <td>...</td>\n",
              "      <td>...</td>\n",
              "      <td>...</td>\n",
              "    </tr>\n",
              "    <tr>\n",
              "      <th>2854</th>\n",
              "      <td>LVMH révise encore ses ambitions à la baisse</td>\n",
              "      <td>Six ans après être entré dans le capital de LV...</td>\n",
              "      <td>21/01/1994</td>\n",
              "      <td>https://www.lesechos.fr/1994/01/arnault-renfor...</td>\n",
              "      <td>lvmh</td>\n",
              "    </tr>\n",
              "    <tr>\n",
              "      <th>2855</th>\n",
              "      <td>L'engouement pour LVMH n'est plus aussi massif</td>\n",
              "      <td>Le numéro un du luxe, le groupe LVMH, vient de...</td>\n",
              "      <td>29/11/1993</td>\n",
              "      <td>https://www.lesechos.fr/1993/11/lvmh-rachete-i...</td>\n",
              "      <td>lvmh</td>\n",
              "    </tr>\n",
              "    <tr>\n",
              "      <th>2856</th>\n",
              "      <td>Les profits de LVMH ont reculé de 19,5 % en 1992</td>\n",
              "      <td>Le numéro un mondial du luxe annonce un bénéfi...</td>\n",
              "      <td>13/01/1993</td>\n",
              "      <td>https://www.lesechos.fr/1993/01/les-profits-de...</td>\n",
              "      <td>lvmh</td>\n",
              "    </tr>\n",
              "    <tr>\n",
              "      <th>2857</th>\n",
              "      <td>Luxe: LVMH sans les Vuitton</td>\n",
              "      <td>Bernard Arnault face à Henry Racamier. Le face...</td>\n",
              "      <td>26/11/1991</td>\n",
              "      <td>https://www.lesechos.fr/1991/11/luxe-lvmh-sans...</td>\n",
              "      <td>lvmh</td>\n",
              "    </tr>\n",
              "    <tr>\n",
              "      <th>2858</th>\n",
              "      <td>LVMH: les Vuitton se désengagent</td>\n",
              "      <td>VIG a vendu à la banque américaine Goldman Sac...</td>\n",
              "      <td>25/03/1991</td>\n",
              "      <td>https://www.lesechos.fr/1991/03/lvmh-les-vuitt...</td>\n",
              "      <td>lvmh</td>\n",
              "    </tr>\n",
              "  </tbody>\n",
              "</table>\n",
              "<p>2859 rows × 5 columns</p>\n",
              "</div>\n",
              "      <button class=\"colab-df-convert\" onclick=\"convertToInteractive('df-0d1cdf32-3a57-4ffc-8607-b22969d02419')\"\n",
              "              title=\"Convert this dataframe to an interactive table.\"\n",
              "              style=\"display:none;\">\n",
              "        \n",
              "  <svg xmlns=\"http://www.w3.org/2000/svg\" height=\"24px\"viewBox=\"0 0 24 24\"\n",
              "       width=\"24px\">\n",
              "    <path d=\"M0 0h24v24H0V0z\" fill=\"none\"/>\n",
              "    <path d=\"M18.56 5.44l.94 2.06.94-2.06 2.06-.94-2.06-.94-.94-2.06-.94 2.06-2.06.94zm-11 1L8.5 8.5l.94-2.06 2.06-.94-2.06-.94L8.5 2.5l-.94 2.06-2.06.94zm10 10l.94 2.06.94-2.06 2.06-.94-2.06-.94-.94-2.06-.94 2.06-2.06.94z\"/><path d=\"M17.41 7.96l-1.37-1.37c-.4-.4-.92-.59-1.43-.59-.52 0-1.04.2-1.43.59L10.3 9.45l-7.72 7.72c-.78.78-.78 2.05 0 2.83L4 21.41c.39.39.9.59 1.41.59.51 0 1.02-.2 1.41-.59l7.78-7.78 2.81-2.81c.8-.78.8-2.07 0-2.86zM5.41 20L4 18.59l7.72-7.72 1.47 1.35L5.41 20z\"/>\n",
              "  </svg>\n",
              "      </button>\n",
              "      \n",
              "  <style>\n",
              "    .colab-df-container {\n",
              "      display:flex;\n",
              "      flex-wrap:wrap;\n",
              "      gap: 12px;\n",
              "    }\n",
              "\n",
              "    .colab-df-convert {\n",
              "      background-color: #E8F0FE;\n",
              "      border: none;\n",
              "      border-radius: 50%;\n",
              "      cursor: pointer;\n",
              "      display: none;\n",
              "      fill: #1967D2;\n",
              "      height: 32px;\n",
              "      padding: 0 0 0 0;\n",
              "      width: 32px;\n",
              "    }\n",
              "\n",
              "    .colab-df-convert:hover {\n",
              "      background-color: #E2EBFA;\n",
              "      box-shadow: 0px 1px 2px rgba(60, 64, 67, 0.3), 0px 1px 3px 1px rgba(60, 64, 67, 0.15);\n",
              "      fill: #174EA6;\n",
              "    }\n",
              "\n",
              "    [theme=dark] .colab-df-convert {\n",
              "      background-color: #3B4455;\n",
              "      fill: #D2E3FC;\n",
              "    }\n",
              "\n",
              "    [theme=dark] .colab-df-convert:hover {\n",
              "      background-color: #434B5C;\n",
              "      box-shadow: 0px 1px 3px 1px rgba(0, 0, 0, 0.15);\n",
              "      filter: drop-shadow(0px 1px 2px rgba(0, 0, 0, 0.3));\n",
              "      fill: #FFFFFF;\n",
              "    }\n",
              "  </style>\n",
              "\n",
              "      <script>\n",
              "        const buttonEl =\n",
              "          document.querySelector('#df-0d1cdf32-3a57-4ffc-8607-b22969d02419 button.colab-df-convert');\n",
              "        buttonEl.style.display =\n",
              "          google.colab.kernel.accessAllowed ? 'block' : 'none';\n",
              "\n",
              "        async function convertToInteractive(key) {\n",
              "          const element = document.querySelector('#df-0d1cdf32-3a57-4ffc-8607-b22969d02419');\n",
              "          const dataTable =\n",
              "            await google.colab.kernel.invokeFunction('convertToInteractive',\n",
              "                                                     [key], {});\n",
              "          if (!dataTable) return;\n",
              "\n",
              "          const docLinkHtml = 'Like what you see? Visit the ' +\n",
              "            '<a target=\"_blank\" href=https://colab.research.google.com/notebooks/data_table.ipynb>data table notebook</a>'\n",
              "            + ' to learn more about interactive tables.';\n",
              "          element.innerHTML = '';\n",
              "          dataTable['output_type'] = 'display_data';\n",
              "          await google.colab.output.renderOutput(dataTable, element);\n",
              "          const docLink = document.createElement('div');\n",
              "          docLink.innerHTML = docLinkHtml;\n",
              "          element.appendChild(docLink);\n",
              "        }\n",
              "      </script>\n",
              "    </div>\n",
              "  </div>\n",
              "  "
            ]
          },
          "metadata": {},
          "execution_count": 205
        }
      ],
      "source": [
        "dataset"
      ]
    },
    {
      "cell_type": "code",
      "execution_count": null,
      "metadata": {
        "colab": {
          "base_uri": "https://localhost:8080/"
        },
        "id": "G4i3BXmM9Tg4",
        "outputId": "44c719d6-f59d-4a25-d7bc-ee59948c3586"
      },
      "outputs": [
        {
          "output_type": "stream",
          "name": "stdout",
          "text": [
            "<class 'pandas.core.frame.DataFrame'>\n",
            "Int64Index: 2859 entries, 0 to 2858\n",
            "Data columns (total 5 columns):\n",
            " #   Column        Non-Null Count  Dtype \n",
            "---  ------        --------------  ----- \n",
            " 0   headlines     2859 non-null   object\n",
            " 1   newsflashes   2760 non-null   object\n",
            " 2   dates         2859 non-null   object\n",
            " 3   links         2859 non-null   object\n",
            " 4   company_name  2859 non-null   object\n",
            "dtypes: object(5)\n",
            "memory usage: 134.0+ KB\n"
          ]
        }
      ],
      "source": [
        "dataset.info()"
      ]
    },
    {
      "cell_type": "code",
      "execution_count": null,
      "metadata": {
        "id": "dIHlDlKQ9y7b"
      },
      "outputs": [],
      "source": [
        "for i in range (len(dataset[\"newsflashes\"])):\n",
        "  if str(dataset[\"newsflashes\"][i]) == \"nan\":\n",
        "    dataset[\"newsflashes\"][i] = dataset[\"headlines\"][i]"
      ]
    },
    {
      "cell_type": "code",
      "execution_count": null,
      "metadata": {
        "colab": {
          "base_uri": "https://localhost:8080/"
        },
        "id": "UtSfFyFz_uDA",
        "outputId": "374627cc-0968-41b7-f8a9-b0fc43b82a63"
      },
      "outputs": [
        {
          "output_type": "stream",
          "name": "stdout",
          "text": [
            "<class 'pandas.core.frame.DataFrame'>\n",
            "Int64Index: 2859 entries, 0 to 2858\n",
            "Data columns (total 5 columns):\n",
            " #   Column        Non-Null Count  Dtype \n",
            "---  ------        --------------  ----- \n",
            " 0   headlines     2859 non-null   object\n",
            " 1   newsflashes   2859 non-null   object\n",
            " 2   dates         2859 non-null   object\n",
            " 3   links         2859 non-null   object\n",
            " 4   company_name  2859 non-null   object\n",
            "dtypes: object(5)\n",
            "memory usage: 198.6+ KB\n"
          ]
        }
      ],
      "source": [
        "dataset.info()"
      ]
    },
    {
      "cell_type": "markdown",
      "metadata": {
        "id": "sePAkz0rPesh"
      },
      "source": [
        "# French sentiment analysis\n",
        "(https://github.com/TheophileBlard/french-sentiment-analysis-with-bert)"
      ]
    },
    {
      "cell_type": "code",
      "execution_count": null,
      "metadata": {
        "colab": {
          "base_uri": "https://localhost:8080/"
        },
        "id": "zjeZT3dppq2s",
        "outputId": "46059816-8f71-4c76-8cc8-9be4961f7770"
      },
      "outputs": [
        {
          "output_type": "stream",
          "name": "stderr",
          "text": [
            "All model checkpoint layers were used when initializing TFCamembertForSequenceClassification.\n",
            "\n",
            "All the layers of TFCamembertForSequenceClassification were initialized from the model checkpoint at tblard/tf-allocine.\n",
            "If your task is similar to the task the model of the checkpoint was trained on, you can already use TFCamembertForSequenceClassification for predictions without further training.\n"
          ]
        }
      ],
      "source": [
        "tokenizer = AutoTokenizer.from_pretrained(\"tblard/tf-allocine\")\n",
        "model = TFAutoModelForSequenceClassification.from_pretrained(\"tblard/tf-allocine\")\n",
        "\n",
        "nlp = pipeline('sentiment-analysis', model=model, tokenizer=tokenizer)"
      ]
    },
    {
      "cell_type": "code",
      "execution_count": null,
      "metadata": {
        "id": "KQk-e-oDSW2e"
      },
      "outputs": [],
      "source": [
        "headlines = dataset[\"headlines\"]\n",
        "newsflashes = dataset[\"newsflashes\"]"
      ]
    },
    {
      "cell_type": "code",
      "execution_count": null,
      "metadata": {
        "colab": {
          "base_uri": "https://localhost:8080/"
        },
        "id": "bGPPkOv6ShWg",
        "outputId": "aab2e677-2b92-412b-a4eb-131e9dca4670"
      },
      "outputs": [
        {
          "output_type": "execute_result",
          "data": {
            "text/plain": [
              "0    Chine : bond de l'activité dans les services e...\n",
              "1    Accident de Vega : le CNES demande des comptes...\n",
              "2    Avec un résultat d'exploitation ajusté de 1,51...\n",
              "3    Les 5 infos business à retenir ce vendredi mat...\n",
              "4    L'Etat au chevet de l'industrie agroalimentair...\n",
              "Name: headlines, dtype: object"
            ]
          },
          "metadata": {},
          "execution_count": 211
        }
      ],
      "source": [
        "headlines.head()"
      ]
    },
    {
      "cell_type": "code",
      "execution_count": null,
      "metadata": {
        "colab": {
          "base_uri": "https://localhost:8080/"
        },
        "id": "C8XOV0DnSjSd",
        "outputId": "22b11281-caf9-4d82-fc85-405d87a83a48"
      },
      "outputs": [
        {
          "output_type": "execute_result",
          "data": {
            "text/plain": [
              "0    PEKIN, 3 mars (Reuters) - L'activité dans le s...\n",
              "1    L'enquête technique menée par l'Agence spatial...\n",
              "2    Lufthansa a enregistré des résultats en ligne ...\n",
              "3    La Tribune a sélectionné pour vous les cinq pr...\n",
              "4    Le gouvernement va présenter ce vendredi un pl...\n",
              "Name: newsflashes, dtype: object"
            ]
          },
          "metadata": {},
          "execution_count": 212
        }
      ],
      "source": [
        "newsflashes.head()"
      ]
    },
    {
      "cell_type": "code",
      "execution_count": null,
      "metadata": {
        "id": "5DH5-QWzKm_T"
      },
      "outputs": [],
      "source": [
        "def fr_sentiment_analysis(column, n = None):\n",
        "  sentiments = []\n",
        "  if n == None:\n",
        "    for col in column:\n",
        "      sentiment = nlp(col[:513])\n",
        "      #print(col, sentiment)\n",
        "      if sentiment[0][\"label\"] == \"POSITIVE\":\n",
        "        sentiments.append(np.float64(1))\n",
        "      elif sentiment[0][\"label\"] == \"NEGATIVE\":\n",
        "        sentiments.append(np.float64(-1))\n",
        "  else:\n",
        "    for col in column[:n]:\n",
        "      sentiment = nlp(col[:513])\n",
        "      #print(col, sentiment)\n",
        "      if sentiment[0][\"label\"] == \"POSITIVE\":\n",
        "        sentiments.append(np.float64(1))\n",
        "      elif sentiment[0][\"label\"] == \"NEGATIVE\":\n",
        "        sentiments.append(np.float64(-1))\n",
        "  return sentiments"
      ]
    },
    {
      "cell_type": "code",
      "execution_count": null,
      "metadata": {
        "colab": {
          "base_uri": "https://localhost:8080/"
        },
        "id": "x6yP_gl6UoEV",
        "outputId": "cdd74d67-657c-46f4-929c-0a16873a7dcb"
      },
      "outputs": [
        {
          "output_type": "execute_result",
          "data": {
            "text/plain": [
              "[1.0, 1.0, -1.0, 1.0, -1.0, 1.0, -1.0, 1.0, -1.0, 1.0]"
            ]
          },
          "metadata": {},
          "execution_count": 214
        }
      ],
      "source": [
        "fr_sentiment_analysis(headlines, 10)"
      ]
    },
    {
      "cell_type": "markdown",
      "metadata": {
        "id": "BUMFNNtNa7RW"
      },
      "source": [
        "The French sentiment analysis does some mistakes. For example, it judges the following statement: 'Avec un résultat d'exploitation ajusté de 1,51 milliard d'euro en 2022, \"Lufthansa est de retour\"' as \"NEGATIVE\", whereas it's positive.\n",
        "In general, those sentiment analyses got low scores. There might be explained by two reasons: \n",
        "- The model was not not trained on financial news.\n",
        "- There is not enough text.     "
      ]
    },
    {
      "cell_type": "code",
      "execution_count": null,
      "metadata": {
        "colab": {
          "base_uri": "https://localhost:8080/"
        },
        "id": "CyuJC9_MUtOO",
        "outputId": "0fbc6b40-93bb-4362-b03a-40188dfec539"
      },
      "outputs": [
        {
          "output_type": "execute_result",
          "data": {
            "text/plain": [
              "[1.0, -1.0, 1.0, 1.0, 1.0, 1.0, -1.0, 1.0, 1.0, 1.0]"
            ]
          },
          "metadata": {},
          "execution_count": 215
        }
      ],
      "source": [
        "fr_sentiment_analysis(newsflashes, 10)"
      ]
    },
    {
      "cell_type": "markdown",
      "metadata": {
        "id": "ICCzIkojdPKB"
      },
      "source": [
        "The previous statement has been judged correctly even if some mistakes remain. For example, both of the headline and newsflash related to the sea progress is regarded as \"POSITIVE\" while it is definitely negative.\n",
        "Compared to the headlines and although some remain low, scores are quite better. As thought previously, that might be because of more text."
      ]
    },
    {
      "cell_type": "code",
      "execution_count": null,
      "metadata": {
        "colab": {
          "base_uri": "https://localhost:8080/"
        },
        "id": "9gaJgoaPj338",
        "outputId": "c352cf24-6679-48ea-da76-13208f55acaf"
      },
      "outputs": [
        {
          "output_type": "stream",
          "name": "stdout",
          "text": [
            "Accident de Vega : le CNES demande des comptes à l'agence spatiale européenne  1.0\n",
            "L'enquête technique menée par l'Agence spatiale européenne à propos de l'accident de la fusée italienne Vega C ne satisfait pas l'agence spatiale française. Elle demande une révision profonde du management des projets à l'ESA. En France, les acteurs industriels et institutionnels souhaitent profiter la crise spatiale européenne pour reposer les bases d'une saine coopération. -1.0\n",
            "\n",
            "\n",
            "Avec un résultat d'exploitation ajusté de 1,51 milliard d'euro en 2022, « Lufthansa est de retour » -1.0\n",
            "Lufthansa a enregistré des résultats en ligne avec les attentes. Son bénéfice net est ressorti à 791 millions d'euros l'an dernier, contre une perte de 2,19 milliards d'euros un an plus tôt. Quant au résultat net, il est sensiblement identique aux 728 millions affichés par le concurrent Air France-KLM. « Lufthansa est de retour », avec un « redressement financier sans précédent » opéré en un an, s'est félicité Carsten Spohr, PDG de l'entreprise. 1.0\n",
            "\n",
            "\n",
            "L'Etat au chevet de l'industrie agroalimentaire avec un plan de soutien de 500 millions d'euros -1.0\n",
            "Le gouvernement va présenter ce vendredi un plan de soutien à l'industrie agroalimentaire, avec des mesures d'urgence pour aider les entreprises à supporter la flambée de leurs coûts de production et des financements pour accélérer leur modernisation. Les ministres de l'Industrie et de l'Agriculture, Roland Lescure et Marc Fesneau, en préciseront les contours au Salon de l'agriculture. Le tout sur fond de négociations tendues entre la grande distribution et les industriels. 1.0\n",
            "\n",
            "\n",
            "Pourquoi Airbus en pince vraiment pour Evidian -1.0\n",
            "Evidian, c'est carrément évident pour Airbus sur le plan stratégique. A condition de conclure un accord stratégique qui permette à l'avenir aux deux groupes de présenter des offres conjointes sur l'ensemble du périmètre d'Evidian et de partager des synergies de développements et d’infrastructures. 1.0\n",
            "\n",
            "\n"
          ]
        }
      ],
      "source": [
        "headlines_sentiments = fr_sentiment_analysis(headlines, 10)\n",
        "newsflashes_sentiments = fr_sentiment_analysis(newsflashes, 10)\n",
        "\n",
        "for i in range (len(headlines_sentiments)):\n",
        "  if headlines_sentiments[i] != newsflashes_sentiments[i]:\n",
        "    print(headlines[i], headlines_sentiments[i])\n",
        "    print(newsflashes[i], newsflashes_sentiments[i])\n",
        "    print(\"\\n\")"
      ]
    },
    {
      "cell_type": "markdown",
      "metadata": {
        "id": "nw4SwqL3psQC"
      },
      "source": [
        "The sentiment analysis based on newsflahses works better, as illustrated by both scores. "
      ]
    },
    {
      "cell_type": "markdown",
      "metadata": {
        "id": "Io9tJE5Puyj6"
      },
      "source": [
        "The main negative point of that French sentiment analysis is that it is either \"POSITIVE\" or \"NEGATIVE\"."
      ]
    },
    {
      "cell_type": "markdown",
      "metadata": {
        "id": "EJI-tZk1ElE9"
      },
      "source": [
        "# English sentiment analysis"
      ]
    },
    {
      "cell_type": "code",
      "execution_count": null,
      "metadata": {
        "id": "ge6XocqcLcop"
      },
      "outputs": [],
      "source": [
        "def translation(model, column):\n",
        "  L = []\n",
        "  for col in column[:10]:\n",
        "    if model == \"google\":\n",
        "      translated = GoogleTranslator(source='fr', target='en').translate(col)\n",
        "      L.append(translated)\n",
        "      #print(translated)\n",
        "    elif model == \"mymemory\":\n",
        "      translated = MyMemoryTranslator(source=\"fr\", target=\"en\").translate(text=col)\n",
        "      L.append(translated)\n",
        "      #print(translated)\n",
        "    elif model == \"happy\":\n",
        "      happy_tt = HappyTextToText(\"MARIAN\", \"Helsinki-NLP/opus-mt-fr-en\")\n",
        "      translated = happy_tt.generate_text(col).text\n",
        "      L.append(translated)\n",
        "      #print(translated)\n",
        "  return L"
      ]
    },
    {
      "cell_type": "code",
      "execution_count": null,
      "metadata": {
        "colab": {
          "base_uri": "https://localhost:8080/"
        },
        "id": "h__brRbcUC4D",
        "outputId": "d1887413-c73d-4fb7-9905-e4d25f1253d2"
      },
      "outputs": [
        {
          "output_type": "execute_result",
          "data": {
            "text/plain": [
              "['China: jump in activity in services in February, according to Caixin',\n",
              " 'Vega accident: CNES demands accountability from the European Space Agency',\n",
              " 'With an adjusted operating profit of 1.51 billion euros in 2022, “Lufthansa is back”',\n",
              " 'The 5 business news to remember this Friday morning (Lufthansa, nuclear, Vega-C, agri-food, TikTok)',\n",
              " 'The State at the bedside of the agri-food industry with a support plan of 500 million euros',\n",
              " 'In Normandy, the advance of the sea places the municipalities at the foot of the wall',\n",
              " 'For Elisabeth Borne, the relaunch of nuclear power must secure \"electricity supply needs\"',\n",
              " 'In the United States, TikTok will soon be as watched every day as Netflix',\n",
              " 'Why Airbus really has a crush on Evidian',\n",
              " 'Apple invests an additional billion euros in Munich']"
            ]
          },
          "metadata": {},
          "execution_count": 218
        }
      ],
      "source": [
        "translation(\"google\", headlines)"
      ]
    },
    {
      "cell_type": "code",
      "execution_count": null,
      "metadata": {
        "colab": {
          "base_uri": "https://localhost:8080/"
        },
        "id": "LVBhnSURUIQ0",
        "outputId": "bf76fd98-8077-42af-b7e0-19f4cbb6792d"
      },
      "outputs": [
        {
          "output_type": "execute_result",
          "data": {
            "text/plain": [
              "['China: services activity surges in February, according to Caixin',\n",
              " 'Vega accident: CNES calls the European Space Agency to account',\n",
              " 'With adjusted operating income of €1.51 billion in 2022, “Lufthansa is back”',\n",
              " 'The 5 business infos to remember this Friday morning (Lufthansa, nuclear, Vega-C, agribusiness, TikTok)',\n",
              " 'The State at the bedside of the agri-food industry with a support plan of 500 million euros',\n",
              " 'In Normandy, the advance  of the sea places the communes at the foot of the wall',\n",
              " 'For Elisabeth Borne, the relaunch of nuclear power must secure “the needs of electricity supply”',\n",
              " 'In the US, TikTok will soon be as much watched every day as Netflix',\n",
              " 'Why Airbus really likes Evidian',\n",
              " 'Apple invests an additional €1 billion in Munich']"
            ]
          },
          "metadata": {},
          "execution_count": 219
        }
      ],
      "source": [
        "translation(\"mymemory\", headlines)"
      ]
    },
    {
      "cell_type": "code",
      "execution_count": null,
      "metadata": {
        "colab": {
          "base_uri": "https://localhost:8080/"
        },
        "id": "evdbXZGDFqhd",
        "outputId": "1c1f470e-383d-45a0-bef2-907901e8da0b"
      },
      "outputs": [
        {
          "output_type": "stream",
          "name": "stderr",
          "text": [
            "/usr/local/lib/python3.9/dist-packages/transformers/models/marian/tokenization_marian.py:194: UserWarning: Recommended: pip install sacremoses.\n",
            "  warnings.warn(\"Recommended: pip install sacremoses.\")\n"
          ]
        },
        {
          "output_type": "execute_result",
          "data": {
            "text/plain": [
              "['China: services activity jumped in February, according to Caixin',\n",
              " 'Vega accident: CNES asks European Space Agency for accounts',\n",
              " 'With an adjusted operating result of 1,51 billion euros in 2022, \"Lufthansa is back\"',\n",
              " 'The 5 business info to remember this Friday morning (Lufthansa, nuclear, Vega-C, agri-food, TikTok)',\n",
              " 'The state at the bedside of the agri-food industry with a €500 million support plan',\n",
              " 'In Normandy, the advance of the sea places the communes at the foot of the wall',\n",
              " 'Elisabeth Borne says the reactivation of nuclear power must secure \"power supply needs\"',\n",
              " 'In the United States, TikTok soon as watched every day as Netflix',\n",
              " 'Why Airbus really pinch for Evidian?',\n",
              " 'Apple invests an additional EUR 1 billion in Munich']"
            ]
          },
          "metadata": {},
          "execution_count": 220
        }
      ],
      "source": [
        "translation(\"happy\", headlines)"
      ]
    },
    {
      "cell_type": "markdown",
      "metadata": {
        "id": "kbYZqNkLeVlQ"
      },
      "source": [
        "All the translations are quite similar.\n",
        "Let's test each of them to see which one is the best."
      ]
    },
    {
      "cell_type": "markdown",
      "metadata": {
        "id": "eZnZMuHnj02K"
      },
      "source": [
        "https://huggingface.co/ahmedrachid/FinancialBERT-Sentiment-Analysis"
      ]
    },
    {
      "cell_type": "code",
      "execution_count": null,
      "metadata": {
        "id": "wu83vTfv9nLk"
      },
      "outputs": [],
      "source": [
        "def en_sentiment_analysis(model, L):\n",
        "  for elt in L:\n",
        "    if model == \"vader\":\n",
        "      sia = SentimentIntensityAnalyzer()\n",
        "      result = sia.polarity_scores(elt)\n",
        "      print(elt, result)\n",
        "    elif model == \"textblob\":\n",
        "      result = TextBlob(elt).sentiment.polarity\n",
        "      print(elt, result)\n",
        "    elif model == \"finbert\":\n",
        "      m = BertForSequenceClassification.from_pretrained(\"ahmedrachid/FinancialBERT-Sentiment-Analysis\",num_labels=3)\n",
        "      tokenizer = BertTokenizer.from_pretrained(\"ahmedrachid/FinancialBERT-Sentiment-Analysis\")\n",
        "      nlp = pipeline(\"sentiment-analysis\", model=m, tokenizer=tokenizer)\n",
        "      print(elt, nlp(elt))"
      ]
    },
    {
      "cell_type": "code",
      "execution_count": null,
      "metadata": {
        "id": "CCQUqiwABESB"
      },
      "outputs": [],
      "source": [
        "google_translations = translation(\"google\", headlines)\n",
        "mymemory_translations = translation(\"mymemory\", headlines)\n",
        "happy_translations = translation(\"happy\", headlines)"
      ]
    },
    {
      "cell_type": "code",
      "execution_count": null,
      "metadata": {
        "colab": {
          "base_uri": "https://localhost:8080/"
        },
        "id": "dmRQ3Zk_jby8",
        "outputId": "299cb81b-99b4-4b46-a819-f26d0431b4a4"
      },
      "outputs": [
        {
          "output_type": "stream",
          "name": "stdout",
          "text": [
            "China: jump in activity in services in February, according to Caixin {'neg': 0.0, 'neu': 1.0, 'pos': 0.0, 'compound': 0.0}\n",
            "Vega accident: CNES demands accountability from the European Space Agency {'neg': 0.256, 'neu': 0.744, 'pos': 0.0, 'compound': -0.4767}\n",
            "With an adjusted operating profit of 1.51 billion euros in 2022, “Lufthansa is back” {'neg': 0.0, 'neu': 0.818, 'pos': 0.182, 'compound': 0.4404}\n",
            "The 5 business news to remember this Friday morning (Lufthansa, nuclear, Vega-C, agri-food, TikTok) {'neg': 0.0, 'neu': 1.0, 'pos': 0.0, 'compound': 0.0}\n",
            "The State at the bedside of the agri-food industry with a support plan of 500 million euros {'neg': 0.0, 'neu': 0.856, 'pos': 0.144, 'compound': 0.4019}\n",
            "In Normandy, the advance of the sea places the municipalities at the foot of the wall {'neg': 0.0, 'neu': 1.0, 'pos': 0.0, 'compound': 0.0}\n",
            "For Elisabeth Borne, the relaunch of nuclear power must secure \"electricity supply needs\" {'neg': 0.0, 'neu': 0.833, 'pos': 0.167, 'compound': 0.34}\n",
            "In the United States, TikTok will soon be as watched every day as Netflix {'neg': 0.0, 'neu': 0.823, 'pos': 0.177, 'compound': 0.4215}\n",
            "Why Airbus really has a crush on Evidian {'neg': 0.21, 'neu': 0.79, 'pos': 0.0, 'compound': -0.2177}\n",
            "Apple invests an additional billion euros in Munich {'neg': 0.0, 'neu': 1.0, 'pos': 0.0, 'compound': 0.0}\n"
          ]
        }
      ],
      "source": [
        "en_sentiment_analysis(\"vader\", google_translations)"
      ]
    },
    {
      "cell_type": "code",
      "execution_count": null,
      "metadata": {
        "colab": {
          "base_uri": "https://localhost:8080/"
        },
        "id": "WDOAE0Hep58v",
        "outputId": "a2632d7c-bd79-4296-de62-7078f0136d30"
      },
      "outputs": [
        {
          "output_type": "stream",
          "name": "stdout",
          "text": [
            "China: services activity surges in February, according to Caixin {'neg': 0.0, 'neu': 1.0, 'pos': 0.0, 'compound': 0.0}\n",
            "Vega accident: CNES calls the European Space Agency to account {'neg': 0.256, 'neu': 0.744, 'pos': 0.0, 'compound': -0.4767}\n",
            "With adjusted operating income of €1.51 billion in 2022, “Lufthansa is back” {'neg': 0.0, 'neu': 1.0, 'pos': 0.0, 'compound': 0.0}\n",
            "The 5 business infos to remember this Friday morning (Lufthansa, nuclear, Vega-C, agribusiness, TikTok) {'neg': 0.0, 'neu': 1.0, 'pos': 0.0, 'compound': 0.0}\n",
            "The State at the bedside of the agri-food industry with a support plan of 500 million euros {'neg': 0.0, 'neu': 0.856, 'pos': 0.144, 'compound': 0.4019}\n",
            "In Normandy, the advance  of the sea places the communes at the foot of the wall {'neg': 0.0, 'neu': 1.0, 'pos': 0.0, 'compound': 0.0}\n",
            "For Elisabeth Borne, the relaunch of nuclear power must secure “the needs of electricity supply” {'neg': 0.0, 'neu': 0.854, 'pos': 0.146, 'compound': 0.34}\n",
            "In the US, TikTok will soon be as much watched every day as Netflix {'neg': 0.0, 'neu': 1.0, 'pos': 0.0, 'compound': 0.0}\n",
            "Why Airbus really likes Evidian {'neg': 0.0, 'neu': 0.564, 'pos': 0.436, 'compound': 0.4754}\n",
            "Apple invests an additional €1 billion in Munich {'neg': 0.0, 'neu': 1.0, 'pos': 0.0, 'compound': 0.0}\n"
          ]
        }
      ],
      "source": [
        "en_sentiment_analysis(\"vader\", mymemory_translations)"
      ]
    },
    {
      "cell_type": "code",
      "execution_count": null,
      "metadata": {
        "colab": {
          "base_uri": "https://localhost:8080/"
        },
        "id": "3CBGC3vop7XN",
        "outputId": "cf228a56-cc45-4545-ea45-31d9bccfe80a"
      },
      "outputs": [
        {
          "output_type": "stream",
          "name": "stdout",
          "text": [
            "China: services activity jumped in February, according to Caixin {'neg': 0.0, 'neu': 1.0, 'pos': 0.0, 'compound': 0.0}\n",
            "Vega accident: CNES asks European Space Agency for accounts {'neg': 0.279, 'neu': 0.721, 'pos': 0.0, 'compound': -0.4767}\n",
            "With an adjusted operating result of 1,51 billion euros in 2022, \"Lufthansa is back\" {'neg': 0.0, 'neu': 1.0, 'pos': 0.0, 'compound': 0.0}\n",
            "The 5 business info to remember this Friday morning (Lufthansa, nuclear, Vega-C, agri-food, TikTok) {'neg': 0.0, 'neu': 1.0, 'pos': 0.0, 'compound': 0.0}\n",
            "The state at the bedside of the agri-food industry with a €500 million support plan {'neg': 0.0, 'neu': 0.838, 'pos': 0.162, 'compound': 0.4019}\n",
            "In Normandy, the advance of the sea places the communes at the foot of the wall {'neg': 0.0, 'neu': 1.0, 'pos': 0.0, 'compound': 0.0}\n",
            "Elisabeth Borne says the reactivation of nuclear power must secure \"power supply needs\" {'neg': 0.0, 'neu': 0.833, 'pos': 0.167, 'compound': 0.34}\n",
            "In the United States, TikTok soon as watched every day as Netflix {'neg': 0.0, 'neu': 0.797, 'pos': 0.203, 'compound': 0.4215}\n",
            "Why Airbus really pinch for Evidian? {'neg': 0.0, 'neu': 1.0, 'pos': 0.0, 'compound': 0.0}\n",
            "Apple invests an additional EUR 1 billion in Munich {'neg': 0.0, 'neu': 1.0, 'pos': 0.0, 'compound': 0.0}\n"
          ]
        }
      ],
      "source": [
        "en_sentiment_analysis(\"vader\", happy_translations)"
      ]
    },
    {
      "cell_type": "code",
      "execution_count": null,
      "metadata": {
        "colab": {
          "base_uri": "https://localhost:8080/"
        },
        "id": "Txwd_iVJoxuh",
        "outputId": "6c6b427d-6d87-4118-bdce-986da71f24e3"
      },
      "outputs": [
        {
          "output_type": "stream",
          "name": "stdout",
          "text": [
            "China: jump in activity in services in February, according to Caixin 0.0\n",
            "Vega accident: CNES demands accountability from the European Space Agency 0.0\n",
            "With an adjusted operating profit of 1.51 billion euros in 2022, “Lufthansa is back” 0.0\n",
            "The 5 business news to remember this Friday morning (Lufthansa, nuclear, Vega-C, agri-food, TikTok) 0.0\n",
            "The State at the bedside of the agri-food industry with a support plan of 500 million euros 0.0\n",
            "In Normandy, the advance of the sea places the municipalities at the foot of the wall 0.0\n",
            "For Elisabeth Borne, the relaunch of nuclear power must secure \"electricity supply needs\" 0.4\n",
            "In the United States, TikTok will soon be as watched every day as Netflix 0.0\n",
            "Why Airbus really has a crush on Evidian 0.2\n",
            "Apple invests an additional billion euros in Munich 0.0\n"
          ]
        }
      ],
      "source": [
        "en_sentiment_analysis(\"textblob\", google_translations)"
      ]
    },
    {
      "cell_type": "code",
      "execution_count": null,
      "metadata": {
        "colab": {
          "base_uri": "https://localhost:8080/"
        },
        "id": "ehTepKvNp9oZ",
        "outputId": "392514fd-e24f-4db0-a3b1-a5d39924b414"
      },
      "outputs": [
        {
          "output_type": "stream",
          "name": "stdout",
          "text": [
            "China: services activity surges in February, according to Caixin 0.0\n",
            "Vega accident: CNES calls the European Space Agency to account 0.0\n",
            "With adjusted operating income of €1.51 billion in 2022, “Lufthansa is back” 0.0\n",
            "The 5 business infos to remember this Friday morning (Lufthansa, nuclear, Vega-C, agribusiness, TikTok) 0.0\n",
            "The State at the bedside of the agri-food industry with a support plan of 500 million euros 0.0\n",
            "In Normandy, the advance  of the sea places the communes at the foot of the wall 0.0\n",
            "For Elisabeth Borne, the relaunch of nuclear power must secure “the needs of electricity supply” 0.4\n",
            "In the US, TikTok will soon be as much watched every day as Netflix 0.2\n",
            "Why Airbus really likes Evidian 0.2\n",
            "Apple invests an additional €1 billion in Munich 0.0\n"
          ]
        }
      ],
      "source": [
        "en_sentiment_analysis(\"textblob\", mymemory_translations)"
      ]
    },
    {
      "cell_type": "code",
      "execution_count": null,
      "metadata": {
        "colab": {
          "base_uri": "https://localhost:8080/"
        },
        "id": "zqjqKI0Op_W5",
        "outputId": "69fae7c8-43bd-423c-a4b7-5639dac06be1"
      },
      "outputs": [
        {
          "output_type": "stream",
          "name": "stdout",
          "text": [
            "China: services activity jumped in February, according to Caixin 0.0\n",
            "Vega accident: CNES asks European Space Agency for accounts 0.0\n",
            "With an adjusted operating result of 1,51 billion euros in 2022, \"Lufthansa is back\" 0.0\n",
            "The 5 business info to remember this Friday morning (Lufthansa, nuclear, Vega-C, agri-food, TikTok) 0.0\n",
            "The state at the bedside of the agri-food industry with a €500 million support plan 0.0\n",
            "In Normandy, the advance of the sea places the communes at the foot of the wall 0.0\n",
            "Elisabeth Borne says the reactivation of nuclear power must secure \"power supply needs\" 0.4\n",
            "In the United States, TikTok soon as watched every day as Netflix 0.0\n",
            "Why Airbus really pinch for Evidian? 0.2\n",
            "Apple invests an additional EUR 1 billion in Munich 0.0\n"
          ]
        }
      ],
      "source": [
        "en_sentiment_analysis(\"textblob\", happy_translations)"
      ]
    },
    {
      "cell_type": "code",
      "execution_count": null,
      "metadata": {
        "colab": {
          "base_uri": "https://localhost:8080/"
        },
        "id": "7hOwFsZMBZ0K",
        "outputId": "113a665b-d98b-4a9a-af55-661ed75e6e0e"
      },
      "outputs": [
        {
          "output_type": "stream",
          "name": "stdout",
          "text": [
            "China: jump in activity in services in February, according to Caixin [{'label': 'positive', 'score': 0.9981837868690491}]\n",
            "Vega accident: CNES demands accountability from the European Space Agency [{'label': 'neutral', 'score': 0.9989081621170044}]\n",
            "With an adjusted operating profit of 1.51 billion euros in 2022, “Lufthansa is back” [{'label': 'neutral', 'score': 0.99455726146698}]\n",
            "The 5 business news to remember this Friday morning (Lufthansa, nuclear, Vega-C, agri-food, TikTok) [{'label': 'neutral', 'score': 0.9996834993362427}]\n",
            "The State at the bedside of the agri-food industry with a support plan of 500 million euros [{'label': 'neutral', 'score': 0.9998201727867126}]\n",
            "In Normandy, the advance of the sea places the municipalities at the foot of the wall [{'label': 'neutral', 'score': 0.9997209906578064}]\n",
            "For Elisabeth Borne, the relaunch of nuclear power must secure \"electricity supply needs\" [{'label': 'neutral', 'score': 0.99903404712677}]\n",
            "In the United States, TikTok will soon be as watched every day as Netflix [{'label': 'neutral', 'score': 0.9977335929870605}]\n",
            "Why Airbus really has a crush on Evidian [{'label': 'neutral', 'score': 0.9997027516365051}]\n",
            "Apple invests an additional billion euros in Munich [{'label': 'neutral', 'score': 0.9998117089271545}]\n"
          ]
        }
      ],
      "source": [
        "en_sentiment_analysis(\"finbert\", google_translations)"
      ]
    },
    {
      "cell_type": "code",
      "execution_count": null,
      "metadata": {
        "colab": {
          "base_uri": "https://localhost:8080/"
        },
        "id": "Ji9quk-ZBgVT",
        "outputId": "c705225b-8fc0-4e4e-dd0c-3bfc15fbe3ca"
      },
      "outputs": [
        {
          "output_type": "stream",
          "name": "stdout",
          "text": [
            "China: services activity surges in February, according to Caixin [{'label': 'positive', 'score': 0.9997366070747375}]\n",
            "Vega accident: CNES calls the European Space Agency to account [{'label': 'neutral', 'score': 0.9998089671134949}]\n",
            "With adjusted operating income of €1.51 billion in 2022, “Lufthansa is back” [{'label': 'neutral', 'score': 0.6671832203865051}]\n",
            "The 5 business infos to remember this Friday morning (Lufthansa, nuclear, Vega-C, agribusiness, TikTok) [{'label': 'neutral', 'score': 0.9996680021286011}]\n",
            "The State at the bedside of the agri-food industry with a support plan of 500 million euros [{'label': 'neutral', 'score': 0.9998201727867126}]\n",
            "In Normandy, the advance  of the sea places the communes at the foot of the wall [{'label': 'neutral', 'score': 0.9902423024177551}]\n",
            "For Elisabeth Borne, the relaunch of nuclear power must secure “the needs of electricity supply” [{'label': 'neutral', 'score': 0.9997063279151917}]\n",
            "In the US, TikTok will soon be as much watched every day as Netflix [{'label': 'neutral', 'score': 0.9976230263710022}]\n",
            "Why Airbus really likes Evidian [{'label': 'neutral', 'score': 0.9996316432952881}]\n",
            "Apple invests an additional €1 billion in Munich [{'label': 'neutral', 'score': 0.9998043179512024}]\n"
          ]
        }
      ],
      "source": [
        "en_sentiment_analysis(\"finbert\", mymemory_translations)"
      ]
    },
    {
      "cell_type": "code",
      "execution_count": null,
      "metadata": {
        "colab": {
          "base_uri": "https://localhost:8080/"
        },
        "id": "KVqhn2vKBg_X",
        "outputId": "470cd8d3-2e47-407e-b934-5b1478e325fe"
      },
      "outputs": [
        {
          "output_type": "stream",
          "name": "stdout",
          "text": [
            "China: services activity jumped in February, according to Caixin [{'label': 'positive', 'score': 0.9998694658279419}]\n",
            "Vega accident: CNES asks European Space Agency for accounts [{'label': 'neutral', 'score': 0.9998136162757874}]\n",
            "With an adjusted operating result of 1,51 billion euros in 2022, \"Lufthansa is back\" [{'label': 'neutral', 'score': 0.9912795424461365}]\n",
            "The 5 business info to remember this Friday morning (Lufthansa, nuclear, Vega-C, agri-food, TikTok) [{'label': 'neutral', 'score': 0.9997151494026184}]\n",
            "The state at the bedside of the agri-food industry with a €500 million support plan [{'label': 'neutral', 'score': 0.9997451901435852}]\n",
            "In Normandy, the advance of the sea places the communes at the foot of the wall [{'label': 'neutral', 'score': 0.9902423024177551}]\n",
            "Elisabeth Borne says the reactivation of nuclear power must secure \"power supply needs\" [{'label': 'neutral', 'score': 0.9658473134040833}]\n",
            "In the United States, TikTok soon as watched every day as Netflix [{'label': 'neutral', 'score': 0.9990100860595703}]\n",
            "Why Airbus really pinch for Evidian? [{'label': 'neutral', 'score': 0.9995542168617249}]\n",
            "Apple invests an additional EUR 1 billion in Munich [{'label': 'neutral', 'score': 0.9997993111610413}]\n"
          ]
        }
      ],
      "source": [
        "en_sentiment_analysis(\"finbert\", happy_translations)"
      ]
    },
    {
      "cell_type": "markdown",
      "metadata": {
        "id": "UNEGF5XVexu6"
      },
      "source": [
        "The English sentiment analysis doesn't work very well.\n",
        "Hence, I'll use the French one to complete the project.\n",
        "\n"
      ]
    },
    {
      "cell_type": "markdown",
      "metadata": {
        "id": "xyLIl__CyNE9"
      },
      "source": [
        "# Editing "
      ]
    },
    {
      "cell_type": "code",
      "execution_count": null,
      "metadata": {
        "colab": {
          "base_uri": "https://localhost:8080/"
        },
        "id": "CyIgTnkcsZyb",
        "outputId": "32d70fcb-51ed-4630-b32a-d831e507d459"
      },
      "outputs": [
        {
          "output_type": "execute_result",
          "data": {
            "text/plain": [
              "['airbus', 'engie', 'sanofi', 'bnp_paribas', 'lvmh']"
            ]
          },
          "metadata": {},
          "execution_count": 317
        }
      ],
      "source": [
        "list(set(dataset[\"company_name\"]))"
      ]
    },
    {
      "cell_type": "code",
      "execution_count": null,
      "metadata": {
        "id": "n3NNe6cPnQv_"
      },
      "outputs": [],
      "source": [
        "def company_df(df, company_name):\n",
        "  return df[df[\"company_name\"] == company_name]"
      ]
    },
    {
      "cell_type": "code",
      "execution_count": null,
      "metadata": {
        "id": "hyQdMO-kwMKh"
      },
      "outputs": [],
      "source": [
        "def sentiment_analysis(df):\n",
        "  sentiments = fr_sentiment_analysis(df[\"newsflashes\"])\n",
        "  df.insert(2, \"sentiments\", sentiments)\n",
        "  return df"
      ]
    },
    {
      "cell_type": "code",
      "execution_count": null,
      "metadata": {
        "id": "Dds4Ub6b91d_"
      },
      "outputs": [],
      "source": [
        "def unique_sa(df):\n",
        "\n",
        "  df_dates = list(df[\"dates\"])\n",
        "  dates_unique = np.unique(df_dates)\n",
        "  \n",
        "  df_groupby = df.groupby(df[\"dates\"])\n",
        "  \n",
        "  dates = []\n",
        "  sentiments = []\n",
        "  for i in range (len(dates_unique)):\n",
        "    dates.append(dates_unique[i])\n",
        "    values = list(df_groupby.get_group(dates_unique[i])[\"sentiments\"])\n",
        "    positive = 0\n",
        "    negative = 0\n",
        "    for value in values:\n",
        "      if value>0:\n",
        "        positive += 1\n",
        "      elif value<0:\n",
        "        negative +=1\n",
        "    if positive>negative:\n",
        "      #print(np.float64(1))\n",
        "      sentiments.append(np.float64(1))\n",
        "    elif negative>=positive:\n",
        "      #print(np.float64(-1))\n",
        "      sentiments.append(np.float64(-1))\n",
        "  \n",
        "  return pd.DataFrame({\"dates\": dates, \"sentiments\": sentiments})"
      ]
    },
    {
      "cell_type": "code",
      "source": [
        "def date_range(df):\n",
        "\n",
        "  df_dates = list(df[\"dates\"])\n",
        "  \n",
        "  start_date = datetime.strptime(df_dates[0], \"%Y-%m-%d\").date()\n",
        "  end_date = datetime.strptime(df_dates[-1], \"%Y-%m-%d\").date()\n",
        "  delta = timedelta(days = 1)\n",
        "  dates = []\n",
        "  while start_date <= end_date:\n",
        "    dates.append(start_date.isoformat())\n",
        "    start_date += delta\n",
        "\n",
        "  return pd.DataFrame({\"dates\": dates})"
      ],
      "metadata": {
        "id": "ynXU9sgHkJFK"
      },
      "execution_count": null,
      "outputs": []
    },
    {
      "cell_type": "code",
      "source": [
        "def str_to_date(df, format):\n",
        "  #format: \"%d/%m/%Y\"\n",
        "  for i in range (len(df[\"dates\"])):\n",
        "    df[\"dates\"].iloc[i] = datetime.strptime(df[\"dates\"].iloc[i], format).date()\n",
        "  df.sort_values(by = \"dates\", ascending = True, inplace = True)\n",
        "  df.reset_index(drop = True, inplace = True)\n",
        "  return df"
      ],
      "metadata": {
        "id": "YNPhQ6PAq2Hw"
      },
      "execution_count": null,
      "outputs": []
    },
    {
      "cell_type": "code",
      "source": [
        "def date_to_str(df, format):\n",
        "  #format: \"%Y-%m-%d\"\n",
        "  for i in range (len(df['dates'])):\n",
        "    df['dates'].iloc[i] = df['dates'].iloc[i].strftime(format)\n",
        "  return df"
      ],
      "metadata": {
        "id": "-XXFxuHTrkxD"
      },
      "execution_count": null,
      "outputs": []
    },
    {
      "cell_type": "code",
      "source": [
        "def fill(df, days):\n",
        "  df = df.fillna(method = \"ffill\", limit = days)\n",
        "  return df.fillna(0)"
      ],
      "metadata": {
        "id": "Jvtb9tKiQC8v"
      },
      "execution_count": null,
      "outputs": []
    },
    {
      "cell_type": "code",
      "source": [
        "def main(company_name, days, optional_df = dataset):\n",
        "  df = unique_sa(sentiment_analysis(company_df(dataset, company_name)))\n",
        "  df = date_to_str(str_to_date(df, \"%d/%m/%Y\"), \"%Y-%m-%d\")\n",
        "  date_df = date_range(df)\n",
        "  merged_df = pd.merge(df, date_df, on = [\"dates\"], how = \"outer\")\n",
        "  merged_df = date_to_str(str_to_date(merged_df, \"%Y-%m-%d\"), \"%d/%m/%Y\")\n",
        "  merged_df = fill(merged_df, days)\n",
        "  return merged_df"
      ],
      "metadata": {
        "id": "12_lhoRFYKEN"
      },
      "execution_count": null,
      "outputs": []
    },
    {
      "cell_type": "code",
      "execution_count": null,
      "metadata": {
        "id": "yH0b78uinXqc"
      },
      "outputs": [],
      "source": [
        "engie_df = company_df(dataset, \"engie\")"
      ]
    },
    {
      "cell_type": "code",
      "execution_count": null,
      "metadata": {
        "id": "S9J715lByUlv"
      },
      "outputs": [],
      "source": [
        "engie_df = sentiment_analysis(engie_df)"
      ]
    },
    {
      "cell_type": "code",
      "source": [
        "engie_df = unique_sa(engie_df)"
      ],
      "metadata": {
        "id": "1_z9zGf_gCda"
      },
      "execution_count": null,
      "outputs": []
    },
    {
      "cell_type": "code",
      "source": [
        "engie_df = str_to_date(engie_df, \"%d/%m/%Y\")\n",
        "engie_df = date_to_str(engie_df, \"%Y-%m-%d\")"
      ],
      "metadata": {
        "colab": {
          "base_uri": "https://localhost:8080/"
        },
        "id": "nKY3G_WQy2R0",
        "outputId": "dcfbc892-2c77-4b18-d5fe-136eeaf9bec1"
      },
      "execution_count": null,
      "outputs": [
        {
          "output_type": "stream",
          "name": "stderr",
          "text": [
            "/usr/local/lib/python3.9/dist-packages/pandas/core/indexing.py:1732: SettingWithCopyWarning: \n",
            "A value is trying to be set on a copy of a slice from a DataFrame\n",
            "\n",
            "See the caveats in the documentation: https://pandas.pydata.org/pandas-docs/stable/user_guide/indexing.html#returning-a-view-versus-a-copy\n",
            "  self._setitem_single_block(indexer, value, name)\n"
          ]
        }
      ]
    },
    {
      "cell_type": "code",
      "source": [
        "engie_df"
      ],
      "metadata": {
        "colab": {
          "base_uri": "https://localhost:8080/",
          "height": 423
        },
        "id": "7y28ScvAnseA",
        "outputId": "0f5ce156-32e1-49f8-a978-663568a2b6df"
      },
      "execution_count": null,
      "outputs": [
        {
          "output_type": "execute_result",
          "data": {
            "text/plain": [
              "          dates  sentiments\n",
              "0    2015-04-24         1.0\n",
              "1    2015-05-05         1.0\n",
              "2    2015-05-23         1.0\n",
              "3    2015-05-28         1.0\n",
              "4    2015-06-02         1.0\n",
              "..          ...         ...\n",
              "308  2023-02-20         1.0\n",
              "309  2023-02-21         1.0\n",
              "310  2023-02-22        -1.0\n",
              "311  2023-02-23         1.0\n",
              "312  2023-02-24        -1.0\n",
              "\n",
              "[313 rows x 2 columns]"
            ],
            "text/html": [
              "\n",
              "  <div id=\"df-4198a4d4-afb8-41ad-8f5b-1cfc7219d7af\">\n",
              "    <div class=\"colab-df-container\">\n",
              "      <div>\n",
              "<style scoped>\n",
              "    .dataframe tbody tr th:only-of-type {\n",
              "        vertical-align: middle;\n",
              "    }\n",
              "\n",
              "    .dataframe tbody tr th {\n",
              "        vertical-align: top;\n",
              "    }\n",
              "\n",
              "    .dataframe thead th {\n",
              "        text-align: right;\n",
              "    }\n",
              "</style>\n",
              "<table border=\"1\" class=\"dataframe\">\n",
              "  <thead>\n",
              "    <tr style=\"text-align: right;\">\n",
              "      <th></th>\n",
              "      <th>dates</th>\n",
              "      <th>sentiments</th>\n",
              "    </tr>\n",
              "  </thead>\n",
              "  <tbody>\n",
              "    <tr>\n",
              "      <th>0</th>\n",
              "      <td>2015-04-24</td>\n",
              "      <td>1.0</td>\n",
              "    </tr>\n",
              "    <tr>\n",
              "      <th>1</th>\n",
              "      <td>2015-05-05</td>\n",
              "      <td>1.0</td>\n",
              "    </tr>\n",
              "    <tr>\n",
              "      <th>2</th>\n",
              "      <td>2015-05-23</td>\n",
              "      <td>1.0</td>\n",
              "    </tr>\n",
              "    <tr>\n",
              "      <th>3</th>\n",
              "      <td>2015-05-28</td>\n",
              "      <td>1.0</td>\n",
              "    </tr>\n",
              "    <tr>\n",
              "      <th>4</th>\n",
              "      <td>2015-06-02</td>\n",
              "      <td>1.0</td>\n",
              "    </tr>\n",
              "    <tr>\n",
              "      <th>...</th>\n",
              "      <td>...</td>\n",
              "      <td>...</td>\n",
              "    </tr>\n",
              "    <tr>\n",
              "      <th>308</th>\n",
              "      <td>2023-02-20</td>\n",
              "      <td>1.0</td>\n",
              "    </tr>\n",
              "    <tr>\n",
              "      <th>309</th>\n",
              "      <td>2023-02-21</td>\n",
              "      <td>1.0</td>\n",
              "    </tr>\n",
              "    <tr>\n",
              "      <th>310</th>\n",
              "      <td>2023-02-22</td>\n",
              "      <td>-1.0</td>\n",
              "    </tr>\n",
              "    <tr>\n",
              "      <th>311</th>\n",
              "      <td>2023-02-23</td>\n",
              "      <td>1.0</td>\n",
              "    </tr>\n",
              "    <tr>\n",
              "      <th>312</th>\n",
              "      <td>2023-02-24</td>\n",
              "      <td>-1.0</td>\n",
              "    </tr>\n",
              "  </tbody>\n",
              "</table>\n",
              "<p>313 rows × 2 columns</p>\n",
              "</div>\n",
              "      <button class=\"colab-df-convert\" onclick=\"convertToInteractive('df-4198a4d4-afb8-41ad-8f5b-1cfc7219d7af')\"\n",
              "              title=\"Convert this dataframe to an interactive table.\"\n",
              "              style=\"display:none;\">\n",
              "        \n",
              "  <svg xmlns=\"http://www.w3.org/2000/svg\" height=\"24px\"viewBox=\"0 0 24 24\"\n",
              "       width=\"24px\">\n",
              "    <path d=\"M0 0h24v24H0V0z\" fill=\"none\"/>\n",
              "    <path d=\"M18.56 5.44l.94 2.06.94-2.06 2.06-.94-2.06-.94-.94-2.06-.94 2.06-2.06.94zm-11 1L8.5 8.5l.94-2.06 2.06-.94-2.06-.94L8.5 2.5l-.94 2.06-2.06.94zm10 10l.94 2.06.94-2.06 2.06-.94-2.06-.94-.94-2.06-.94 2.06-2.06.94z\"/><path d=\"M17.41 7.96l-1.37-1.37c-.4-.4-.92-.59-1.43-.59-.52 0-1.04.2-1.43.59L10.3 9.45l-7.72 7.72c-.78.78-.78 2.05 0 2.83L4 21.41c.39.39.9.59 1.41.59.51 0 1.02-.2 1.41-.59l7.78-7.78 2.81-2.81c.8-.78.8-2.07 0-2.86zM5.41 20L4 18.59l7.72-7.72 1.47 1.35L5.41 20z\"/>\n",
              "  </svg>\n",
              "      </button>\n",
              "      \n",
              "  <style>\n",
              "    .colab-df-container {\n",
              "      display:flex;\n",
              "      flex-wrap:wrap;\n",
              "      gap: 12px;\n",
              "    }\n",
              "\n",
              "    .colab-df-convert {\n",
              "      background-color: #E8F0FE;\n",
              "      border: none;\n",
              "      border-radius: 50%;\n",
              "      cursor: pointer;\n",
              "      display: none;\n",
              "      fill: #1967D2;\n",
              "      height: 32px;\n",
              "      padding: 0 0 0 0;\n",
              "      width: 32px;\n",
              "    }\n",
              "\n",
              "    .colab-df-convert:hover {\n",
              "      background-color: #E2EBFA;\n",
              "      box-shadow: 0px 1px 2px rgba(60, 64, 67, 0.3), 0px 1px 3px 1px rgba(60, 64, 67, 0.15);\n",
              "      fill: #174EA6;\n",
              "    }\n",
              "\n",
              "    [theme=dark] .colab-df-convert {\n",
              "      background-color: #3B4455;\n",
              "      fill: #D2E3FC;\n",
              "    }\n",
              "\n",
              "    [theme=dark] .colab-df-convert:hover {\n",
              "      background-color: #434B5C;\n",
              "      box-shadow: 0px 1px 3px 1px rgba(0, 0, 0, 0.15);\n",
              "      filter: drop-shadow(0px 1px 2px rgba(0, 0, 0, 0.3));\n",
              "      fill: #FFFFFF;\n",
              "    }\n",
              "  </style>\n",
              "\n",
              "      <script>\n",
              "        const buttonEl =\n",
              "          document.querySelector('#df-4198a4d4-afb8-41ad-8f5b-1cfc7219d7af button.colab-df-convert');\n",
              "        buttonEl.style.display =\n",
              "          google.colab.kernel.accessAllowed ? 'block' : 'none';\n",
              "\n",
              "        async function convertToInteractive(key) {\n",
              "          const element = document.querySelector('#df-4198a4d4-afb8-41ad-8f5b-1cfc7219d7af');\n",
              "          const dataTable =\n",
              "            await google.colab.kernel.invokeFunction('convertToInteractive',\n",
              "                                                     [key], {});\n",
              "          if (!dataTable) return;\n",
              "\n",
              "          const docLinkHtml = 'Like what you see? Visit the ' +\n",
              "            '<a target=\"_blank\" href=https://colab.research.google.com/notebooks/data_table.ipynb>data table notebook</a>'\n",
              "            + ' to learn more about interactive tables.';\n",
              "          element.innerHTML = '';\n",
              "          dataTable['output_type'] = 'display_data';\n",
              "          await google.colab.output.renderOutput(dataTable, element);\n",
              "          const docLink = document.createElement('div');\n",
              "          docLink.innerHTML = docLinkHtml;\n",
              "          element.appendChild(docLink);\n",
              "        }\n",
              "      </script>\n",
              "    </div>\n",
              "  </div>\n",
              "  "
            ]
          },
          "metadata": {},
          "execution_count": 329
        }
      ]
    },
    {
      "cell_type": "code",
      "source": [
        "date_df = date_range(engie_df)"
      ],
      "metadata": {
        "id": "PpvC8Vt7llDr"
      },
      "execution_count": null,
      "outputs": []
    },
    {
      "cell_type": "code",
      "source": [
        "merged_df = pd.merge(engie_df, date_df, on = [\"dates\"], how = \"outer\")"
      ],
      "metadata": {
        "id": "klku7PFUmlJO"
      },
      "execution_count": null,
      "outputs": []
    },
    {
      "cell_type": "code",
      "source": [
        "merged_df"
      ],
      "metadata": {
        "colab": {
          "base_uri": "https://localhost:8080/",
          "height": 423
        },
        "id": "vY5MkbWbMqYT",
        "outputId": "56c7fb5a-715b-4103-b233-3b4dba5280a4"
      },
      "execution_count": null,
      "outputs": [
        {
          "output_type": "execute_result",
          "data": {
            "text/plain": [
              "           dates  sentiments\n",
              "0     2015-04-24         1.0\n",
              "1     2015-05-05         1.0\n",
              "2     2015-05-23         1.0\n",
              "3     2015-05-28         1.0\n",
              "4     2015-06-02         1.0\n",
              "...          ...         ...\n",
              "2859  2023-02-04         NaN\n",
              "2860  2023-02-05         NaN\n",
              "2861  2023-02-06         NaN\n",
              "2862  2023-02-08         NaN\n",
              "2863  2023-02-10         NaN\n",
              "\n",
              "[2864 rows x 2 columns]"
            ],
            "text/html": [
              "\n",
              "  <div id=\"df-2695f120-7781-40a7-a4ee-fb3c14f055a4\">\n",
              "    <div class=\"colab-df-container\">\n",
              "      <div>\n",
              "<style scoped>\n",
              "    .dataframe tbody tr th:only-of-type {\n",
              "        vertical-align: middle;\n",
              "    }\n",
              "\n",
              "    .dataframe tbody tr th {\n",
              "        vertical-align: top;\n",
              "    }\n",
              "\n",
              "    .dataframe thead th {\n",
              "        text-align: right;\n",
              "    }\n",
              "</style>\n",
              "<table border=\"1\" class=\"dataframe\">\n",
              "  <thead>\n",
              "    <tr style=\"text-align: right;\">\n",
              "      <th></th>\n",
              "      <th>dates</th>\n",
              "      <th>sentiments</th>\n",
              "    </tr>\n",
              "  </thead>\n",
              "  <tbody>\n",
              "    <tr>\n",
              "      <th>0</th>\n",
              "      <td>2015-04-24</td>\n",
              "      <td>1.0</td>\n",
              "    </tr>\n",
              "    <tr>\n",
              "      <th>1</th>\n",
              "      <td>2015-05-05</td>\n",
              "      <td>1.0</td>\n",
              "    </tr>\n",
              "    <tr>\n",
              "      <th>2</th>\n",
              "      <td>2015-05-23</td>\n",
              "      <td>1.0</td>\n",
              "    </tr>\n",
              "    <tr>\n",
              "      <th>3</th>\n",
              "      <td>2015-05-28</td>\n",
              "      <td>1.0</td>\n",
              "    </tr>\n",
              "    <tr>\n",
              "      <th>4</th>\n",
              "      <td>2015-06-02</td>\n",
              "      <td>1.0</td>\n",
              "    </tr>\n",
              "    <tr>\n",
              "      <th>...</th>\n",
              "      <td>...</td>\n",
              "      <td>...</td>\n",
              "    </tr>\n",
              "    <tr>\n",
              "      <th>2859</th>\n",
              "      <td>2023-02-04</td>\n",
              "      <td>NaN</td>\n",
              "    </tr>\n",
              "    <tr>\n",
              "      <th>2860</th>\n",
              "      <td>2023-02-05</td>\n",
              "      <td>NaN</td>\n",
              "    </tr>\n",
              "    <tr>\n",
              "      <th>2861</th>\n",
              "      <td>2023-02-06</td>\n",
              "      <td>NaN</td>\n",
              "    </tr>\n",
              "    <tr>\n",
              "      <th>2862</th>\n",
              "      <td>2023-02-08</td>\n",
              "      <td>NaN</td>\n",
              "    </tr>\n",
              "    <tr>\n",
              "      <th>2863</th>\n",
              "      <td>2023-02-10</td>\n",
              "      <td>NaN</td>\n",
              "    </tr>\n",
              "  </tbody>\n",
              "</table>\n",
              "<p>2864 rows × 2 columns</p>\n",
              "</div>\n",
              "      <button class=\"colab-df-convert\" onclick=\"convertToInteractive('df-2695f120-7781-40a7-a4ee-fb3c14f055a4')\"\n",
              "              title=\"Convert this dataframe to an interactive table.\"\n",
              "              style=\"display:none;\">\n",
              "        \n",
              "  <svg xmlns=\"http://www.w3.org/2000/svg\" height=\"24px\"viewBox=\"0 0 24 24\"\n",
              "       width=\"24px\">\n",
              "    <path d=\"M0 0h24v24H0V0z\" fill=\"none\"/>\n",
              "    <path d=\"M18.56 5.44l.94 2.06.94-2.06 2.06-.94-2.06-.94-.94-2.06-.94 2.06-2.06.94zm-11 1L8.5 8.5l.94-2.06 2.06-.94-2.06-.94L8.5 2.5l-.94 2.06-2.06.94zm10 10l.94 2.06.94-2.06 2.06-.94-2.06-.94-.94-2.06-.94 2.06-2.06.94z\"/><path d=\"M17.41 7.96l-1.37-1.37c-.4-.4-.92-.59-1.43-.59-.52 0-1.04.2-1.43.59L10.3 9.45l-7.72 7.72c-.78.78-.78 2.05 0 2.83L4 21.41c.39.39.9.59 1.41.59.51 0 1.02-.2 1.41-.59l7.78-7.78 2.81-2.81c.8-.78.8-2.07 0-2.86zM5.41 20L4 18.59l7.72-7.72 1.47 1.35L5.41 20z\"/>\n",
              "  </svg>\n",
              "      </button>\n",
              "      \n",
              "  <style>\n",
              "    .colab-df-container {\n",
              "      display:flex;\n",
              "      flex-wrap:wrap;\n",
              "      gap: 12px;\n",
              "    }\n",
              "\n",
              "    .colab-df-convert {\n",
              "      background-color: #E8F0FE;\n",
              "      border: none;\n",
              "      border-radius: 50%;\n",
              "      cursor: pointer;\n",
              "      display: none;\n",
              "      fill: #1967D2;\n",
              "      height: 32px;\n",
              "      padding: 0 0 0 0;\n",
              "      width: 32px;\n",
              "    }\n",
              "\n",
              "    .colab-df-convert:hover {\n",
              "      background-color: #E2EBFA;\n",
              "      box-shadow: 0px 1px 2px rgba(60, 64, 67, 0.3), 0px 1px 3px 1px rgba(60, 64, 67, 0.15);\n",
              "      fill: #174EA6;\n",
              "    }\n",
              "\n",
              "    [theme=dark] .colab-df-convert {\n",
              "      background-color: #3B4455;\n",
              "      fill: #D2E3FC;\n",
              "    }\n",
              "\n",
              "    [theme=dark] .colab-df-convert:hover {\n",
              "      background-color: #434B5C;\n",
              "      box-shadow: 0px 1px 3px 1px rgba(0, 0, 0, 0.15);\n",
              "      filter: drop-shadow(0px 1px 2px rgba(0, 0, 0, 0.3));\n",
              "      fill: #FFFFFF;\n",
              "    }\n",
              "  </style>\n",
              "\n",
              "      <script>\n",
              "        const buttonEl =\n",
              "          document.querySelector('#df-2695f120-7781-40a7-a4ee-fb3c14f055a4 button.colab-df-convert');\n",
              "        buttonEl.style.display =\n",
              "          google.colab.kernel.accessAllowed ? 'block' : 'none';\n",
              "\n",
              "        async function convertToInteractive(key) {\n",
              "          const element = document.querySelector('#df-2695f120-7781-40a7-a4ee-fb3c14f055a4');\n",
              "          const dataTable =\n",
              "            await google.colab.kernel.invokeFunction('convertToInteractive',\n",
              "                                                     [key], {});\n",
              "          if (!dataTable) return;\n",
              "\n",
              "          const docLinkHtml = 'Like what you see? Visit the ' +\n",
              "            '<a target=\"_blank\" href=https://colab.research.google.com/notebooks/data_table.ipynb>data table notebook</a>'\n",
              "            + ' to learn more about interactive tables.';\n",
              "          element.innerHTML = '';\n",
              "          dataTable['output_type'] = 'display_data';\n",
              "          await google.colab.output.renderOutput(dataTable, element);\n",
              "          const docLink = document.createElement('div');\n",
              "          docLink.innerHTML = docLinkHtml;\n",
              "          element.appendChild(docLink);\n",
              "        }\n",
              "      </script>\n",
              "    </div>\n",
              "  </div>\n",
              "  "
            ]
          },
          "metadata": {},
          "execution_count": 332
        }
      ]
    },
    {
      "cell_type": "code",
      "source": [
        "merged_df = date_to_str(str_to_date(merged_df, \"%Y-%m-%d\"), \"%d/%m/%Y\")"
      ],
      "metadata": {
        "colab": {
          "base_uri": "https://localhost:8080/"
        },
        "id": "tLabS_rem8Sl",
        "outputId": "11b2911b-62ed-49dd-e03c-b2c281e53018"
      },
      "execution_count": null,
      "outputs": [
        {
          "output_type": "stream",
          "name": "stderr",
          "text": [
            "/usr/local/lib/python3.9/dist-packages/pandas/core/indexing.py:1732: SettingWithCopyWarning: \n",
            "A value is trying to be set on a copy of a slice from a DataFrame\n",
            "\n",
            "See the caveats in the documentation: https://pandas.pydata.org/pandas-docs/stable/user_guide/indexing.html#returning-a-view-versus-a-copy\n",
            "  self._setitem_single_block(indexer, value, name)\n"
          ]
        }
      ]
    },
    {
      "cell_type": "code",
      "source": [
        "merged_df"
      ],
      "metadata": {
        "colab": {
          "base_uri": "https://localhost:8080/",
          "height": 423
        },
        "id": "Wg7zYOAUN1AQ",
        "outputId": "3b7bd9f8-4155-4c9d-9e20-0add0869a1c0"
      },
      "execution_count": null,
      "outputs": [
        {
          "output_type": "execute_result",
          "data": {
            "text/plain": [
              "           dates  sentiments\n",
              "0     24/04/2015         1.0\n",
              "1     25/04/2015         NaN\n",
              "2     26/04/2015         NaN\n",
              "3     27/04/2015         NaN\n",
              "4     28/04/2015         NaN\n",
              "...          ...         ...\n",
              "2859  20/02/2023         1.0\n",
              "2860  21/02/2023         1.0\n",
              "2861  22/02/2023        -1.0\n",
              "2862  23/02/2023         1.0\n",
              "2863  24/02/2023        -1.0\n",
              "\n",
              "[2864 rows x 2 columns]"
            ],
            "text/html": [
              "\n",
              "  <div id=\"df-45b73379-74ca-41c8-a69d-9623fcab543b\">\n",
              "    <div class=\"colab-df-container\">\n",
              "      <div>\n",
              "<style scoped>\n",
              "    .dataframe tbody tr th:only-of-type {\n",
              "        vertical-align: middle;\n",
              "    }\n",
              "\n",
              "    .dataframe tbody tr th {\n",
              "        vertical-align: top;\n",
              "    }\n",
              "\n",
              "    .dataframe thead th {\n",
              "        text-align: right;\n",
              "    }\n",
              "</style>\n",
              "<table border=\"1\" class=\"dataframe\">\n",
              "  <thead>\n",
              "    <tr style=\"text-align: right;\">\n",
              "      <th></th>\n",
              "      <th>dates</th>\n",
              "      <th>sentiments</th>\n",
              "    </tr>\n",
              "  </thead>\n",
              "  <tbody>\n",
              "    <tr>\n",
              "      <th>0</th>\n",
              "      <td>24/04/2015</td>\n",
              "      <td>1.0</td>\n",
              "    </tr>\n",
              "    <tr>\n",
              "      <th>1</th>\n",
              "      <td>25/04/2015</td>\n",
              "      <td>NaN</td>\n",
              "    </tr>\n",
              "    <tr>\n",
              "      <th>2</th>\n",
              "      <td>26/04/2015</td>\n",
              "      <td>NaN</td>\n",
              "    </tr>\n",
              "    <tr>\n",
              "      <th>3</th>\n",
              "      <td>27/04/2015</td>\n",
              "      <td>NaN</td>\n",
              "    </tr>\n",
              "    <tr>\n",
              "      <th>4</th>\n",
              "      <td>28/04/2015</td>\n",
              "      <td>NaN</td>\n",
              "    </tr>\n",
              "    <tr>\n",
              "      <th>...</th>\n",
              "      <td>...</td>\n",
              "      <td>...</td>\n",
              "    </tr>\n",
              "    <tr>\n",
              "      <th>2859</th>\n",
              "      <td>20/02/2023</td>\n",
              "      <td>1.0</td>\n",
              "    </tr>\n",
              "    <tr>\n",
              "      <th>2860</th>\n",
              "      <td>21/02/2023</td>\n",
              "      <td>1.0</td>\n",
              "    </tr>\n",
              "    <tr>\n",
              "      <th>2861</th>\n",
              "      <td>22/02/2023</td>\n",
              "      <td>-1.0</td>\n",
              "    </tr>\n",
              "    <tr>\n",
              "      <th>2862</th>\n",
              "      <td>23/02/2023</td>\n",
              "      <td>1.0</td>\n",
              "    </tr>\n",
              "    <tr>\n",
              "      <th>2863</th>\n",
              "      <td>24/02/2023</td>\n",
              "      <td>-1.0</td>\n",
              "    </tr>\n",
              "  </tbody>\n",
              "</table>\n",
              "<p>2864 rows × 2 columns</p>\n",
              "</div>\n",
              "      <button class=\"colab-df-convert\" onclick=\"convertToInteractive('df-45b73379-74ca-41c8-a69d-9623fcab543b')\"\n",
              "              title=\"Convert this dataframe to an interactive table.\"\n",
              "              style=\"display:none;\">\n",
              "        \n",
              "  <svg xmlns=\"http://www.w3.org/2000/svg\" height=\"24px\"viewBox=\"0 0 24 24\"\n",
              "       width=\"24px\">\n",
              "    <path d=\"M0 0h24v24H0V0z\" fill=\"none\"/>\n",
              "    <path d=\"M18.56 5.44l.94 2.06.94-2.06 2.06-.94-2.06-.94-.94-2.06-.94 2.06-2.06.94zm-11 1L8.5 8.5l.94-2.06 2.06-.94-2.06-.94L8.5 2.5l-.94 2.06-2.06.94zm10 10l.94 2.06.94-2.06 2.06-.94-2.06-.94-.94-2.06-.94 2.06-2.06.94z\"/><path d=\"M17.41 7.96l-1.37-1.37c-.4-.4-.92-.59-1.43-.59-.52 0-1.04.2-1.43.59L10.3 9.45l-7.72 7.72c-.78.78-.78 2.05 0 2.83L4 21.41c.39.39.9.59 1.41.59.51 0 1.02-.2 1.41-.59l7.78-7.78 2.81-2.81c.8-.78.8-2.07 0-2.86zM5.41 20L4 18.59l7.72-7.72 1.47 1.35L5.41 20z\"/>\n",
              "  </svg>\n",
              "      </button>\n",
              "      \n",
              "  <style>\n",
              "    .colab-df-container {\n",
              "      display:flex;\n",
              "      flex-wrap:wrap;\n",
              "      gap: 12px;\n",
              "    }\n",
              "\n",
              "    .colab-df-convert {\n",
              "      background-color: #E8F0FE;\n",
              "      border: none;\n",
              "      border-radius: 50%;\n",
              "      cursor: pointer;\n",
              "      display: none;\n",
              "      fill: #1967D2;\n",
              "      height: 32px;\n",
              "      padding: 0 0 0 0;\n",
              "      width: 32px;\n",
              "    }\n",
              "\n",
              "    .colab-df-convert:hover {\n",
              "      background-color: #E2EBFA;\n",
              "      box-shadow: 0px 1px 2px rgba(60, 64, 67, 0.3), 0px 1px 3px 1px rgba(60, 64, 67, 0.15);\n",
              "      fill: #174EA6;\n",
              "    }\n",
              "\n",
              "    [theme=dark] .colab-df-convert {\n",
              "      background-color: #3B4455;\n",
              "      fill: #D2E3FC;\n",
              "    }\n",
              "\n",
              "    [theme=dark] .colab-df-convert:hover {\n",
              "      background-color: #434B5C;\n",
              "      box-shadow: 0px 1px 3px 1px rgba(0, 0, 0, 0.15);\n",
              "      filter: drop-shadow(0px 1px 2px rgba(0, 0, 0, 0.3));\n",
              "      fill: #FFFFFF;\n",
              "    }\n",
              "  </style>\n",
              "\n",
              "      <script>\n",
              "        const buttonEl =\n",
              "          document.querySelector('#df-45b73379-74ca-41c8-a69d-9623fcab543b button.colab-df-convert');\n",
              "        buttonEl.style.display =\n",
              "          google.colab.kernel.accessAllowed ? 'block' : 'none';\n",
              "\n",
              "        async function convertToInteractive(key) {\n",
              "          const element = document.querySelector('#df-45b73379-74ca-41c8-a69d-9623fcab543b');\n",
              "          const dataTable =\n",
              "            await google.colab.kernel.invokeFunction('convertToInteractive',\n",
              "                                                     [key], {});\n",
              "          if (!dataTable) return;\n",
              "\n",
              "          const docLinkHtml = 'Like what you see? Visit the ' +\n",
              "            '<a target=\"_blank\" href=https://colab.research.google.com/notebooks/data_table.ipynb>data table notebook</a>'\n",
              "            + ' to learn more about interactive tables.';\n",
              "          element.innerHTML = '';\n",
              "          dataTable['output_type'] = 'display_data';\n",
              "          await google.colab.output.renderOutput(dataTable, element);\n",
              "          const docLink = document.createElement('div');\n",
              "          docLink.innerHTML = docLinkHtml;\n",
              "          element.appendChild(docLink);\n",
              "        }\n",
              "      </script>\n",
              "    </div>\n",
              "  </div>\n",
              "  "
            ]
          },
          "metadata": {},
          "execution_count": 334
        }
      ]
    },
    {
      "cell_type": "code",
      "source": [
        "merged_df = fill(merged_df, 3)"
      ],
      "metadata": {
        "id": "WKSdsq9bN-d-"
      },
      "execution_count": null,
      "outputs": []
    },
    {
      "cell_type": "code",
      "source": [
        "merged_df"
      ],
      "metadata": {
        "colab": {
          "base_uri": "https://localhost:8080/",
          "height": 423
        },
        "id": "prA6t-6eWbNj",
        "outputId": "5c9f37fb-825e-4bce-c680-8d32d6e5bbae"
      },
      "execution_count": null,
      "outputs": [
        {
          "output_type": "execute_result",
          "data": {
            "text/plain": [
              "           dates  sentiments\n",
              "0     24/04/2015         1.0\n",
              "1     25/04/2015         1.0\n",
              "2     26/04/2015         1.0\n",
              "3     27/04/2015         1.0\n",
              "4     28/04/2015         0.0\n",
              "...          ...         ...\n",
              "2859  20/02/2023         1.0\n",
              "2860  21/02/2023         1.0\n",
              "2861  22/02/2023        -1.0\n",
              "2862  23/02/2023         1.0\n",
              "2863  24/02/2023        -1.0\n",
              "\n",
              "[2864 rows x 2 columns]"
            ],
            "text/html": [
              "\n",
              "  <div id=\"df-c15232cb-4093-4cd1-bbc2-ffeadf97be6b\">\n",
              "    <div class=\"colab-df-container\">\n",
              "      <div>\n",
              "<style scoped>\n",
              "    .dataframe tbody tr th:only-of-type {\n",
              "        vertical-align: middle;\n",
              "    }\n",
              "\n",
              "    .dataframe tbody tr th {\n",
              "        vertical-align: top;\n",
              "    }\n",
              "\n",
              "    .dataframe thead th {\n",
              "        text-align: right;\n",
              "    }\n",
              "</style>\n",
              "<table border=\"1\" class=\"dataframe\">\n",
              "  <thead>\n",
              "    <tr style=\"text-align: right;\">\n",
              "      <th></th>\n",
              "      <th>dates</th>\n",
              "      <th>sentiments</th>\n",
              "    </tr>\n",
              "  </thead>\n",
              "  <tbody>\n",
              "    <tr>\n",
              "      <th>0</th>\n",
              "      <td>24/04/2015</td>\n",
              "      <td>1.0</td>\n",
              "    </tr>\n",
              "    <tr>\n",
              "      <th>1</th>\n",
              "      <td>25/04/2015</td>\n",
              "      <td>1.0</td>\n",
              "    </tr>\n",
              "    <tr>\n",
              "      <th>2</th>\n",
              "      <td>26/04/2015</td>\n",
              "      <td>1.0</td>\n",
              "    </tr>\n",
              "    <tr>\n",
              "      <th>3</th>\n",
              "      <td>27/04/2015</td>\n",
              "      <td>1.0</td>\n",
              "    </tr>\n",
              "    <tr>\n",
              "      <th>4</th>\n",
              "      <td>28/04/2015</td>\n",
              "      <td>0.0</td>\n",
              "    </tr>\n",
              "    <tr>\n",
              "      <th>...</th>\n",
              "      <td>...</td>\n",
              "      <td>...</td>\n",
              "    </tr>\n",
              "    <tr>\n",
              "      <th>2859</th>\n",
              "      <td>20/02/2023</td>\n",
              "      <td>1.0</td>\n",
              "    </tr>\n",
              "    <tr>\n",
              "      <th>2860</th>\n",
              "      <td>21/02/2023</td>\n",
              "      <td>1.0</td>\n",
              "    </tr>\n",
              "    <tr>\n",
              "      <th>2861</th>\n",
              "      <td>22/02/2023</td>\n",
              "      <td>-1.0</td>\n",
              "    </tr>\n",
              "    <tr>\n",
              "      <th>2862</th>\n",
              "      <td>23/02/2023</td>\n",
              "      <td>1.0</td>\n",
              "    </tr>\n",
              "    <tr>\n",
              "      <th>2863</th>\n",
              "      <td>24/02/2023</td>\n",
              "      <td>-1.0</td>\n",
              "    </tr>\n",
              "  </tbody>\n",
              "</table>\n",
              "<p>2864 rows × 2 columns</p>\n",
              "</div>\n",
              "      <button class=\"colab-df-convert\" onclick=\"convertToInteractive('df-c15232cb-4093-4cd1-bbc2-ffeadf97be6b')\"\n",
              "              title=\"Convert this dataframe to an interactive table.\"\n",
              "              style=\"display:none;\">\n",
              "        \n",
              "  <svg xmlns=\"http://www.w3.org/2000/svg\" height=\"24px\"viewBox=\"0 0 24 24\"\n",
              "       width=\"24px\">\n",
              "    <path d=\"M0 0h24v24H0V0z\" fill=\"none\"/>\n",
              "    <path d=\"M18.56 5.44l.94 2.06.94-2.06 2.06-.94-2.06-.94-.94-2.06-.94 2.06-2.06.94zm-11 1L8.5 8.5l.94-2.06 2.06-.94-2.06-.94L8.5 2.5l-.94 2.06-2.06.94zm10 10l.94 2.06.94-2.06 2.06-.94-2.06-.94-.94-2.06-.94 2.06-2.06.94z\"/><path d=\"M17.41 7.96l-1.37-1.37c-.4-.4-.92-.59-1.43-.59-.52 0-1.04.2-1.43.59L10.3 9.45l-7.72 7.72c-.78.78-.78 2.05 0 2.83L4 21.41c.39.39.9.59 1.41.59.51 0 1.02-.2 1.41-.59l7.78-7.78 2.81-2.81c.8-.78.8-2.07 0-2.86zM5.41 20L4 18.59l7.72-7.72 1.47 1.35L5.41 20z\"/>\n",
              "  </svg>\n",
              "      </button>\n",
              "      \n",
              "  <style>\n",
              "    .colab-df-container {\n",
              "      display:flex;\n",
              "      flex-wrap:wrap;\n",
              "      gap: 12px;\n",
              "    }\n",
              "\n",
              "    .colab-df-convert {\n",
              "      background-color: #E8F0FE;\n",
              "      border: none;\n",
              "      border-radius: 50%;\n",
              "      cursor: pointer;\n",
              "      display: none;\n",
              "      fill: #1967D2;\n",
              "      height: 32px;\n",
              "      padding: 0 0 0 0;\n",
              "      width: 32px;\n",
              "    }\n",
              "\n",
              "    .colab-df-convert:hover {\n",
              "      background-color: #E2EBFA;\n",
              "      box-shadow: 0px 1px 2px rgba(60, 64, 67, 0.3), 0px 1px 3px 1px rgba(60, 64, 67, 0.15);\n",
              "      fill: #174EA6;\n",
              "    }\n",
              "\n",
              "    [theme=dark] .colab-df-convert {\n",
              "      background-color: #3B4455;\n",
              "      fill: #D2E3FC;\n",
              "    }\n",
              "\n",
              "    [theme=dark] .colab-df-convert:hover {\n",
              "      background-color: #434B5C;\n",
              "      box-shadow: 0px 1px 3px 1px rgba(0, 0, 0, 0.15);\n",
              "      filter: drop-shadow(0px 1px 2px rgba(0, 0, 0, 0.3));\n",
              "      fill: #FFFFFF;\n",
              "    }\n",
              "  </style>\n",
              "\n",
              "      <script>\n",
              "        const buttonEl =\n",
              "          document.querySelector('#df-c15232cb-4093-4cd1-bbc2-ffeadf97be6b button.colab-df-convert');\n",
              "        buttonEl.style.display =\n",
              "          google.colab.kernel.accessAllowed ? 'block' : 'none';\n",
              "\n",
              "        async function convertToInteractive(key) {\n",
              "          const element = document.querySelector('#df-c15232cb-4093-4cd1-bbc2-ffeadf97be6b');\n",
              "          const dataTable =\n",
              "            await google.colab.kernel.invokeFunction('convertToInteractive',\n",
              "                                                     [key], {});\n",
              "          if (!dataTable) return;\n",
              "\n",
              "          const docLinkHtml = 'Like what you see? Visit the ' +\n",
              "            '<a target=\"_blank\" href=https://colab.research.google.com/notebooks/data_table.ipynb>data table notebook</a>'\n",
              "            + ' to learn more about interactive tables.';\n",
              "          element.innerHTML = '';\n",
              "          dataTable['output_type'] = 'display_data';\n",
              "          await google.colab.output.renderOutput(dataTable, element);\n",
              "          const docLink = document.createElement('div');\n",
              "          docLink.innerHTML = docLinkHtml;\n",
              "          element.appendChild(docLink);\n",
              "        }\n",
              "      </script>\n",
              "    </div>\n",
              "  </div>\n",
              "  "
            ]
          },
          "metadata": {},
          "execution_count": 337
        }
      ]
    },
    {
      "cell_type": "code",
      "source": [
        "sanofi_df = main(\"sanofi\", 3)"
      ],
      "metadata": {
        "colab": {
          "base_uri": "https://localhost:8080/"
        },
        "id": "BvsxZx4FaLuL",
        "outputId": "dffc495f-ac3a-491e-d641-d417038c780d"
      },
      "execution_count": null,
      "outputs": [
        {
          "output_type": "stream",
          "name": "stderr",
          "text": [
            "/usr/local/lib/python3.9/dist-packages/pandas/core/indexing.py:1732: SettingWithCopyWarning: \n",
            "A value is trying to be set on a copy of a slice from a DataFrame\n",
            "\n",
            "See the caveats in the documentation: https://pandas.pydata.org/pandas-docs/stable/user_guide/indexing.html#returning-a-view-versus-a-copy\n",
            "  self._setitem_single_block(indexer, value, name)\n"
          ]
        }
      ]
    },
    {
      "cell_type": "code",
      "source": [
        "sanofi_df"
      ],
      "metadata": {
        "colab": {
          "base_uri": "https://localhost:8080/",
          "height": 423
        },
        "id": "NKjd_4DEeijp",
        "outputId": "1b3abcab-3bd1-4f1c-82ba-5d13f103e3b9"
      },
      "execution_count": null,
      "outputs": [
        {
          "output_type": "execute_result",
          "data": {
            "text/plain": [
              "           dates  sentiments\n",
              "0     04/04/2006         1.0\n",
              "1     05/04/2006         1.0\n",
              "2     06/04/2006         1.0\n",
              "3     07/04/2006         1.0\n",
              "4     08/04/2006         0.0\n",
              "...          ...         ...\n",
              "6166  20/02/2023         1.0\n",
              "6167  21/02/2023         1.0\n",
              "6168  22/02/2023        -1.0\n",
              "6169  23/02/2023         1.0\n",
              "6170  24/02/2023         1.0\n",
              "\n",
              "[6171 rows x 2 columns]"
            ],
            "text/html": [
              "\n",
              "  <div id=\"df-f72d6690-c97d-470d-9926-4fca4705c4af\">\n",
              "    <div class=\"colab-df-container\">\n",
              "      <div>\n",
              "<style scoped>\n",
              "    .dataframe tbody tr th:only-of-type {\n",
              "        vertical-align: middle;\n",
              "    }\n",
              "\n",
              "    .dataframe tbody tr th {\n",
              "        vertical-align: top;\n",
              "    }\n",
              "\n",
              "    .dataframe thead th {\n",
              "        text-align: right;\n",
              "    }\n",
              "</style>\n",
              "<table border=\"1\" class=\"dataframe\">\n",
              "  <thead>\n",
              "    <tr style=\"text-align: right;\">\n",
              "      <th></th>\n",
              "      <th>dates</th>\n",
              "      <th>sentiments</th>\n",
              "    </tr>\n",
              "  </thead>\n",
              "  <tbody>\n",
              "    <tr>\n",
              "      <th>0</th>\n",
              "      <td>04/04/2006</td>\n",
              "      <td>1.0</td>\n",
              "    </tr>\n",
              "    <tr>\n",
              "      <th>1</th>\n",
              "      <td>05/04/2006</td>\n",
              "      <td>1.0</td>\n",
              "    </tr>\n",
              "    <tr>\n",
              "      <th>2</th>\n",
              "      <td>06/04/2006</td>\n",
              "      <td>1.0</td>\n",
              "    </tr>\n",
              "    <tr>\n",
              "      <th>3</th>\n",
              "      <td>07/04/2006</td>\n",
              "      <td>1.0</td>\n",
              "    </tr>\n",
              "    <tr>\n",
              "      <th>4</th>\n",
              "      <td>08/04/2006</td>\n",
              "      <td>0.0</td>\n",
              "    </tr>\n",
              "    <tr>\n",
              "      <th>...</th>\n",
              "      <td>...</td>\n",
              "      <td>...</td>\n",
              "    </tr>\n",
              "    <tr>\n",
              "      <th>6166</th>\n",
              "      <td>20/02/2023</td>\n",
              "      <td>1.0</td>\n",
              "    </tr>\n",
              "    <tr>\n",
              "      <th>6167</th>\n",
              "      <td>21/02/2023</td>\n",
              "      <td>1.0</td>\n",
              "    </tr>\n",
              "    <tr>\n",
              "      <th>6168</th>\n",
              "      <td>22/02/2023</td>\n",
              "      <td>-1.0</td>\n",
              "    </tr>\n",
              "    <tr>\n",
              "      <th>6169</th>\n",
              "      <td>23/02/2023</td>\n",
              "      <td>1.0</td>\n",
              "    </tr>\n",
              "    <tr>\n",
              "      <th>6170</th>\n",
              "      <td>24/02/2023</td>\n",
              "      <td>1.0</td>\n",
              "    </tr>\n",
              "  </tbody>\n",
              "</table>\n",
              "<p>6171 rows × 2 columns</p>\n",
              "</div>\n",
              "      <button class=\"colab-df-convert\" onclick=\"convertToInteractive('df-f72d6690-c97d-470d-9926-4fca4705c4af')\"\n",
              "              title=\"Convert this dataframe to an interactive table.\"\n",
              "              style=\"display:none;\">\n",
              "        \n",
              "  <svg xmlns=\"http://www.w3.org/2000/svg\" height=\"24px\"viewBox=\"0 0 24 24\"\n",
              "       width=\"24px\">\n",
              "    <path d=\"M0 0h24v24H0V0z\" fill=\"none\"/>\n",
              "    <path d=\"M18.56 5.44l.94 2.06.94-2.06 2.06-.94-2.06-.94-.94-2.06-.94 2.06-2.06.94zm-11 1L8.5 8.5l.94-2.06 2.06-.94-2.06-.94L8.5 2.5l-.94 2.06-2.06.94zm10 10l.94 2.06.94-2.06 2.06-.94-2.06-.94-.94-2.06-.94 2.06-2.06.94z\"/><path d=\"M17.41 7.96l-1.37-1.37c-.4-.4-.92-.59-1.43-.59-.52 0-1.04.2-1.43.59L10.3 9.45l-7.72 7.72c-.78.78-.78 2.05 0 2.83L4 21.41c.39.39.9.59 1.41.59.51 0 1.02-.2 1.41-.59l7.78-7.78 2.81-2.81c.8-.78.8-2.07 0-2.86zM5.41 20L4 18.59l7.72-7.72 1.47 1.35L5.41 20z\"/>\n",
              "  </svg>\n",
              "      </button>\n",
              "      \n",
              "  <style>\n",
              "    .colab-df-container {\n",
              "      display:flex;\n",
              "      flex-wrap:wrap;\n",
              "      gap: 12px;\n",
              "    }\n",
              "\n",
              "    .colab-df-convert {\n",
              "      background-color: #E8F0FE;\n",
              "      border: none;\n",
              "      border-radius: 50%;\n",
              "      cursor: pointer;\n",
              "      display: none;\n",
              "      fill: #1967D2;\n",
              "      height: 32px;\n",
              "      padding: 0 0 0 0;\n",
              "      width: 32px;\n",
              "    }\n",
              "\n",
              "    .colab-df-convert:hover {\n",
              "      background-color: #E2EBFA;\n",
              "      box-shadow: 0px 1px 2px rgba(60, 64, 67, 0.3), 0px 1px 3px 1px rgba(60, 64, 67, 0.15);\n",
              "      fill: #174EA6;\n",
              "    }\n",
              "\n",
              "    [theme=dark] .colab-df-convert {\n",
              "      background-color: #3B4455;\n",
              "      fill: #D2E3FC;\n",
              "    }\n",
              "\n",
              "    [theme=dark] .colab-df-convert:hover {\n",
              "      background-color: #434B5C;\n",
              "      box-shadow: 0px 1px 3px 1px rgba(0, 0, 0, 0.15);\n",
              "      filter: drop-shadow(0px 1px 2px rgba(0, 0, 0, 0.3));\n",
              "      fill: #FFFFFF;\n",
              "    }\n",
              "  </style>\n",
              "\n",
              "      <script>\n",
              "        const buttonEl =\n",
              "          document.querySelector('#df-f72d6690-c97d-470d-9926-4fca4705c4af button.colab-df-convert');\n",
              "        buttonEl.style.display =\n",
              "          google.colab.kernel.accessAllowed ? 'block' : 'none';\n",
              "\n",
              "        async function convertToInteractive(key) {\n",
              "          const element = document.querySelector('#df-f72d6690-c97d-470d-9926-4fca4705c4af');\n",
              "          const dataTable =\n",
              "            await google.colab.kernel.invokeFunction('convertToInteractive',\n",
              "                                                     [key], {});\n",
              "          if (!dataTable) return;\n",
              "\n",
              "          const docLinkHtml = 'Like what you see? Visit the ' +\n",
              "            '<a target=\"_blank\" href=https://colab.research.google.com/notebooks/data_table.ipynb>data table notebook</a>'\n",
              "            + ' to learn more about interactive tables.';\n",
              "          element.innerHTML = '';\n",
              "          dataTable['output_type'] = 'display_data';\n",
              "          await google.colab.output.renderOutput(dataTable, element);\n",
              "          const docLink = document.createElement('div');\n",
              "          docLink.innerHTML = docLinkHtml;\n",
              "          element.appendChild(docLink);\n",
              "        }\n",
              "      </script>\n",
              "    </div>\n",
              "  </div>\n",
              "  "
            ]
          },
          "metadata": {},
          "execution_count": 341
        }
      ]
    }
  ],
  "metadata": {
    "colab": {
      "collapsed_sections": [
        "M_vhfVHNO_he",
        "EJI-tZk1ElE9"
      ],
      "provenance": [],
      "include_colab_link": true
    },
    "gpuClass": "standard",
    "kernelspec": {
      "display_name": "Python 3",
      "name": "python3"
    },
    "language_info": {
      "name": "python"
    }
  },
  "nbformat": 4,
  "nbformat_minor": 0
}