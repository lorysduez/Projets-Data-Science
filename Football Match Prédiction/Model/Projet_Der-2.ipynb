{
 "cells": [
  {
   "cell_type": "markdown",
   "metadata": {
    "id": "zoan08SyFp0q"
   },
   "source": [
    "# Matrice"
   ]
  },
  {
   "cell_type": "code",
   "execution_count": 1,
   "metadata": {
    "colab": {
     "base_uri": "https://localhost:8080/"
    },
    "executionInfo": {
     "elapsed": 6889,
     "status": "ok",
     "timestamp": 1705480625089,
     "user": {
      "displayName": "Mat",
      "userId": "00769962888685580246"
     },
     "user_tz": -60
    },
    "id": "yIJ206QKTchy",
    "outputId": "a9fd78d0-4706-4b82-bf38-04cfdae3f429"
   },
   "outputs": [
    {
     "name": "stdout",
     "output_type": "stream",
     "text": [
      "Contenu du répertoire extrait : ['Società Sportiva Lazio S.p.A._2019.npy', 'Torino Calcio_2021.npy', 'Real Club Deportivo Mallorca S.A.D._2021.npy', 'West Ham United Football Club_2021.npy', '1. FC Union Berlin_2019.npy', 'Real Betis Balompié S.A.D._2022.npy', 'Futbol Club Barcelona_2018.npy', 'Real Club Celta de Vigo S. A. D._2020.npy', 'AS Saint-Étienne_2021.npy', 'Club Atlético de Madrid S.A.D._2018.npy', 'Crystal Palace Football Club_2022.npy', 'Chelsea Football Club_2020.npy', 'Bologna Football Club 1909_2020.npy', 'Unione Sportiva Lecce_2022.npy', 'Football Club Lorient-Bretagne Sud_2022.npy', 'Bologna Football Club 1909_2021.npy', 'Chelsea Football Club_2021.npy', 'U.S. Salernitana 1919 S.r.l._2022.npy', 'Paris Saint-Germain Football Club_2022.npy', 'AS Saint-Étienne_2020.npy', 'Real Club Celta de Vigo S. A. D._2021.npy', 'Club Atlético de Madrid S.A.D._2019.npy', 'Futbol Club Barcelona_2019.npy', 'West Ham United Football Club_2020.npy', 'Torino Calcio_2020.npy', 'Società Sportiva Lazio S.p.A._2018.npy', 'Torino Calcio_2022.npy', 'Real Club Deportivo Mallorca S.A.D._2022.npy', 'West Ham United Football Club_2022.npy', 'Real Betis Balompié S.A.D._2021.npy', 'Juventus Football Club_2018.npy', 'Crystal Palace Football Club_2021.npy', 'Paris Saint-Germain Football Club_2020.npy', 'Football Club Lorient-Bretagne Sud_2020.npy', 'Borussia Verein für Leibesübungen 1900 Mönchengladbach_2019.npy', 'Watford FC_2019.npy', 'Watford FC_2018.npy', 'Nîmes Olympique_2020.npy', 'Borussia Verein für Leibesübungen 1900 Mönchengladbach_2018.npy', 'Football Club Lorient-Bretagne Sud_2021.npy', 'Bologna Football Club 1909_2022.npy', 'U.S. Salernitana 1919 S.r.l._2021.npy', 'Brescia Calcio_2019.npy', 'Chelsea Football Club_2022.npy', 'Paris Saint-Germain Football Club_2021.npy', 'Crystal Palace Football Club_2020.npy', 'Real Club Celta de Vigo S. A. D._2022.npy', 'Juventus Football Club_2019.npy', 'Real Betis Balompié S.A.D._2020.npy', 'SpVgg Greuther Fürth_2021.npy', 'Racing Club de Lens_2020.npy', 'Futbol Club Barcelona_2022.npy', 'Real Betis Balompié S.A.D._2018.npy', 'Juventus Football Club_2021.npy', 'Club Atlético de Madrid S.A.D._2022.npy', 'Crystal Palace Football Club_2018.npy', 'Paris Saint-Germain Football Club_2019.npy', '.DS_Store', 'Borussia Verein für Leibesübungen 1900 Mönchengladbach_2020.npy', 'Nîmes Olympique_2018.npy', 'Watford FC_2021.npy', 'Nîmes Olympique_2019.npy', 'Borussia Verein für Leibesübungen 1900 Mönchengladbach_2021.npy', 'Unione Sportiva Lecce_2019.npy', 'Paris Saint-Germain Football Club_2018.npy', 'Crystal Palace Football Club_2019.npy', 'Juventus Football Club_2020.npy', 'Real Betis Balompié S.A.D._2019.npy', 'Racing Club de Lens_2021.npy', '1. FC Union Berlin_2022.npy', 'Società Sportiva Lazio S.p.A._2022.npy', 'Società Sportiva Lazio S.p.A._2020.npy', 'Torino Calcio_2018.npy', 'West Ham United Football Club_2018.npy', '1. FC Union Berlin_2020.npy', 'Futbol Club Barcelona_2021.npy', 'Juventus Football Club_2022.npy', 'Club Atlético de Madrid S.A.D._2021.npy', 'Real Club Celta de Vigo S. A. D._2019.npy', 'AS Saint-Étienne_2018.npy', 'Chelsea Football Club_2019.npy', 'Bologna Football Club 1909_2019.npy', 'Borussia Verein für Leibesübungen 1900 Mönchengladbach_2022.npy', 'Bologna Football Club 1909_2018.npy', 'Chelsea Football Club_2018.npy', 'Club Atlético de Madrid S.A.D._2020.npy', 'AS Saint-Étienne_2019.npy', 'Real Club Celta de Vigo S. A. D._2018.npy', 'Futbol Club Barcelona_2020.npy', '1. FC Union Berlin_2021.npy', 'Racing Club de Lens_2022.npy', 'West Ham United Football Club_2019.npy', 'Real Club Deportivo Mallorca S.A.D._2019.npy', 'Torino Calcio_2019.npy', 'Società Sportiva Lazio S.p.A._2021.npy', 'Manchester City Football Club_2020.npy', 'Nottingham Forest Football Club_2022.npy', 'Football Club Internazionale Milano S.p.A._2022.npy', 'Genoa Cricket and Football Club_2018.npy', 'Tottenham Hotspur Football Club_2019.npy', 'RCD Espanyol Barcelona_2021.npy', 'Sevilla Fútbol Club S.A.D._2019.npy', 'Real Valladolid CF_2022.npy', 'Associazione Calcio Milan_2018.npy', 'FC Girondins Bordeaux_2019.npy', 'Manchester United Football Club_2018.npy', 'Toulouse Football Club_2022.npy', 'FC Bayern München_2018.npy', 'Verein für Bewegungsspiele Stuttgart 1893_2022.npy', 'Verein für Leibesübungen Wolfsburg_2021.npy', 'Stade brestois 29_2019.npy', 'Verein für Leibesübungen Wolfsburg_2020.npy', 'FC Bayern München_2019.npy', 'Norwich City_2019.npy', 'Villarreal Club de Fútbol S.A.D._2022.npy', 'Manchester United Football Club_2019.npy', 'FC Girondins Bordeaux_2018.npy', 'Associazione Calcio Milan_2019.npy', 'FC Schalke 04_2022.npy', 'Sevilla Fútbol Club S.A.D._2018.npy', 'Sport-Club Freiburg_2022.npy', 'Tottenham Hotspur Football Club_2018.npy', 'Genoa Cricket and Football Club_2019.npy', 'Fulham Football Club_2018.npy', 'Manchester City Football Club_2021.npy', 'Football Club Internazionale Milano S.p.A._2021.npy', 'Girona Fútbol Club S. A. D._2022.npy', 'Football Club de Nantes_2019.npy', 'Association sportive de Monaco Football Club_2018.npy', 'Sport-Club Freiburg_2020.npy', 'RCD Espanyol Barcelona_2022.npy', 'FC Schalke 04_2020.npy', 'Atalanta Bergamasca Calcio S.p.a._2018.npy', 'Villarreal Club de Fútbol S.A.D._2020.npy', 'Bayer 04 Leverkusen Fußball_2019.npy', 'Stade de Reims_2019.npy', 'Cagliari Calcio_2021.npy', 'Verein für Bewegungsspiele Stuttgart 1893_2021.npy', 'Club Atlético Osasuna_2019.npy', 'Verein für Leibesübungen Wolfsburg_2022.npy', 'Verein für Bewegungsspiele Stuttgart 1893_2020.npy', 'Cagliari Calcio_2020.npy', 'Chievo Verona_2018.npy', 'Stade de Reims_2018.npy', 'Bayer 04 Leverkusen Fußball_2018.npy', 'Villarreal Club de Fútbol S.A.D._2021.npy', 'Atalanta Bergamasca Calcio S.p.a._2019.npy', 'Real Valladolid CF_2020.npy', 'Sport-Club Freiburg_2021.npy', 'Football Club de Nantes_2018.npy', 'Association sportive de Monaco Football Club_2019.npy', 'Football Club Internazionale Milano S.p.A._2020.npy', 'Manchester City Football Club_2022.npy', 'Football Club Internazionale Milano S.p.A._2018.npy', 'AJ Auxerre_2022.npy', 'Association sportive de Monaco Football Club_2021.npy', 'Football Club de Nantes_2020.npy', 'CD Leganés_2018.npy', 'Sport-Club Freiburg_2019.npy', 'Associazione Calcio Milan_2022.npy', 'Real Valladolid CF_2018.npy', 'FC Schalke 04_2019.npy', 'Atalanta Bergamasca Calcio S.p.a._2021.npy', 'Manchester United Football Club_2022.npy', 'Villarreal Club de Fútbol S.A.D._2019.npy', 'Bayer 04 Leverkusen Fußball_2020.npy', 'Stade de Reims_2020.npy', 'Toulouse Football Club_2018.npy', 'Cagliari Calcio_2018.npy', 'Verein für Bewegungsspiele Stuttgart 1893_2018.npy', 'Club Atlético Osasuna_2020.npy', 'FC Bayern München_2022.npy', 'Stade brestois 29_2022.npy', 'Club Atlético Osasuna_2021.npy', 'Cagliari Calcio_2019.npy', 'Toulouse Football Club_2019.npy', 'Stade de Reims_2021.npy', 'Bayer 04 Leverkusen Fußball_2021.npy', 'Villarreal Club de Fútbol S.A.D._2018.npy', 'Atalanta Bergamasca Calcio S.p.a._2020.npy', 'FC Schalke 04_2018.npy', 'Real Valladolid CF_2019.npy', 'Sevilla Fútbol Club S.A.D._2022.npy', 'AC Ajaccio_2022.npy', 'Sport-Club Freiburg_2018.npy', 'CD Leganés_2019.npy', 'Association sportive de Monaco Football Club_2020.npy', 'Football Club de Nantes_2021.npy', 'Tottenham Hotspur Football Club_2022.npy', 'West Bromwich Albion_2020.npy', 'Football Club Internazionale Milano S.p.A._2019.npy', 'Fulham Football Club_2022.npy', 'Manchester City Football Club_2019.npy', 'Fulham Football Club_2020.npy', 'Huddersfield Town_2018.npy', 'Genoa Cricket and Football Club_2021.npy', 'Girona Fútbol Club S. A. D._2018.npy', 'Tottenham Hotspur Football Club_2020.npy', 'Association sportive de Monaco Football Club_2022.npy', 'RCD Espanyol Barcelona_2018.npy', 'Sevilla Fútbol Club S.A.D._2020.npy', 'Associazione Calcio Milan_2021.npy', 'Associazione Calcio Monza_2022.npy', 'Atalanta Bergamasca Calcio S.p.a._2022.npy', 'FC Girondins Bordeaux_2020.npy', 'Manchester United Football Club_2021.npy', 'Norwich City_2021.npy', 'FC Bayern München_2021.npy', 'Verein für Leibesübungen Wolfsburg_2018.npy', 'Stade brestois 29_2021.npy', 'Stade brestois 29_2020.npy', 'Verein für Leibesübungen Wolfsburg_2019.npy', 'Club Atlético Osasuna_2022.npy', 'FC Bayern München_2020.npy', 'Stade de Reims_2022.npy', 'Manchester United Football Club_2020.npy', 'FC Girondins Bordeaux_2021.npy', 'Bayer 04 Leverkusen Fußball_2022.npy', 'Associazione Calcio Milan_2020.npy', 'Sevilla Fútbol Club S.A.D._2021.npy', 'RCD Espanyol Barcelona_2019.npy', 'Football Club de Nantes_2022.npy', 'Tottenham Hotspur Football Club_2021.npy', 'Genoa Cricket and Football Club_2020.npy', 'Manchester City Football Club_2018.npy', 'Udinese Calcio_2019.npy', 'Stade Rennais Football Club_2021.npy', 'Association Football Club Bournemouth_2022.npy', 'Arsenal Football Club_2018.npy', 'Wolverhampton Wanderers Football Club_2020.npy', 'Eintracht Frankfurt Fußball AG_2018.npy', 'Spezia Calcio_2022.npy', 'Amiens SC_2018.npy', 'FC Augsburg 1907_2018.npy', 'Aston Villa Football Club_2021.npy', 'Brighton and Hove Albion Football Club_2020.npy', 'Olympique de Marseille_2019.npy', 'Valencia Club de Fútbol S. A. D._2019.npy', 'Elche CF_2020.npy', 'Lille Olympique Sporting Club Lille Métropole_2021.npy', 'Everton Football Club_2018.npy', 'Getafe Club de Fútbol S.A.D. Team Dubai_2022.npy', 'Everton Football Club_2019.npy', 'Elche CF_2021.npy', 'Lille Olympique Sporting Club Lille Métropole_2020.npy', 'Sportverein Werder Bremen von 1899_2020.npy', 'Valencia Club de Fútbol S. A. D._2018.npy', 'Olympique de Marseille_2018.npy', 'Brighton and Hove Albion Football Club_2021.npy', 'Aston Villa Football Club_2020.npy', 'Amiens SC_2019.npy', 'FC Augsburg 1907_2019.npy', 'Newcastle United Football Club_2022.npy', 'Eintracht Frankfurt Fußball AG_2019.npy', 'Wolverhampton Wanderers Football Club_2021.npy', 'Empoli Football Club S.r.l._2021.npy', 'Arsenal Football Club_2019.npy', 'Stade Rennais Football Club_2020.npy', 'Leicester City_2022.npy', 'Udinese Calcio_2018.npy', \"Olympique Gymnaste Club Nice Côte d'Azur_2022.npy\", 'Stade Rennais Football Club_2022.npy', \"Olympique Gymnaste Club Nice Côte d'Azur_2020.npy\", 'Leicester City_2020.npy', 'Newcastle United Football Club_2020.npy', 'Angers SCO_2019.npy', 'Spezia Calcio_2021.npy', 'UC Sampdoria_2019.npy', 'Southampton FC_2019.npy', 'Montpellier Hérault Sport Club_2018.npy', 'Borussia Dortmund_2019.npy', 'Aston Villa Football Club_2022.npy', 'Sportverein Werder Bremen von 1899_2022.npy', 'Lille Olympique Sporting Club Lille Métropole_2022.npy', 'SD Huesca_2018.npy', 'Getafe Club de Fútbol S.A.D. Team Dubai_2021.npy', 'Getafe Club de Fútbol S.A.D. Team Dubai_2020.npy', 'Elche CF_2022.npy', '1. Fußball-Club Köln_2019.npy', 'Brighton and Hove Albion Football Club_2022.npy', 'Borussia Dortmund_2018.npy', 'Montpellier Hérault Sport Club_2019.npy', 'Southampton FC_2018.npy', 'UC Sampdoria_2018.npy', 'Venezia FC_2021.npy', 'Spezia Calcio_2020.npy', 'Angers SCO_2018.npy', 'Newcastle United Football Club_2021.npy', 'Empoli Football Club S.r.l._2022.npy', 'Wolverhampton Wanderers Football Club_2022.npy', 'Leicester City_2021.npy', \"Olympique Gymnaste Club Nice Côte d'Azur_2021.npy\", 'Leicester City_2019.npy', \"Olympique Gymnaste Club Nice Côte d'Azur_2019.npy\", 'Benevento Calcio_2020.npy', 'Arsenal Football Club_2022.npy', 'Association Football Club Bournemouth_2018.npy', 'Newcastle United Football Club_2019.npy', 'Eintracht Frankfurt Fußball AG_2022.npy', 'Cádiz Club de Fútbol S.A.D_2021.npy', 'ESTAC Troyes_2021.npy', 'Angers SCO_2020.npy', 'UC Sampdoria_2020.npy', 'Southampton FC_2020.npy', 'Montpellier Hérault Sport Club_2021.npy', 'Borussia Dortmund_2020.npy', '1.FC Nuremberg_2018.npy', 'FC Augsburg 1907_2022.npy', 'SPAL_2019.npy', '1. Fußball-Club Köln_2021.npy', 'Everton Football Club_2022.npy', 'Getafe Club de Fútbol S.A.D. Team Dubai_2018.npy', 'Getafe Club de Fútbol S.A.D. Team Dubai_2019.npy', 'SD Huesca_2020.npy', '1. Fußball-Club Köln_2020.npy', 'Valencia Club de Fútbol S. A. D._2022.npy', 'SPAL_2018.npy', 'Olympique de Marseille_2022.npy', 'SC Paderborn 07_2019.npy', 'Borussia Dortmund_2021.npy', 'Montpellier Hérault Sport Club_2020.npy', 'Southampton FC_2021.npy', 'UC Sampdoria_2021.npy', 'Angers SCO_2021.npy', 'Cádiz Club de Fútbol S.A.D_2020.npy', 'Newcastle United Football Club_2018.npy', 'Association Football Club Bournemouth_2019.npy', 'Verein für Leibesübungen Bochum 1848 – Fußballgemeinschaft_2022.npy', \"Olympique Gymnaste Club Nice Côte d'Azur_2018.npy\", 'Leicester City_2018.npy', 'Udinese Calcio_2022.npy', 'Udinese Calcio_2020.npy', 'Stade Rennais Football Club_2018.npy', 'Arsenal Football Club_2021.npy', 'Wolverhampton Wanderers Football Club_2019.npy', 'Cádiz Club de Fútbol S.A.D_2022.npy', 'Eintracht Frankfurt Fußball AG_2021.npy', 'ESTAC Troyes_2022.npy', 'Montpellier Hérault Sport Club_2022.npy', 'FC Augsburg 1907_2021.npy', 'Brighton and Hove Albion Football Club_2019.npy', 'Olympique de Marseille_2020.npy', 'Valencia Club de Fútbol S. A. D._2020.npy', 'Sportverein Werder Bremen von 1899_2018.npy', '1. Fußball-Club Köln_2022.npy', 'Lille Olympique Sporting Club Lille Métropole_2018.npy', 'Everton Football Club_2021.npy', 'Everton Football Club_2020.npy', 'Lille Olympique Sporting Club Lille Métropole_2019.npy', 'Valencia Club de Fútbol S. A. D._2021.npy', 'Sportverein Werder Bremen von 1899_2019.npy', 'Olympique de Marseille_2021.npy', 'Brighton and Hove Albion Football Club_2018.npy', 'Aston Villa Football Club_2019.npy', 'Borussia Dortmund_2022.npy', 'FC Augsburg 1907_2020.npy', 'Southampton FC_2022.npy', 'UC Sampdoria_2022.npy', 'Angers SCO_2022.npy', 'Eintracht Frankfurt Fußball AG_2020.npy', 'Wolverhampton Wanderers Football Club_2018.npy', 'Arsenal Football Club_2020.npy', 'Verein für Leibesübungen Bochum 1848 – Fußballgemeinschaft_2021.npy', 'Empoli Football Club S.r.l._2018.npy', 'Stade Rennais Football Club_2019.npy', 'Udinese Calcio_2021.npy', 'Dijon FCO_2018.npy', 'Fortuna Düsseldorf_2018.npy', 'EA Guingamp_2018.npy', 'Unione Sportiva Sassuolo Calcio_2022.npy', 'RasenBallsport Leipzig_2019.npy', 'Associazione Sportiva Roma_2022.npy', 'Frosinone Calcio S.r.l._2018.npy', 'Rayo Vallecano de Madrid S.A.D._2018.npy', 'Real Madrid Club de Fútbol_2019.npy', 'Associazione Calcio Fiorentina_2019.npy', 'Hertha BSC_2018.npy', 'Verona Hellas Football Club_2020.npy', 'Società Sportiva Calcio Napoli_2021.npy', 'Sheffield United Football Club_2019.npy', 'TSG 1899 Hoffenheim Fußball-Spielbetriebs GmbH_2019.npy', 'Deportivo Alavés S.A.D._2018.npy', 'Real Sociedad de Fútbol S.A.D._2020.npy', 'Real Sociedad de Fútbol S.A.D._2021.npy', 'Deportivo Alavés S.A.D._2019.npy', 'TSG 1899 Hoffenheim Fußball-Spielbetriebs GmbH_2018.npy', 'Verona Hellas Football Club_2021.npy', 'Società Sportiva Calcio Napoli_2020.npy', 'Hertha BSC_2019.npy', 'Associazione Calcio Fiorentina_2018.npy', 'Real Madrid Club de Fútbol_2018.npy', 'RasenBallsport Leipzig_2018.npy', 'Parma Calcio 1913_2020.npy', '1. Fußball- und Sportverein Mainz 05_2022.npy', 'Fortuna Düsseldorf_2019.npy', 'Dijon FCO_2019.npy', 'Burnley Football Club_2021.npy', '1. Fußball- und Sportverein Mainz 05_2020.npy', 'Liverpool Football Club_2019.npy', 'FC Crotone_2020.npy', 'Unione Sportiva Sassuolo Calcio_2021.npy', 'Racing Club de Strasbourg Alsace_2019.npy', 'Associazione Sportiva Roma_2021.npy', 'SD Eibar_2019.npy', 'Arminia Bielefeld_2020.npy', 'Athletic Club Bilbao_2019.npy', 'Olympique Lyonnais_2019.npy', 'Società Sportiva Calcio Napoli_2022.npy', 'Football Club de Metz_2021.npy', 'Levante UD_2019.npy', 'Real Sociedad de Fútbol S.A.D._2022.npy', 'Granada Club de Fútbol S.A.D._2019.npy', 'Levante UD_2018.npy', 'Football Club de Metz_2020.npy', 'Verona Hellas Football Club_2022.npy', 'Olympique Lyonnais_2018.npy', 'Athletic Club Bilbao_2018.npy', 'Arminia Bielefeld_2021.npy', 'SD Eibar_2018.npy', 'Associazione Sportiva Roma_2020.npy', 'Liverpool Football Club_2018.npy', 'Racing Club de Strasbourg Alsace_2018.npy', 'Unione Sportiva Sassuolo Calcio_2020.npy', 'US Cremonese_2022.npy', '1. Fußball- und Sportverein Mainz 05_2021.npy', 'Burnley Football Club_2020.npy', 'Leeds United_2020.npy', 'Burnley Football Club_2018.npy', '1. Fußball- und Sportverein Mainz 05_2019.npy', 'Racing Club de Strasbourg Alsace_2020.npy', 'Unione Sportiva Sassuolo Calcio_2018.npy', 'Liverpool Football Club_2020.npy', 'Clermont Foot 63_2021.npy', 'Brentford Football Club_2021.npy', 'Associazione Sportiva Roma_2018.npy', 'SD Eibar_2020.npy', 'Athletic Club Bilbao_2020.npy', 'Olympique Lyonnais_2020.npy', 'Rayo Vallecano de Madrid S.A.D._2022.npy', 'Hertha BSC_2022.npy', 'Levante UD_2020.npy', 'Granada Club de Fútbol S.A.D._2021.npy', 'Granada Club de Fútbol S.A.D._2020.npy', 'Levante UD_2021.npy', 'Football Club de Metz_2019.npy', 'TSG 1899 Hoffenheim Fußball-Spielbetriebs GmbH_2022.npy', 'Olympique Lyonnais_2021.npy', 'Real Madrid Club de Fútbol_2022.npy', 'Associazione Calcio Fiorentina_2022.npy', 'Athletic Club Bilbao_2021.npy', 'Hannover 96_2018.npy', 'RasenBallsport Leipzig_2022.npy', 'Associazione Sportiva Roma_2019.npy', 'Unione Sportiva Sassuolo Calcio_2019.npy', 'Racing Club de Strasbourg Alsace_2021.npy', 'Liverpool Football Club_2021.npy', '1. Fußball- und Sportverein Mainz 05_2018.npy', 'SM Caen_2018.npy', 'Burnley Football Club_2019.npy', 'Leeds United_2021.npy', 'Brentford Football Club_2022.npy', 'Clermont Foot 63_2022.npy', 'Parma Calcio 1913_2018.npy', 'RasenBallsport Leipzig_2020.npy', 'Rayo Vallecano de Madrid S.A.D._2021.npy', 'Associazione Calcio Fiorentina_2020.npy', 'Real Madrid Club de Fútbol_2020.npy', 'Hertha BSC_2021.npy', 'Società Sportiva Calcio Napoli_2018.npy', 'Verona Hellas Football Club_2019.npy', 'Sheffield United Football Club_2020.npy', 'TSG 1899 Hoffenheim Fußball-Spielbetriebs GmbH_2020.npy', 'Deportivo Alavés S.A.D._2021.npy', 'Real Sociedad de Fútbol S.A.D._2019.npy', 'Real Sociedad de Fútbol S.A.D._2018.npy', 'Deportivo Alavés S.A.D._2020.npy', 'TSG 1899 Hoffenheim Fußball-Spielbetriebs GmbH_2021.npy', 'Società Sportiva Calcio Napoli_2019.npy', 'Hertha BSC_2020.npy', 'Olympique Lyonnais_2022.npy', 'Real Madrid Club de Fútbol_2021.npy', 'Associazione Calcio Fiorentina_2021.npy', 'Unión Deportiva Almería S.A.D._2022.npy', 'Cardiff City_2018.npy', 'Athletic Club Bilbao_2022.npy', 'RasenBallsport Leipzig_2021.npy', 'Liverpool Football Club_2022.npy', 'Parma Calcio 1913_2019.npy', 'Racing Club de Strasbourg Alsace_2022.npy', 'Leeds United_2022.npy', 'Dijon FCO_2020.npy']\n"
     ]
    }
   ],
   "source": [
    "import os\n",
    "from zipfile import ZipFile\n",
    "\n",
    "# nous supposons que la base d'image se trouve dans le répertoire \"IA-Vision\" de votre Drive\n",
    "#zip_file_path = \"/content/drive/MyDrive/P5/Matrices_Team.zip\"\n",
    "extracted_folder_path = \"/Users/mathieu/Documents/IMT M2/Projet P5 - Foot Predictor/Base de données/Matrices_Team\"\n",
    "\n",
    "'''\n",
    "with ZipFile(zip_file_path, 'r') as zip:\n",
    "    zip.extractall(extracted_folder_path)\n",
    "    print('Extraction terminée')\n",
    "'''\n",
    "\n",
    "folder_path = extracted_folder_path\n",
    "\n",
    "print(\"Contenu du répertoire extrait :\", os.listdir(extracted_folder_path))"
   ]
  },
  {
   "cell_type": "code",
   "execution_count": 2,
   "metadata": {
    "executionInfo": {
     "elapsed": 4388,
     "status": "ok",
     "timestamp": 1705480637724,
     "user": {
      "displayName": "Mat",
      "userId": "00769962888685580246"
     },
     "user_tz": -60
    },
    "id": "gP7aZVbQTryP"
   },
   "outputs": [],
   "source": [
    "import pandas as pd\n",
    "import numpy as np\n",
    "from tensorflow import keras\n",
    "from tensorflow.keras.layers import Input, Conv2D, Flatten, Dense, concatenate"
   ]
  },
  {
   "cell_type": "code",
   "execution_count": 3,
   "metadata": {
    "colab": {
     "base_uri": "https://localhost:8080/",
     "height": 204
    },
    "executionInfo": {
     "elapsed": 1396,
     "status": "ok",
     "timestamp": 1705480702414,
     "user": {
      "displayName": "Mat",
      "userId": "00769962888685580246"
     },
     "user_tz": -60
    },
    "id": "ftu5febtTvhA",
    "outputId": "a72cc537-8bd3-41fc-ffc2-174621aa7137"
   },
   "outputs": [
    {
     "data": {
      "text/html": [
       "<div>\n",
       "<style scoped>\n",
       "    .dataframe tbody tr th:only-of-type {\n",
       "        vertical-align: middle;\n",
       "    }\n",
       "\n",
       "    .dataframe tbody tr th {\n",
       "        vertical-align: top;\n",
       "    }\n",
       "\n",
       "    .dataframe thead th {\n",
       "        text-align: right;\n",
       "    }\n",
       "</style>\n",
       "<table border=\"1\" class=\"dataframe\">\n",
       "  <thead>\n",
       "    <tr style=\"text-align: right;\">\n",
       "      <th></th>\n",
       "      <th>Unnamed: 0</th>\n",
       "      <th>Home_Team</th>\n",
       "      <th>Away_Team</th>\n",
       "      <th>Result</th>\n",
       "      <th>Forme_dom</th>\n",
       "      <th>Forme_exte</th>\n",
       "    </tr>\n",
       "  </thead>\n",
       "  <tbody>\n",
       "    <tr>\n",
       "      <th>0</th>\n",
       "      <td>0</td>\n",
       "      <td>Olympique de Marseille_2018</td>\n",
       "      <td>Toulouse Football Club_2018</td>\n",
       "      <td>1.0</td>\n",
       "      <td>0.0</td>\n",
       "      <td>0.0</td>\n",
       "    </tr>\n",
       "    <tr>\n",
       "      <th>1</th>\n",
       "      <td>1</td>\n",
       "      <td>Manchester United Football Club_2018</td>\n",
       "      <td>Leicester City_2018</td>\n",
       "      <td>1.0</td>\n",
       "      <td>0.0</td>\n",
       "      <td>0.0</td>\n",
       "    </tr>\n",
       "    <tr>\n",
       "      <th>2</th>\n",
       "      <td>2</td>\n",
       "      <td>Olympique Gymnaste Club Nice Côte d'Azur_2018</td>\n",
       "      <td>Stade de Reims_2018</td>\n",
       "      <td>-1.0</td>\n",
       "      <td>0.0</td>\n",
       "      <td>0.0</td>\n",
       "    </tr>\n",
       "    <tr>\n",
       "      <th>3</th>\n",
       "      <td>3</td>\n",
       "      <td>Wolverhampton Wanderers Football Club_2018</td>\n",
       "      <td>Everton Football Club_2018</td>\n",
       "      <td>0.0</td>\n",
       "      <td>0.0</td>\n",
       "      <td>0.0</td>\n",
       "    </tr>\n",
       "    <tr>\n",
       "      <th>4</th>\n",
       "      <td>4</td>\n",
       "      <td>Newcastle United Football Club_2018</td>\n",
       "      <td>Tottenham Hotspur Football Club_2018</td>\n",
       "      <td>-1.0</td>\n",
       "      <td>0.0</td>\n",
       "      <td>0.0</td>\n",
       "    </tr>\n",
       "  </tbody>\n",
       "</table>\n",
       "</div>"
      ],
      "text/plain": [
       "   Unnamed: 0                                      Home_Team  \\\n",
       "0           0                    Olympique de Marseille_2018   \n",
       "1           1           Manchester United Football Club_2018   \n",
       "2           2  Olympique Gymnaste Club Nice Côte d'Azur_2018   \n",
       "3           3     Wolverhampton Wanderers Football Club_2018   \n",
       "4           4            Newcastle United Football Club_2018   \n",
       "\n",
       "                              Away_Team  Result  Forme_dom  Forme_exte  \n",
       "0           Toulouse Football Club_2018     1.0        0.0         0.0  \n",
       "1                   Leicester City_2018     1.0        0.0         0.0  \n",
       "2                   Stade de Reims_2018    -1.0        0.0         0.0  \n",
       "3            Everton Football Club_2018     0.0        0.0         0.0  \n",
       "4  Tottenham Hotspur Football Club_2018    -1.0        0.0         0.0  "
      ]
     },
     "execution_count": 3,
     "metadata": {},
     "output_type": "execute_result"
    }
   ],
   "source": [
    "csv_path = \"/Users/mathieu/Documents/IMT M2/Projet P5 - Foot Predictor/Team_game_result10-1_forme.csv\"  # Remplacez cela par le chemin réel de votre fichier CSV\n",
    "data = pd.read_csv(csv_path)\n",
    "data.head()"
   ]
  },
  {
   "cell_type": "code",
   "execution_count": 4,
   "metadata": {
    "colab": {
     "base_uri": "https://localhost:8080/"
    },
    "executionInfo": {
     "elapsed": 12417,
     "status": "ok",
     "timestamp": 1705480723208,
     "user": {
      "displayName": "Mat",
      "userId": "00769962888685580246"
     },
     "user_tz": -60
    },
    "id": "0nrecISmT2xl",
    "outputId": "cb58e65a-4efa-4a7a-9fe3-aaba383e581b"
   },
   "outputs": [
    {
     "name": "stdout",
     "output_type": "stream",
     "text": [
      "Matrice Dijon FCO_2020.npy - Shape : (3, 4, 20)\n"
     ]
    }
   ],
   "source": [
    "import os\n",
    "import numpy as np\n",
    "\n",
    "# Dossier contenant les matrices d'équipes\n",
    "folder_path = \"/Users/mathieu/Documents/IMT M2/Projet P5 - Foot Predictor/Base de données/Matrices_Team\"\n",
    "\n",
    "# Liste des fichiers dans le dossier\n",
    "team_files = os.listdir(folder_path)\n",
    "\n",
    "# Parcourir chaque fichier et afficher la forme de la matrice\n",
    "for team_file in team_files:\n",
    "    if team_file.endswith(\".npy\"):\n",
    "        team_matrix = np.load(os.path.join(folder_path, team_file))\n",
    "        matrix_shape = team_matrix.shape\n",
    "print(f\"Matrice {team_file} - Shape : {matrix_shape}\")\n"
   ]
  },
  {
   "cell_type": "code",
   "execution_count": 5,
   "metadata": {
    "colab": {
     "base_uri": "https://localhost:8080/"
    },
    "executionInfo": {
     "elapsed": 59218,
     "status": "ok",
     "timestamp": 1705481486395,
     "user": {
      "displayName": "Mat",
      "userId": "00769962888685580246"
     },
     "user_tz": -60
    },
    "id": "8AbbXlIaYnDK",
    "outputId": "0d5a8758-2a35-41e1-e074-73be0cbac921"
   },
   "outputs": [
    {
     "name": "stdout",
     "output_type": "stream",
     "text": [
      "X_combined shape: (8980, 6, 4, 20)\n",
      "Y shape: (8980,)\n"
     ]
    }
   ],
   "source": [
    "X_combined_matrices = []\n",
    "Y_results = []\n",
    "\n",
    "for index, row in data.iterrows():\n",
    "    home_team_name = row['Home_Team']\n",
    "    away_team_name = row['Away_Team']\n",
    "    home_coef = row['Forme_dom']\n",
    "    away_coef = row['Forme_exte']\n",
    "    result = row['Result']\n",
    "\n",
    "    home_team_matrix = np.load(os.path.join(folder_path, f\"{home_team_name}.npy\"))\n",
    "    away_team_matrix = np.load(os.path.join(folder_path, f\"{away_team_name}.npy\"))\n",
    "    home_team_matrix = (home_team_matrix * (1 + home_coef))/20\n",
    "    away_team_matrix = (away_team_matrix * (1 + away_coef))/20\n",
    "\n",
    "    combined_matrix = np.concatenate([home_team_matrix, away_team_matrix], axis=0)\n",
    "\n",
    "    X_combined_matrices.append(combined_matrix)\n",
    "    Y_results.append(result)\n",
    "\n",
    "# Convertir les listes en tableaux NumPy\n",
    "X_combined = np.array(X_combined_matrices)\n",
    "Y = np.array(Y_results)\n",
    "\n",
    "print(\"X_combined shape:\", X_combined.shape)\n",
    "print(\"Y shape:\", Y.shape)\n"
   ]
  },
  {
   "cell_type": "code",
   "execution_count": 6,
   "metadata": {
    "colab": {
     "base_uri": "https://localhost:8080/"
    },
    "executionInfo": {
     "elapsed": 396,
     "status": "ok",
     "timestamp": 1705481491632,
     "user": {
      "displayName": "Mat",
      "userId": "00769962888685580246"
     },
     "user_tz": -60
    },
    "id": "aAT88v9llacy",
    "outputId": "739e479f-7dde-43ff-c1b1-98780f7d847f"
   },
   "outputs": [
    {
     "name": "stdout",
     "output_type": "stream",
     "text": [
      "[0 'Olympique de Marseille_2018' 'Toulouse Football Club_2018' 1.0 0.0 0.0]\n",
      "[[0.   0.35 0.6  0.  ]\n",
      " [0.75 0.85 0.75 0.65]\n",
      " [0.7  0.75 0.9  0.5 ]\n",
      " [0.   0.6  0.7  0.  ]\n",
      " [0.55 0.7  0.65 0.65]\n",
      " [0.8  0.7  0.7  0.65]]\n"
     ]
    }
   ],
   "source": [
    "D = data.to_numpy()\n",
    "print(D[0])\n",
    "print(X_combined[0][:,:,7])"
   ]
  },
  {
   "cell_type": "code",
   "execution_count": 7,
   "metadata": {
    "colab": {
     "base_uri": "https://localhost:8080/"
    },
    "executionInfo": {
     "elapsed": 416,
     "status": "ok",
     "timestamp": 1705481494057,
     "user": {
      "displayName": "Mat",
      "userId": "00769962888685580246"
     },
     "user_tz": -60
    },
    "id": "959UE5D2mM-Y",
    "outputId": "d86f3fdb-2926-4c6f-d601-28ef40cd9a80"
   },
   "outputs": [
    {
     "name": "stdout",
     "output_type": "stream",
     "text": [
      "[1289 'Olympique de Marseille_2018'\n",
      " \"Olympique Gymnaste Club Nice Côte d'Azur_2018\" 1.0 0.6666666666666666\n",
      " -0.1666666666666666]\n",
      "[[0.         0.58333333 1.         0.        ]\n",
      " [1.25       1.41666667 1.25       1.08333333]\n",
      " [1.16666667 1.25       1.5        0.83333333]\n",
      " [0.         0.5        0.29166667 0.        ]\n",
      " [0.29166667 0.5        0.41666667 0.33333333]\n",
      " [0.41666667 0.5        0.58333333 0.66666667]]\n"
     ]
    }
   ],
   "source": [
    "print(D[1289])\n",
    "print(X_combined[1289][:,:,7])"
   ]
  },
  {
   "cell_type": "code",
   "execution_count": 8,
   "metadata": {
    "colab": {
     "base_uri": "https://localhost:8080/"
    },
    "executionInfo": {
     "elapsed": 6,
     "status": "ok",
     "timestamp": 1705481399114,
     "user": {
      "displayName": "Mat",
      "userId": "00769962888685580246"
     },
     "user_tz": -60
    },
    "id": "Z8G0pH58mYtT",
    "outputId": "dad1847c-2779-48dd-ee56-a8b45232dfe2"
   },
   "outputs": [
    {
     "name": "stderr",
     "output_type": "stream",
     "text": [
      "2024-01-22 14:15:24.312522: I tensorflow/core/common_runtime/pluggable_device/pluggable_device_factory.cc:305] Could not identify NUMA node of platform GPU ID 0, defaulting to 0. Your kernel may not have been built with NUMA support.\n",
      "2024-01-22 14:15:24.312822: I tensorflow/core/common_runtime/pluggable_device/pluggable_device_factory.cc:271] Created TensorFlow device (/job:localhost/replica:0/task:0/device:GPU:0 with 0 MB memory) -> physical PluggableDevice (device: 0, name: METAL, pci bus id: <undefined>)\n"
     ]
    },
    {
     "name": "stdout",
     "output_type": "stream",
     "text": [
      "Metal device set to: Apple M1\n",
      "Model: \"sequential\"\n",
      "_________________________________________________________________\n",
      " Layer (type)                Output Shape              Param #   \n",
      "=================================================================\n",
      " conv2d (Conv2D)             (None, 3, 2, 32)          2592      \n",
      "                                                                 \n",
      " conv2d_1 (Conv2D)           (None, 3, 2, 64)          8256      \n",
      "                                                                 \n",
      " conv2d_2 (Conv2D)           (None, 3, 2, 128)         73856     \n",
      "                                                                 \n",
      " flatten (Flatten)           (None, 768)               0         \n",
      "                                                                 \n",
      " dense (Dense)               (None, 256)               196864    \n",
      "                                                                 \n",
      " dense_1 (Dense)             (None, 3)                 771       \n",
      "                                                                 \n",
      "=================================================================\n",
      "Total params: 282,339\n",
      "Trainable params: 282,339\n",
      "Non-trainable params: 0\n",
      "_________________________________________________________________\n"
     ]
    }
   ],
   "source": [
    "from tensorflow.keras.models import Sequential\n",
    "from tensorflow.keras.layers import Conv2D, Flatten, Dense, Dropout, MaxPooling2D, BatchNormalization\n",
    "from tensorflow.keras import optimizers\n",
    "\n",
    "# Taille des matrices d'équipes\n",
    "input_shape = (6, 4, 20)\n",
    "\n",
    "# Modèle CNN\n",
    "model = Sequential([\n",
    "    Conv2D(32, (2,2), strides=(2,2), activation='relu', padding='same', input_shape=input_shape),\n",
    "    Conv2D(64, (2,2), strides=(1,1), activation='relu', padding='same'),\n",
    "    Conv2D(128, (3,3), strides=(1,1), activation='relu', padding='same'),\n",
    "    Flatten(),\n",
    "    Dense(256, activation='relu'),\n",
    "    Dense(3, activation='softmax')\n",
    "])\n",
    "\n",
    "# Compiler le modèle\n",
    "model.compile(optimizer=optimizers.Adam(learning_rate=0.001), loss='sparse_categorical_crossentropy', metrics=['accuracy'])\n",
    "\n",
    "# Afficher le résumé du modèle\n",
    "model.summary()"
   ]
  },
  {
   "cell_type": "code",
   "execution_count": 9,
   "metadata": {
    "colab": {
     "base_uri": "https://localhost:8080/"
    },
    "executionInfo": {
     "elapsed": 12187,
     "status": "ok",
     "timestamp": 1705481414151,
     "user": {
      "displayName": "Mat",
      "userId": "00769962888685580246"
     },
     "user_tz": -60
    },
    "id": "E6-ADuooiLE7",
    "outputId": "0e1f6f58-ec84-41ef-e86d-bc090c490216"
   },
   "outputs": [
    {
     "name": "stdout",
     "output_type": "stream",
     "text": [
      "Epoch 1/10\n"
     ]
    },
    {
     "name": "stderr",
     "output_type": "stream",
     "text": [
      "2024-01-22 14:15:31.169370: W tensorflow/core/platform/profile_utils/cpu_utils.cc:128] Failed to get CPU frequency: 0 Hz\n",
      "2024-01-22 14:15:31.396595: I tensorflow/core/grappler/optimizers/custom_graph_optimizer_registry.cc:113] Plugin optimizer for device_type GPU is enabled.\n"
     ]
    },
    {
     "name": "stdout",
     "output_type": "stream",
     "text": [
      "180/180 [==============================] - ETA: 0s - loss: 5200.1846 - accuracy: 0.3445"
     ]
    },
    {
     "name": "stderr",
     "output_type": "stream",
     "text": [
      "2024-01-22 14:15:36.964970: I tensorflow/core/grappler/optimizers/custom_graph_optimizer_registry.cc:113] Plugin optimizer for device_type GPU is enabled.\n"
     ]
    },
    {
     "name": "stdout",
     "output_type": "stream",
     "text": [
      "180/180 [==============================] - 6s 14ms/step - loss: 5200.1846 - accuracy: 0.3445 - val_loss: 20659.0254 - val_accuracy: 0.4586\n",
      "Epoch 2/10\n",
      "180/180 [==============================] - 1s 8ms/step - loss: 486490.4375 - accuracy: 0.3463 - val_loss: 3037941.2500 - val_accuracy: 0.2289\n",
      "Epoch 3/10\n",
      "180/180 [==============================] - 1s 8ms/step - loss: 8798336.0000 - accuracy: 0.3372 - val_loss: 5985656.5000 - val_accuracy: 0.4586\n",
      "Epoch 4/10\n",
      "180/180 [==============================] - 1s 8ms/step - loss: 36094076.0000 - accuracy: 0.3259 - val_loss: 50160968.0000 - val_accuracy: 0.4586\n",
      "Epoch 5/10\n",
      "180/180 [==============================] - 1s 8ms/step - loss: 89343000.0000 - accuracy: 0.3431 - val_loss: 49407668.0000 - val_accuracy: 0.4586\n",
      "Epoch 6/10\n",
      "180/180 [==============================] - 1s 8ms/step - loss: 254127200.0000 - accuracy: 0.3351 - val_loss: 135209888.0000 - val_accuracy: 0.4586\n",
      "Epoch 7/10\n",
      "180/180 [==============================] - 1s 8ms/step - loss: 492524192.0000 - accuracy: 0.3393 - val_loss: 273681632.0000 - val_accuracy: 0.4586\n",
      "Epoch 8/10\n",
      "180/180 [==============================] - 1s 8ms/step - loss: 775216384.0000 - accuracy: 0.3444 - val_loss: 1032049920.0000 - val_accuracy: 0.4586\n",
      "Epoch 9/10\n",
      "180/180 [==============================] - 1s 8ms/step - loss: 798676736.0000 - accuracy: 0.3376 - val_loss: 814144384.0000 - val_accuracy: 0.2289\n",
      "Epoch 10/10\n",
      "180/180 [==============================] - 1s 8ms/step - loss: 1815945728.0000 - accuracy: 0.3400 - val_loss: 3229754624.0000 - val_accuracy: 0.0000e+00\n",
      "57/57 [==============================] - 1s 10ms/step - loss: 3265019392.0000 - accuracy: 0.0000e+00\n",
      "Loss: 3265019392.0, Accuracy: 0.0\n"
     ]
    }
   ],
   "source": [
    "from sklearn.model_selection import train_test_split\n",
    "\n",
    "# Diviser les données en ensembles d'entraînement et de test\n",
    "X_train, X_test, Y_train, Y_test = train_test_split(X_combined, Y, test_size=0.2)\n",
    "\n",
    "# Entraîner le modèle\n",
    "history = model.fit(X_train, Y_train, epochs=10, batch_size=32, validation_split=0.2)\n",
    "\n",
    "# Évaluation du modèle sur l'ensemble de test\n",
    "loss, accuracy = model.evaluate(X_test, Y_test)\n",
    "print(f\"Loss: {loss}, Accuracy: {accuracy}\")"
   ]
  },
  {
   "cell_type": "code",
   "execution_count": 10,
   "metadata": {
    "colab": {
     "base_uri": "https://localhost:8080/",
     "height": 469
    },
    "executionInfo": {
     "elapsed": 1061,
     "status": "ok",
     "timestamp": 1704980065775,
     "user": {
      "displayName": "Mat",
      "userId": "00769962888685580246"
     },
     "user_tz": -60
    },
    "id": "vK6QjM0BBExd",
    "outputId": "36d65765-7e1c-49a1-e1ed-43f11fc548d2"
   },
   "outputs": [
    {
     "data": {
      "text/plain": [
       "<AxesSubplot: title={'center': 'Keketovic'}>"
      ]
     },
     "execution_count": 10,
     "metadata": {},
     "output_type": "execute_result"
    },
    {
     "data": {
      "image/png": "[encoded data removed]",
      "text/plain": [
       "<Figure size 640x480 with 1 Axes>"
      ]
     },
     "metadata": {},
     "output_type": "display_data"
    }
   ],
   "source": [
    "pd.DataFrame(history.history).plot(title=\"Keketovic\")"
   ]
  },
  {
   "cell_type": "code",
   "execution_count": 11,
   "metadata": {
    "id": "q6dYCjyKybJg"
   },
   "outputs": [],
   "source": [
    "import tensorflow as tf"
   ]
  },
  {
   "cell_type": "code",
   "execution_count": 12,
   "metadata": {
    "id": "p-Vc2vL1x28D"
   },
   "outputs": [],
   "source": [
    "VGG16 =  tf.keras.applications.vgg16.VGG16(\n",
    "    include_top=True,\n",
    "    weights='imagenet',\n",
    "    input_tensor=None,\n",
    "    input_shape=(224,224,3),\n",
    "    pooling=None,\n",
    "    classes=1000,\n",
    "    classifier_activation='softmax'\n",
    ")"
   ]
  },
  {
   "cell_type": "code",
   "execution_count": 13,
   "metadata": {
    "colab": {
     "base_uri": "https://localhost:8080/"
    },
    "executionInfo": {
     "elapsed": 537,
     "status": "ok",
     "timestamp": 1704981276567,
     "user": {
      "displayName": "Mat",
      "userId": "00769962888685580246"
     },
     "user_tz": -60
    },
    "id": "hb98vptnzVwH",
    "outputId": "86b0b80d-34c6-40bb-cc09-659150bd3a06"
   },
   "outputs": [
    {
     "name": "stdout",
     "output_type": "stream",
     "text": [
      "Model: \"vgg16\"\n",
      "_________________________________________________________________\n",
      " Layer (type)                Output Shape              Param #   \n",
      "=================================================================\n",
      " input_1 (InputLayer)        [(None, 224, 224, 3)]     0         \n",
      "                                                                 \n",
      " block1_conv1 (Conv2D)       (None, 224, 224, 64)      1792      \n",
      "                                                                 \n",
      " block1_conv2 (Conv2D)       (None, 224, 224, 64)      36928     \n",
      "                                                                 \n",
      " block1_pool (MaxPooling2D)  (None, 112, 112, 64)      0         \n",
      "                                                                 \n",
      " block2_conv1 (Conv2D)       (None, 112, 112, 128)     73856     \n",
      "                                                                 \n",
      " block2_conv2 (Conv2D)       (None, 112, 112, 128)     147584    \n",
      "                                                                 \n",
      " block2_pool (MaxPooling2D)  (None, 56, 56, 128)       0         \n",
      "                                                                 \n",
      " block3_conv1 (Conv2D)       (None, 56, 56, 256)       295168    \n",
      "                                                                 \n",
      " block3_conv2 (Conv2D)       (None, 56, 56, 256)       590080    \n",
      "                                                                 \n",
      " block3_conv3 (Conv2D)       (None, 56, 56, 256)       590080    \n",
      "                                                                 \n",
      " block3_pool (MaxPooling2D)  (None, 28, 28, 256)       0         \n",
      "                                                                 \n",
      " block4_conv1 (Conv2D)       (None, 28, 28, 512)       1180160   \n",
      "                                                                 \n",
      " block4_conv2 (Conv2D)       (None, 28, 28, 512)       2359808   \n",
      "                                                                 \n",
      " block4_conv3 (Conv2D)       (None, 28, 28, 512)       2359808   \n",
      "                                                                 \n",
      " block4_pool (MaxPooling2D)  (None, 14, 14, 512)       0         \n",
      "                                                                 \n",
      " block5_conv1 (Conv2D)       (None, 14, 14, 512)       2359808   \n",
      "                                                                 \n",
      " block5_conv2 (Conv2D)       (None, 14, 14, 512)       2359808   \n",
      "                                                                 \n",
      " block5_conv3 (Conv2D)       (None, 14, 14, 512)       2359808   \n",
      "                                                                 \n",
      " block5_pool (MaxPooling2D)  (None, 7, 7, 512)         0         \n",
      "                                                                 \n",
      " flatten (Flatten)           (None, 25088)             0         \n",
      "                                                                 \n",
      " fc1 (Dense)                 (None, 4096)              102764544 \n",
      "                                                                 \n",
      " fc2 (Dense)                 (None, 4096)              16781312  \n",
      "                                                                 \n",
      " predictions (Dense)         (None, 1000)              4097000   \n",
      "                                                                 \n",
      "=================================================================\n",
      "Total params: 138,357,544\n",
      "Trainable params: 138,357,544\n",
      "Non-trainable params: 0\n",
      "_________________________________________________________________\n"
     ]
    }
   ],
   "source": [
    "VGG16.summary()"
   ]
  },
  {
   "cell_type": "code",
   "execution_count": 14,
   "metadata": {
    "colab": {
     "base_uri": "https://localhost:8080/"
    },
    "executionInfo": {
     "elapsed": 610,
     "status": "ok",
     "timestamp": 1704981289036,
     "user": {
      "displayName": "Mat",
      "userId": "00769962888685580246"
     },
     "user_tz": -60
    },
    "id": "gs4LmYWIKi07",
    "outputId": "b2ea59af-551c-4f0b-f87a-5056869a92f7"
   },
   "outputs": [
    {
     "name": "stdout",
     "output_type": "stream",
     "text": [
      "Model: \"sequential_1\"\n",
      "_________________________________________________________________\n",
      " Layer (type)                Output Shape              Param #   \n",
      "=================================================================\n",
      " conv2d_transpose (Conv2DTra  (None, 12, 12, 32)       2592      \n",
      " nspose)                                                         \n",
      "                                                                 \n",
      " conv2d_transpose_1 (Conv2DT  (None, 14, 14, 32)       9248      \n",
      " ranspose)                                                       \n",
      "                                                                 \n",
      " conv2d_transpose_2 (Conv2DT  (None, 28, 28, 32)       4128      \n",
      " ranspose)                                                       \n",
      "                                                                 \n",
      " conv2d_transpose_3 (Conv2DT  (None, 56, 56, 32)       4128      \n",
      " ranspose)                                                       \n",
      "                                                                 \n",
      " conv2d_transpose_4 (Conv2DT  (None, 112, 112, 32)     4128      \n",
      " ranspose)                                                       \n",
      "                                                                 \n",
      " conv2d_transpose_5 (Conv2DT  (None, 224, 224, 3)      387       \n",
      " ranspose)                                                       \n",
      "                                                                 \n",
      " vgg16 (Functional)          (None, 1000)              138357544 \n",
      "                                                                 \n",
      " flatten_1 (Flatten)         (None, 1000)              0         \n",
      "                                                                 \n",
      " dense_2 (Dense)             (None, 256)               256256    \n",
      "                                                                 \n",
      " dense_3 (Dense)             (None, 3)                 771       \n",
      "                                                                 \n",
      "=================================================================\n",
      "Total params: 138,639,182\n",
      "Trainable params: 138,639,182\n",
      "Non-trainable params: 0\n",
      "_________________________________________________________________\n"
     ]
    }
   ],
   "source": [
    "from tensorflow.keras.models import Sequential\n",
    "from tensorflow.keras.layers import Conv2D, Flatten, Dense, Dropout, MaxPooling2D, BatchNormalization, Conv2DTranspose\n",
    "from tensorflow.keras import optimizers\n",
    "\n",
    "# Taille des matrices d'équipes\n",
    "input_shape = (6, 4, 20)\n",
    "\n",
    "# Modèle CNN\n",
    "model2 = Sequential([\n",
    "    Conv2DTranspose(32, (2,2), strides=(2,3), activation='relu', padding='same', input_shape=input_shape),\n",
    "    Conv2DTranspose(32, (3,3), strides=(1,1), activation='relu', input_shape=input_shape),\n",
    "    Conv2DTranspose(32, (2,2), strides=(2,2), activation='relu', padding='same', input_shape=input_shape),\n",
    "    Conv2DTranspose(32, (2,2), strides=(2,2), activation='relu', padding='same', input_shape=input_shape),\n",
    "    Conv2DTranspose(32, (2,2), strides=(2,2), activation='relu', padding='same', input_shape=input_shape),\n",
    "    Conv2DTranspose(3, (2,2), strides=(2,2), activation='relu', padding='same', input_shape=input_shape),\n",
    "    VGG16,\n",
    "    Flatten(),\n",
    "    Dense(256, activation='relu'),\n",
    "    Dense(3, activation='softmax')\n",
    "])\n",
    "\n",
    "# Compiler le modèle\n",
    "model2.compile(optimizer=optimizers.Adam(learning_rate=0.001), loss='sparse_categorical_crossentropy', metrics=['accuracy'])\n",
    "\n",
    "# Afficher le résumé du modèle\n",
    "model2.summary()"
   ]
  },
  {
   "cell_type": "code",
   "execution_count": 15,
   "metadata": {
    "colab": {
     "base_uri": "https://localhost:8080/",
     "height": 708
    },
    "executionInfo": {
     "elapsed": 925237,
     "status": "error",
     "timestamp": 1704982248767,
     "user": {
      "displayName": "Mat",
      "userId": "00769962888685580246"
     },
     "user_tz": -60
    },
    "id": "KSZVxWG_zjbJ",
    "outputId": "f4e149eb-5ae4-41f5-b3d0-1decee1ac3cf"
   },
   "outputs": [
    {
     "name": "stdout",
     "output_type": "stream",
     "text": [
      "Epoch 1/10\n"
     ]
    },
    {
     "name": "stderr",
     "output_type": "stream",
     "text": [
      "2024-01-22 14:16:26.113338: I tensorflow/core/grappler/optimizers/custom_graph_optimizer_registry.cc:113] Plugin optimizer for device_type GPU is enabled.\n"
     ]
    },
    {
     "name": "stdout",
     "output_type": "stream",
     "text": [
      "180/180 [==============================] - ETA: 0s - loss: 0.5562 - accuracy: 0.4352"
     ]
    },
    {
     "name": "stderr",
     "output_type": "stream",
     "text": [
      "2024-01-22 14:25:26.026363: I tensorflow/core/grappler/optimizers/custom_graph_optimizer_registry.cc:113] Plugin optimizer for device_type GPU is enabled.\n"
     ]
    },
    {
     "name": "stdout",
     "output_type": "stream",
     "text": [
      "180/180 [==============================] - 572s 3s/step - loss: 0.5562 - accuracy: 0.4352 - val_loss: 0.4977 - val_accuracy: 0.4440\n",
      "Epoch 2/10\n",
      " 20/180 [==>...........................] - ETA: 8:32 - loss: 0.4724 - accuracy: 0.4266"
     ]
    },
    {
     "ename": "KeyboardInterrupt",
     "evalue": "",
     "output_type": "error",
     "traceback": [
      "\u001b[0;31m---------------------------------------------------------------------------\u001b[0m",
      "\u001b[0;31mKeyboardInterrupt\u001b[0m                         Traceback (most recent call last)",
      "Cell \u001b[0;32mIn[15], line 7\u001b[0m\n\u001b[1;32m      4\u001b[0m X_train, X_test, Y_train, Y_test \u001b[38;5;241m=\u001b[39m train_test_split(X_combined, Y, test_size\u001b[38;5;241m=\u001b[39m\u001b[38;5;241m0.2\u001b[39m)\n\u001b[1;32m      6\u001b[0m \u001b[38;5;66;03m# Entraîner le modèle\u001b[39;00m\n\u001b[0;32m----> 7\u001b[0m history \u001b[38;5;241m=\u001b[39m \u001b[43mmodel2\u001b[49m\u001b[38;5;241;43m.\u001b[39;49m\u001b[43mfit\u001b[49m\u001b[43m(\u001b[49m\u001b[43mX_train\u001b[49m\u001b[43m,\u001b[49m\u001b[43m \u001b[49m\u001b[43mY_train\u001b[49m\u001b[43m,\u001b[49m\u001b[43m \u001b[49m\u001b[43mepochs\u001b[49m\u001b[38;5;241;43m=\u001b[39;49m\u001b[38;5;241;43m10\u001b[39;49m\u001b[43m,\u001b[49m\u001b[43m \u001b[49m\u001b[43mbatch_size\u001b[49m\u001b[38;5;241;43m=\u001b[39;49m\u001b[38;5;241;43m32\u001b[39;49m\u001b[43m,\u001b[49m\u001b[43m \u001b[49m\u001b[43mvalidation_split\u001b[49m\u001b[38;5;241;43m=\u001b[39;49m\u001b[38;5;241;43m0.2\u001b[39;49m\u001b[43m)\u001b[49m\n",
      "File \u001b[0;32m~/env/lib/python3.8/site-packages/keras/utils/traceback_utils.py:64\u001b[0m, in \u001b[0;36mfilter_traceback.<locals>.error_handler\u001b[0;34m(*args, **kwargs)\u001b[0m\n\u001b[1;32m     62\u001b[0m filtered_tb \u001b[38;5;241m=\u001b[39m \u001b[38;5;28;01mNone\u001b[39;00m\n\u001b[1;32m     63\u001b[0m \u001b[38;5;28;01mtry\u001b[39;00m:\n\u001b[0;32m---> 64\u001b[0m   \u001b[38;5;28;01mreturn\u001b[39;00m \u001b[43mfn\u001b[49m\u001b[43m(\u001b[49m\u001b[38;5;241;43m*\u001b[39;49m\u001b[43margs\u001b[49m\u001b[43m,\u001b[49m\u001b[43m \u001b[49m\u001b[38;5;241;43m*\u001b[39;49m\u001b[38;5;241;43m*\u001b[39;49m\u001b[43mkwargs\u001b[49m\u001b[43m)\u001b[49m\n\u001b[1;32m     65\u001b[0m \u001b[38;5;28;01mexcept\u001b[39;00m \u001b[38;5;167;01mException\u001b[39;00m \u001b[38;5;28;01mas\u001b[39;00m e:  \u001b[38;5;66;03m# pylint: disable=broad-except\u001b[39;00m\n\u001b[1;32m     66\u001b[0m   filtered_tb \u001b[38;5;241m=\u001b[39m _process_traceback_frames(e\u001b[38;5;241m.\u001b[39m__traceback__)\n",
      "File \u001b[0;32m~/env/lib/python3.8/site-packages/keras/engine/training.py:1409\u001b[0m, in \u001b[0;36mModel.fit\u001b[0;34m(self, x, y, batch_size, epochs, verbose, callbacks, validation_split, validation_data, shuffle, class_weight, sample_weight, initial_epoch, steps_per_epoch, validation_steps, validation_batch_size, validation_freq, max_queue_size, workers, use_multiprocessing)\u001b[0m\n\u001b[1;32m   1402\u001b[0m \u001b[38;5;28;01mwith\u001b[39;00m tf\u001b[38;5;241m.\u001b[39mprofiler\u001b[38;5;241m.\u001b[39mexperimental\u001b[38;5;241m.\u001b[39mTrace(\n\u001b[1;32m   1403\u001b[0m     \u001b[38;5;124m'\u001b[39m\u001b[38;5;124mtrain\u001b[39m\u001b[38;5;124m'\u001b[39m,\n\u001b[1;32m   1404\u001b[0m     epoch_num\u001b[38;5;241m=\u001b[39mepoch,\n\u001b[1;32m   1405\u001b[0m     step_num\u001b[38;5;241m=\u001b[39mstep,\n\u001b[1;32m   1406\u001b[0m     batch_size\u001b[38;5;241m=\u001b[39mbatch_size,\n\u001b[1;32m   1407\u001b[0m     _r\u001b[38;5;241m=\u001b[39m\u001b[38;5;241m1\u001b[39m):\n\u001b[1;32m   1408\u001b[0m   callbacks\u001b[38;5;241m.\u001b[39mon_train_batch_begin(step)\n\u001b[0;32m-> 1409\u001b[0m   tmp_logs \u001b[38;5;241m=\u001b[39m \u001b[38;5;28;43mself\u001b[39;49m\u001b[38;5;241;43m.\u001b[39;49m\u001b[43mtrain_function\u001b[49m\u001b[43m(\u001b[49m\u001b[43miterator\u001b[49m\u001b[43m)\u001b[49m\n\u001b[1;32m   1410\u001b[0m   \u001b[38;5;28;01mif\u001b[39;00m data_handler\u001b[38;5;241m.\u001b[39mshould_sync:\n\u001b[1;32m   1411\u001b[0m     context\u001b[38;5;241m.\u001b[39masync_wait()\n",
      "File \u001b[0;32m~/env/lib/python3.8/site-packages/tensorflow/python/util/traceback_utils.py:150\u001b[0m, in \u001b[0;36mfilter_traceback.<locals>.error_handler\u001b[0;34m(*args, **kwargs)\u001b[0m\n\u001b[1;32m    148\u001b[0m filtered_tb \u001b[38;5;241m=\u001b[39m \u001b[38;5;28;01mNone\u001b[39;00m\n\u001b[1;32m    149\u001b[0m \u001b[38;5;28;01mtry\u001b[39;00m:\n\u001b[0;32m--> 150\u001b[0m   \u001b[38;5;28;01mreturn\u001b[39;00m \u001b[43mfn\u001b[49m\u001b[43m(\u001b[49m\u001b[38;5;241;43m*\u001b[39;49m\u001b[43margs\u001b[49m\u001b[43m,\u001b[49m\u001b[43m \u001b[49m\u001b[38;5;241;43m*\u001b[39;49m\u001b[38;5;241;43m*\u001b[39;49m\u001b[43mkwargs\u001b[49m\u001b[43m)\u001b[49m\n\u001b[1;32m    151\u001b[0m \u001b[38;5;28;01mexcept\u001b[39;00m \u001b[38;5;167;01mException\u001b[39;00m \u001b[38;5;28;01mas\u001b[39;00m e:\n\u001b[1;32m    152\u001b[0m   filtered_tb \u001b[38;5;241m=\u001b[39m _process_traceback_frames(e\u001b[38;5;241m.\u001b[39m__traceback__)\n",
      "File \u001b[0;32m~/env/lib/python3.8/site-packages/tensorflow/python/eager/def_function.py:915\u001b[0m, in \u001b[0;36mFunction.__call__\u001b[0;34m(self, *args, **kwds)\u001b[0m\n\u001b[1;32m    912\u001b[0m compiler \u001b[38;5;241m=\u001b[39m \u001b[38;5;124m\"\u001b[39m\u001b[38;5;124mxla\u001b[39m\u001b[38;5;124m\"\u001b[39m \u001b[38;5;28;01mif\u001b[39;00m \u001b[38;5;28mself\u001b[39m\u001b[38;5;241m.\u001b[39m_jit_compile \u001b[38;5;28;01melse\u001b[39;00m \u001b[38;5;124m\"\u001b[39m\u001b[38;5;124mnonXla\u001b[39m\u001b[38;5;124m\"\u001b[39m\n\u001b[1;32m    914\u001b[0m \u001b[38;5;28;01mwith\u001b[39;00m OptionalXlaContext(\u001b[38;5;28mself\u001b[39m\u001b[38;5;241m.\u001b[39m_jit_compile):\n\u001b[0;32m--> 915\u001b[0m   result \u001b[38;5;241m=\u001b[39m \u001b[38;5;28;43mself\u001b[39;49m\u001b[38;5;241;43m.\u001b[39;49m\u001b[43m_call\u001b[49m\u001b[43m(\u001b[49m\u001b[38;5;241;43m*\u001b[39;49m\u001b[43margs\u001b[49m\u001b[43m,\u001b[49m\u001b[43m \u001b[49m\u001b[38;5;241;43m*\u001b[39;49m\u001b[38;5;241;43m*\u001b[39;49m\u001b[43mkwds\u001b[49m\u001b[43m)\u001b[49m\n\u001b[1;32m    917\u001b[0m new_tracing_count \u001b[38;5;241m=\u001b[39m \u001b[38;5;28mself\u001b[39m\u001b[38;5;241m.\u001b[39mexperimental_get_tracing_count()\n\u001b[1;32m    918\u001b[0m without_tracing \u001b[38;5;241m=\u001b[39m (tracing_count \u001b[38;5;241m==\u001b[39m new_tracing_count)\n",
      "File \u001b[0;32m~/env/lib/python3.8/site-packages/tensorflow/python/eager/def_function.py:947\u001b[0m, in \u001b[0;36mFunction._call\u001b[0;34m(self, *args, **kwds)\u001b[0m\n\u001b[1;32m    944\u001b[0m   \u001b[38;5;28mself\u001b[39m\u001b[38;5;241m.\u001b[39m_lock\u001b[38;5;241m.\u001b[39mrelease()\n\u001b[1;32m    945\u001b[0m   \u001b[38;5;66;03m# In this case we have created variables on the first call, so we run the\u001b[39;00m\n\u001b[1;32m    946\u001b[0m   \u001b[38;5;66;03m# defunned version which is guaranteed to never create variables.\u001b[39;00m\n\u001b[0;32m--> 947\u001b[0m   \u001b[38;5;28;01mreturn\u001b[39;00m \u001b[38;5;28;43mself\u001b[39;49m\u001b[38;5;241;43m.\u001b[39;49m\u001b[43m_stateless_fn\u001b[49m\u001b[43m(\u001b[49m\u001b[38;5;241;43m*\u001b[39;49m\u001b[43margs\u001b[49m\u001b[43m,\u001b[49m\u001b[43m \u001b[49m\u001b[38;5;241;43m*\u001b[39;49m\u001b[38;5;241;43m*\u001b[39;49m\u001b[43mkwds\u001b[49m\u001b[43m)\u001b[49m  \u001b[38;5;66;03m# pylint: disable=not-callable\u001b[39;00m\n\u001b[1;32m    948\u001b[0m \u001b[38;5;28;01melif\u001b[39;00m \u001b[38;5;28mself\u001b[39m\u001b[38;5;241m.\u001b[39m_stateful_fn \u001b[38;5;129;01mis\u001b[39;00m \u001b[38;5;129;01mnot\u001b[39;00m \u001b[38;5;28;01mNone\u001b[39;00m:\n\u001b[1;32m    949\u001b[0m   \u001b[38;5;66;03m# Release the lock early so that multiple threads can perform the call\u001b[39;00m\n\u001b[1;32m    950\u001b[0m   \u001b[38;5;66;03m# in parallel.\u001b[39;00m\n\u001b[1;32m    951\u001b[0m   \u001b[38;5;28mself\u001b[39m\u001b[38;5;241m.\u001b[39m_lock\u001b[38;5;241m.\u001b[39mrelease()\n",
      "File \u001b[0;32m~/env/lib/python3.8/site-packages/tensorflow/python/eager/function.py:2453\u001b[0m, in \u001b[0;36mFunction.__call__\u001b[0;34m(self, *args, **kwargs)\u001b[0m\n\u001b[1;32m   2450\u001b[0m \u001b[38;5;28;01mwith\u001b[39;00m \u001b[38;5;28mself\u001b[39m\u001b[38;5;241m.\u001b[39m_lock:\n\u001b[1;32m   2451\u001b[0m   (graph_function,\n\u001b[1;32m   2452\u001b[0m    filtered_flat_args) \u001b[38;5;241m=\u001b[39m \u001b[38;5;28mself\u001b[39m\u001b[38;5;241m.\u001b[39m_maybe_define_function(args, kwargs)\n\u001b[0;32m-> 2453\u001b[0m \u001b[38;5;28;01mreturn\u001b[39;00m \u001b[43mgraph_function\u001b[49m\u001b[38;5;241;43m.\u001b[39;49m\u001b[43m_call_flat\u001b[49m\u001b[43m(\u001b[49m\n\u001b[1;32m   2454\u001b[0m \u001b[43m    \u001b[49m\u001b[43mfiltered_flat_args\u001b[49m\u001b[43m,\u001b[49m\u001b[43m \u001b[49m\u001b[43mcaptured_inputs\u001b[49m\u001b[38;5;241;43m=\u001b[39;49m\u001b[43mgraph_function\u001b[49m\u001b[38;5;241;43m.\u001b[39;49m\u001b[43mcaptured_inputs\u001b[49m\u001b[43m)\u001b[49m\n",
      "File \u001b[0;32m~/env/lib/python3.8/site-packages/tensorflow/python/eager/function.py:1860\u001b[0m, in \u001b[0;36mConcreteFunction._call_flat\u001b[0;34m(self, args, captured_inputs, cancellation_manager)\u001b[0m\n\u001b[1;32m   1856\u001b[0m possible_gradient_type \u001b[38;5;241m=\u001b[39m gradients_util\u001b[38;5;241m.\u001b[39mPossibleTapeGradientTypes(args)\n\u001b[1;32m   1857\u001b[0m \u001b[38;5;28;01mif\u001b[39;00m (possible_gradient_type \u001b[38;5;241m==\u001b[39m gradients_util\u001b[38;5;241m.\u001b[39mPOSSIBLE_GRADIENT_TYPES_NONE\n\u001b[1;32m   1858\u001b[0m     \u001b[38;5;129;01mand\u001b[39;00m executing_eagerly):\n\u001b[1;32m   1859\u001b[0m   \u001b[38;5;66;03m# No tape is watching; skip to running the function.\u001b[39;00m\n\u001b[0;32m-> 1860\u001b[0m   \u001b[38;5;28;01mreturn\u001b[39;00m \u001b[38;5;28mself\u001b[39m\u001b[38;5;241m.\u001b[39m_build_call_outputs(\u001b[38;5;28;43mself\u001b[39;49m\u001b[38;5;241;43m.\u001b[39;49m\u001b[43m_inference_function\u001b[49m\u001b[38;5;241;43m.\u001b[39;49m\u001b[43mcall\u001b[49m\u001b[43m(\u001b[49m\n\u001b[1;32m   1861\u001b[0m \u001b[43m      \u001b[49m\u001b[43mctx\u001b[49m\u001b[43m,\u001b[49m\u001b[43m \u001b[49m\u001b[43margs\u001b[49m\u001b[43m,\u001b[49m\u001b[43m \u001b[49m\u001b[43mcancellation_manager\u001b[49m\u001b[38;5;241;43m=\u001b[39;49m\u001b[43mcancellation_manager\u001b[49m\u001b[43m)\u001b[49m)\n\u001b[1;32m   1862\u001b[0m forward_backward \u001b[38;5;241m=\u001b[39m \u001b[38;5;28mself\u001b[39m\u001b[38;5;241m.\u001b[39m_select_forward_and_backward_functions(\n\u001b[1;32m   1863\u001b[0m     args,\n\u001b[1;32m   1864\u001b[0m     possible_gradient_type,\n\u001b[1;32m   1865\u001b[0m     executing_eagerly)\n\u001b[1;32m   1866\u001b[0m forward_function, args_with_tangents \u001b[38;5;241m=\u001b[39m forward_backward\u001b[38;5;241m.\u001b[39mforward()\n",
      "File \u001b[0;32m~/env/lib/python3.8/site-packages/tensorflow/python/eager/function.py:497\u001b[0m, in \u001b[0;36m_EagerDefinedFunction.call\u001b[0;34m(self, ctx, args, cancellation_manager)\u001b[0m\n\u001b[1;32m    495\u001b[0m \u001b[38;5;28;01mwith\u001b[39;00m _InterpolateFunctionError(\u001b[38;5;28mself\u001b[39m):\n\u001b[1;32m    496\u001b[0m   \u001b[38;5;28;01mif\u001b[39;00m cancellation_manager \u001b[38;5;129;01mis\u001b[39;00m \u001b[38;5;28;01mNone\u001b[39;00m:\n\u001b[0;32m--> 497\u001b[0m     outputs \u001b[38;5;241m=\u001b[39m \u001b[43mexecute\u001b[49m\u001b[38;5;241;43m.\u001b[39;49m\u001b[43mexecute\u001b[49m\u001b[43m(\u001b[49m\n\u001b[1;32m    498\u001b[0m \u001b[43m        \u001b[49m\u001b[38;5;28;43mstr\u001b[39;49m\u001b[43m(\u001b[49m\u001b[38;5;28;43mself\u001b[39;49m\u001b[38;5;241;43m.\u001b[39;49m\u001b[43msignature\u001b[49m\u001b[38;5;241;43m.\u001b[39;49m\u001b[43mname\u001b[49m\u001b[43m)\u001b[49m\u001b[43m,\u001b[49m\n\u001b[1;32m    499\u001b[0m \u001b[43m        \u001b[49m\u001b[43mnum_outputs\u001b[49m\u001b[38;5;241;43m=\u001b[39;49m\u001b[38;5;28;43mself\u001b[39;49m\u001b[38;5;241;43m.\u001b[39;49m\u001b[43m_num_outputs\u001b[49m\u001b[43m,\u001b[49m\n\u001b[1;32m    500\u001b[0m \u001b[43m        \u001b[49m\u001b[43minputs\u001b[49m\u001b[38;5;241;43m=\u001b[39;49m\u001b[43margs\u001b[49m\u001b[43m,\u001b[49m\n\u001b[1;32m    501\u001b[0m \u001b[43m        \u001b[49m\u001b[43mattrs\u001b[49m\u001b[38;5;241;43m=\u001b[39;49m\u001b[43mattrs\u001b[49m\u001b[43m,\u001b[49m\n\u001b[1;32m    502\u001b[0m \u001b[43m        \u001b[49m\u001b[43mctx\u001b[49m\u001b[38;5;241;43m=\u001b[39;49m\u001b[43mctx\u001b[49m\u001b[43m)\u001b[49m\n\u001b[1;32m    503\u001b[0m   \u001b[38;5;28;01melse\u001b[39;00m:\n\u001b[1;32m    504\u001b[0m     outputs \u001b[38;5;241m=\u001b[39m execute\u001b[38;5;241m.\u001b[39mexecute_with_cancellation(\n\u001b[1;32m    505\u001b[0m         \u001b[38;5;28mstr\u001b[39m(\u001b[38;5;28mself\u001b[39m\u001b[38;5;241m.\u001b[39msignature\u001b[38;5;241m.\u001b[39mname),\n\u001b[1;32m    506\u001b[0m         num_outputs\u001b[38;5;241m=\u001b[39m\u001b[38;5;28mself\u001b[39m\u001b[38;5;241m.\u001b[39m_num_outputs,\n\u001b[0;32m   (...)\u001b[0m\n\u001b[1;32m    509\u001b[0m         ctx\u001b[38;5;241m=\u001b[39mctx,\n\u001b[1;32m    510\u001b[0m         cancellation_manager\u001b[38;5;241m=\u001b[39mcancellation_manager)\n",
      "File \u001b[0;32m~/env/lib/python3.8/site-packages/tensorflow/python/eager/execute.py:54\u001b[0m, in \u001b[0;36mquick_execute\u001b[0;34m(op_name, num_outputs, inputs, attrs, ctx, name)\u001b[0m\n\u001b[1;32m     52\u001b[0m \u001b[38;5;28;01mtry\u001b[39;00m:\n\u001b[1;32m     53\u001b[0m   ctx\u001b[38;5;241m.\u001b[39mensure_initialized()\n\u001b[0;32m---> 54\u001b[0m   tensors \u001b[38;5;241m=\u001b[39m \u001b[43mpywrap_tfe\u001b[49m\u001b[38;5;241;43m.\u001b[39;49m\u001b[43mTFE_Py_Execute\u001b[49m\u001b[43m(\u001b[49m\u001b[43mctx\u001b[49m\u001b[38;5;241;43m.\u001b[39;49m\u001b[43m_handle\u001b[49m\u001b[43m,\u001b[49m\u001b[43m \u001b[49m\u001b[43mdevice_name\u001b[49m\u001b[43m,\u001b[49m\u001b[43m \u001b[49m\u001b[43mop_name\u001b[49m\u001b[43m,\u001b[49m\n\u001b[1;32m     55\u001b[0m \u001b[43m                                      \u001b[49m\u001b[43minputs\u001b[49m\u001b[43m,\u001b[49m\u001b[43m \u001b[49m\u001b[43mattrs\u001b[49m\u001b[43m,\u001b[49m\u001b[43m \u001b[49m\u001b[43mnum_outputs\u001b[49m\u001b[43m)\u001b[49m\n\u001b[1;32m     56\u001b[0m \u001b[38;5;28;01mexcept\u001b[39;00m core\u001b[38;5;241m.\u001b[39m_NotOkStatusException \u001b[38;5;28;01mas\u001b[39;00m e:\n\u001b[1;32m     57\u001b[0m   \u001b[38;5;28;01mif\u001b[39;00m name \u001b[38;5;129;01mis\u001b[39;00m \u001b[38;5;129;01mnot\u001b[39;00m \u001b[38;5;28;01mNone\u001b[39;00m:\n",
      "\u001b[0;31mKeyboardInterrupt\u001b[0m: "
     ]
    }
   ],
   "source": [
    "from sklearn.model_selection import train_test_split\n",
    "\n",
    "# Diviser les données en ensembles d'entraînement et de test\n",
    "X_train, X_test, Y_train, Y_test = train_test_split(X_combined, Y, test_size=0.2)\n",
    "\n",
    "# Entraîner le modèle\n",
    "history = model2.fit(X_train, Y_train, epochs=10, batch_size=32, validation_split=0.2)"
   ]
  },
  {
   "cell_type": "code",
   "execution_count": null,
   "metadata": {
    "colab": {
     "base_uri": "https://localhost:8080/"
    },
    "executionInfo": {
     "elapsed": 9249,
     "status": "ok",
     "timestamp": 1704982293065,
     "user": {
      "displayName": "Mat",
      "userId": "00769962888685580246"
     },
     "user_tz": -60
    },
    "id": "MJ7MpWti3OyC",
    "outputId": "ee72d1a6-08f8-4a12-ea85-747f934291fc"
   },
   "outputs": [
    {
     "name": "stdout",
     "output_type": "stream",
     "text": [
      "57/57 [==============================] - 9s 156ms/step - loss: 1.0734 - accuracy: 0.4360\n",
      "Loss: 1.0734456777572632, Accuracy: 0.435968816280365\n"
     ]
    }
   ],
   "source": [
    "# Évaluation du modèle sur l'ensemble de test\n",
    "loss, accuracy = model2.evaluate(X_test, Y_test)\n",
    "print(f\"Loss: {loss}, Accuracy: {accuracy}\")"
   ]
  },
  {
   "cell_type": "code",
   "execution_count": null,
   "metadata": {
    "colab": {
     "base_uri": "https://localhost:8080/",
     "height": 469
    },
    "executionInfo": {
     "elapsed": 4,
     "status": "ok",
     "timestamp": 1704982315332,
     "user": {
      "displayName": "Mat",
      "userId": "00769962888685580246"
     },
     "user_tz": -60
    },
    "id": "-Umub3t_3Xdd",
    "outputId": "3c1274f8-c2b9-4ad5-9918-c9a4dbc747cf"
   },
   "outputs": [
    {
     "data": {
      "text/plain": [
       "<Axes: title={'center': 'Keketovic'}>"
      ]
     },
     "execution_count": 39,
     "metadata": {},
     "output_type": "execute_result"
    },
    {
     "data": {
      "image/png": "[encoded data removed]",
      "text/plain": [
       "<Figure size 640x480 with 1 Axes>"
      ]
     },
     "metadata": {},
     "output_type": "display_data"
    }
   ],
   "source": [
    "pd.DataFrame(history.history).plot(title=\"Keketovic\")"
   ]
  },
  {
   "cell_type": "code",
   "execution_count": null,
   "metadata": {
    "id": "FdZANru66IyD"
   },
   "outputs": [],
   "source": [
    "vgg_model =  tf.keras.applications.vgg16.VGG16(\n",
    "    include_top=True,\n",
    "    weights='imagenet',\n",
    "    input_tensor=None,\n",
    "    input_shape=(224,224,3),\n",
    "    pooling=None,\n",
    "    classes=1000,\n",
    "    classifier_activation='softmax'\n",
    ")"
   ]
  },
  {
   "cell_type": "code",
   "execution_count": null,
   "metadata": {
    "colab": {
     "base_uri": "https://localhost:8080/"
    },
    "executionInfo": {
     "elapsed": 504,
     "status": "ok",
     "timestamp": 1704983826626,
     "user": {
      "displayName": "Mat",
      "userId": "00769962888685580246"
     },
     "user_tz": -60
    },
    "id": "ucSg8UkK6Ivg",
    "outputId": "d0792ead-bee9-4ddf-c1cd-51c3bfe265cf"
   },
   "outputs": [
    {
     "name": "stdout",
     "output_type": "stream",
     "text": [
      "Model: \"sequential_20\"\n",
      "_________________________________________________________________\n",
      " Layer (type)                Output Shape              Param #   \n",
      "=================================================================\n",
      " conv2d_transpose_72 (Conv2  (None, 12, 12, 32)        2592      \n",
      " DTranspose)                                                     \n",
      "                                                                 \n",
      " conv2d_transpose_73 (Conv2  (None, 14, 14, 32)        9248      \n",
      " DTranspose)                                                     \n",
      "                                                                 \n",
      " conv2d_transpose_74 (Conv2  (None, 28, 28, 32)        4128      \n",
      " DTranspose)                                                     \n",
      "                                                                 \n",
      " conv2d_transpose_75 (Conv2  (None, 56, 56, 32)        4128      \n",
      " DTranspose)                                                     \n",
      "                                                                 \n",
      " conv2d_transpose_76 (Conv2  (None, 112, 112, 32)      4128      \n",
      " DTranspose)                                                     \n",
      "                                                                 \n",
      " conv2d_transpose_77 (Conv2  (None, 224, 224, 3)       387       \n",
      " DTranspose)                                                     \n",
      "                                                                 \n",
      " vgg16 (Functional)          (None, 1000)              138357544 \n",
      "                                                                 \n",
      " flatten_20 (Flatten)        (None, 1000)              0         \n",
      "                                                                 \n",
      " dropout_2 (Dropout)         (None, 1000)              0         \n",
      "                                                                 \n",
      " dense_43 (Dense)            (None, 512)               512512    \n",
      "                                                                 \n",
      " dense_44 (Dense)            (None, 256)               131328    \n",
      "                                                                 \n",
      " dropout_3 (Dropout)         (None, 256)               0         \n",
      "                                                                 \n",
      " dense_45 (Dense)            (None, 128)               32896     \n",
      "                                                                 \n",
      " dense_46 (Dense)            (None, 64)                8256      \n",
      "                                                                 \n",
      " dropout_4 (Dropout)         (None, 64)                0         \n",
      "                                                                 \n",
      " dense_47 (Dense)            (None, 3)                 195       \n",
      "                                                                 \n",
      "=================================================================\n",
      "Total params: 139067342 (530.50 MB)\n",
      "Trainable params: 21589902 (82.36 MB)\n",
      "Non-trainable params: 117477440 (448.14 MB)\n",
      "_________________________________________________________________\n"
     ]
    }
   ],
   "source": [
    "from tensorflow.keras.models import Sequential\n",
    "from tensorflow.keras.layers import Conv2D, Flatten, Dense, Dropout, MaxPooling2D, BatchNormalization, Conv2DTranspose\n",
    "from tensorflow.keras import optimizers\n",
    "\n",
    "# Taille des matrices d'équipes\n",
    "input_shape = (6, 4, 20)\n",
    "\n",
    "# Modèle CNN\n",
    "model3 = Sequential([\n",
    "    Conv2DTranspose(32, (2,2), strides=(2,3), activation='relu', padding='same', input_shape=input_shape),\n",
    "    Conv2DTranspose(32, (3,3), strides=(1,1), activation='relu', input_shape=input_shape),\n",
    "    Conv2DTranspose(32, (2,2), strides=(2,2), activation='relu', padding='same', input_shape=input_shape),\n",
    "    Conv2DTranspose(32, (2,2), strides=(2,2), activation='relu', padding='same', input_shape=input_shape),\n",
    "    Conv2DTranspose(32, (2,2), strides=(2,2), activation='relu', padding='same', input_shape=input_shape),\n",
    "    Conv2DTranspose(3, (2,2), strides=(2,2), activation='relu', padding='same', input_shape=input_shape),\n",
    "    vgg_model,\n",
    "    Flatten(),\n",
    "    Dropout(0.5),\n",
    "    Dense(512, activation='relu'),\n",
    "    Dense(256, activation='relu'),\n",
    "    Dropout(0.5),\n",
    "    Dense(128, activation='relu'),\n",
    "    Dense(64, activation='relu'),\n",
    "    Dropout(0.5),\n",
    "    Dense(3, activation='softmax')\n",
    "])\n",
    "\n",
    "# Compiler le modèle\n",
    "model3.compile(optimizer=optimizers.Adam(learning_rate=0.001), loss='sparse_categorical_crossentropy', metrics=['accuracy'])\n",
    "\n",
    "# Afficher le résumé du modèle\n",
    "model3.summary()"
   ]
  },
  {
   "cell_type": "code",
   "execution_count": null,
   "metadata": {
    "colab": {
     "base_uri": "https://localhost:8080/"
    },
    "executionInfo": {
     "elapsed": 403,
     "status": "ok",
     "timestamp": 1704983834354,
     "user": {
      "displayName": "Mat",
      "userId": "00769962888685580246"
     },
     "user_tz": -60
    },
    "id": "ARtZNcSN6IBT",
    "outputId": "5b392d99-dc28-4982-8a13-c0c813780aa0"
   },
   "outputs": [
    {
     "name": "stdout",
     "output_type": "stream",
     "text": [
      "0 input_3 True\n",
      "1 block1_conv1 True\n",
      "2 block1_conv2 False\n",
      "3 block1_pool False\n",
      "4 block2_conv1 False\n",
      "5 block2_conv2 False\n",
      "6 block2_pool False\n",
      "7 block3_conv1 False\n",
      "8 block3_conv2 False\n",
      "9 block3_conv3 False\n",
      "10 block3_pool False\n",
      "11 block4_conv1 False\n",
      "12 block4_conv2 False\n",
      "13 block4_conv3 False\n",
      "14 block4_pool False\n",
      "15 block5_conv1 False\n",
      "16 block5_conv2 False\n",
      "17 block5_conv3 False\n",
      "18 block5_pool False\n",
      "19 flatten False\n",
      "20 fc1 False\n",
      "21 fc2 True\n",
      "22 predictions True\n"
     ]
    }
   ],
   "source": [
    "# Freeze four convolution blocks\n",
    "for layer in vgg_model.layers[2:21]:\n",
    "    layer.trainable = False\n",
    "# Make sure you have frozen the correct layers\n",
    "for i, layer in enumerate(vgg_model.layers):\n",
    "    print(i, layer.name, layer.trainable)"
   ]
  },
  {
   "cell_type": "code",
   "execution_count": null,
   "metadata": {
    "colab": {
     "base_uri": "https://localhost:8080/"
    },
    "executionInfo": {
     "elapsed": 408,
     "status": "ok",
     "timestamp": 1704983841037,
     "user": {
      "displayName": "Mat",
      "userId": "00769962888685580246"
     },
     "user_tz": -60
    },
    "id": "OX48bwmq6q5E",
    "outputId": "0c091490-009d-4c25-b201-7c20a7b416d0"
   },
   "outputs": [
    {
     "name": "stdout",
     "output_type": "stream",
     "text": [
      "Model: \"sequential_20\"\n",
      "_________________________________________________________________\n",
      " Layer (type)                Output Shape              Param #   \n",
      "=================================================================\n",
      " conv2d_transpose_72 (Conv2  (None, 12, 12, 32)        2592      \n",
      " DTranspose)                                                     \n",
      "                                                                 \n",
      " conv2d_transpose_73 (Conv2  (None, 14, 14, 32)        9248      \n",
      " DTranspose)                                                     \n",
      "                                                                 \n",
      " conv2d_transpose_74 (Conv2  (None, 28, 28, 32)        4128      \n",
      " DTranspose)                                                     \n",
      "                                                                 \n",
      " conv2d_transpose_75 (Conv2  (None, 56, 56, 32)        4128      \n",
      " DTranspose)                                                     \n",
      "                                                                 \n",
      " conv2d_transpose_76 (Conv2  (None, 112, 112, 32)      4128      \n",
      " DTranspose)                                                     \n",
      "                                                                 \n",
      " conv2d_transpose_77 (Conv2  (None, 224, 224, 3)       387       \n",
      " DTranspose)                                                     \n",
      "                                                                 \n",
      " vgg16 (Functional)          (None, 1000)              138357544 \n",
      "                                                                 \n",
      " flatten_20 (Flatten)        (None, 1000)              0         \n",
      "                                                                 \n",
      " dropout_2 (Dropout)         (None, 1000)              0         \n",
      "                                                                 \n",
      " dense_43 (Dense)            (None, 512)               512512    \n",
      "                                                                 \n",
      " dense_44 (Dense)            (None, 256)               131328    \n",
      "                                                                 \n",
      " dropout_3 (Dropout)         (None, 256)               0         \n",
      "                                                                 \n",
      " dense_45 (Dense)            (None, 128)               32896     \n",
      "                                                                 \n",
      " dense_46 (Dense)            (None, 64)                8256      \n",
      "                                                                 \n",
      " dropout_4 (Dropout)         (None, 64)                0         \n",
      "                                                                 \n",
      " dense_47 (Dense)            (None, 3)                 195       \n",
      "                                                                 \n",
      "=================================================================\n",
      "Total params: 139067342 (530.50 MB)\n",
      "Trainable params: 21589902 (82.36 MB)\n",
      "Non-trainable params: 117477440 (448.14 MB)\n",
      "_________________________________________________________________\n"
     ]
    }
   ],
   "source": [
    "model3.summary()"
   ]
  },
  {
   "cell_type": "code",
   "execution_count": null,
   "metadata": {
    "colab": {
     "base_uri": "https://localhost:8080/"
    },
    "executionInfo": {
     "elapsed": 638505,
     "status": "ok",
     "timestamp": 1704984484635,
     "user": {
      "displayName": "Mat",
      "userId": "00769962888685580246"
     },
     "user_tz": -60
    },
    "id": "f8YeePZT6ItC",
    "outputId": "29ed7a13-7e78-4c5e-8d59-35d5686326ce"
   },
   "outputs": [
    {
     "name": "stdout",
     "output_type": "stream",
     "text": [
      "Epoch 1/10\n",
      "180/180 [==============================] - 73s 359ms/step - loss: 1.0807 - accuracy: 0.4296 - val_loss: 1.0651 - val_accuracy: 0.4475\n",
      "Epoch 2/10\n",
      "180/180 [==============================] - 59s 328ms/step - loss: 1.0788 - accuracy: 0.4319 - val_loss: 1.0705 - val_accuracy: 0.4475\n",
      "Epoch 3/10\n",
      "180/180 [==============================] - 63s 351ms/step - loss: 1.0764 - accuracy: 0.4322 - val_loss: 1.0637 - val_accuracy: 0.4475\n",
      "Epoch 4/10\n",
      "180/180 [==============================] - 59s 327ms/step - loss: 1.0771 - accuracy: 0.4322 - val_loss: 1.0630 - val_accuracy: 0.4475\n",
      "Epoch 5/10\n",
      "180/180 [==============================] - 59s 326ms/step - loss: 1.0762 - accuracy: 0.4321 - val_loss: 1.0635 - val_accuracy: 0.4475\n",
      "Epoch 6/10\n",
      "180/180 [==============================] - 59s 326ms/step - loss: 1.0762 - accuracy: 0.4326 - val_loss: 1.0632 - val_accuracy: 0.4475\n",
      "Epoch 7/10\n",
      "180/180 [==============================] - 63s 351ms/step - loss: 1.0757 - accuracy: 0.4322 - val_loss: 1.0627 - val_accuracy: 0.4475\n",
      "Epoch 8/10\n",
      "180/180 [==============================] - 63s 353ms/step - loss: 1.0757 - accuracy: 0.4322 - val_loss: 1.0628 - val_accuracy: 0.4475\n",
      "Epoch 9/10\n",
      "180/180 [==============================] - 63s 352ms/step - loss: 1.0756 - accuracy: 0.4322 - val_loss: 1.0625 - val_accuracy: 0.4475\n",
      "Epoch 10/10\n",
      "180/180 [==============================] - 63s 351ms/step - loss: 1.0752 - accuracy: 0.4322 - val_loss: 1.0641 - val_accuracy: 0.4475\n",
      "57/57 [==============================] - 7s 126ms/step - loss: 1.0748 - accuracy: 0.4349\n",
      "Loss: 1.0747644901275635, Accuracy: 0.43485522270202637\n"
     ]
    }
   ],
   "source": [
    "from sklearn.model_selection import train_test_split\n",
    "\n",
    "# Diviser les données en ensembles d'entraînement et de test\n",
    "X_train, X_test, Y_train, Y_test = train_test_split(X_combined, Y, test_size=0.2)\n",
    "\n",
    "# Entraîner le modèle\n",
    "history = model3.fit(X_train, Y_train, epochs=10, batch_size=32, validation_split=0.2)\n",
    "\n",
    "# Évaluation du modèle sur l'ensemble de test\n",
    "loss, accuracy = model3.evaluate(X_test, Y_test)\n",
    "print(f\"Loss: {loss}, Accuracy: {accuracy}\")"
   ]
  },
  {
   "cell_type": "code",
   "execution_count": null,
   "metadata": {
    "colab": {
     "base_uri": "https://localhost:8080/",
     "height": 469
    },
    "executionInfo": {
     "elapsed": 526,
     "status": "ok",
     "timestamp": 1704984494490,
     "user": {
      "displayName": "Mat",
      "userId": "00769962888685580246"
     },
     "user_tz": -60
    },
    "id": "Qo8FiyY56ImE",
    "outputId": "ad70b501-0dd6-4b6d-aba1-8f87777da32f"
   },
   "outputs": [
    {
     "data": {
      "text/plain": [
       "<Axes: title={'center': 'Keketovic'}>"
      ]
     },
     "execution_count": 78,
     "metadata": {},
     "output_type": "execute_result"
    },
    {
     "data": {
      "image/png": "[encoded data removed]",
      "text/plain": [
       "<Figure size 640x480 with 1 Axes>"
      ]
     },
     "metadata": {},
     "output_type": "display_data"
    }
   ],
   "source": [
    "pd.DataFrame(history.history).plot(title=\"Keketovic\")"
   ]
  },
  {
   "cell_type": "code",
   "execution_count": null,
   "metadata": {
    "id": "WtolYQm335I-"
   },
   "outputs": [],
   "source": [
    "D = data.to_numpy()"
   ]
  },
  {
   "cell_type": "code",
   "execution_count": null,
   "metadata": {
    "colab": {
     "base_uri": "https://localhost:8080/"
    },
    "executionInfo": {
     "elapsed": 8,
     "status": "ok",
     "timestamp": 1704982668872,
     "user": {
      "displayName": "Mat",
      "userId": "00769962888685580246"
     },
     "user_tz": -60
    },
    "id": "JoDBQptG4rOV",
    "outputId": "a17f9c70-78da-42c4-fe45-a008d96c25cc"
   },
   "outputs": [
    {
     "data": {
      "text/plain": [
       "array([5963, 'Manchester United Football Club_2021',\n",
       "       'Brighton and Hove Albion Football Club_2021', 0.0], dtype=object)"
      ]
     },
     "execution_count": 50,
     "metadata": {},
     "output_type": "execute_result"
    }
   ],
   "source": [
    "D[5963]"
   ]
  },
  {
   "cell_type": "code",
   "execution_count": null,
   "metadata": {
    "colab": {
     "base_uri": "https://localhost:8080/"
    },
    "executionInfo": {
     "elapsed": 9,
     "status": "ok",
     "timestamp": 1704982757159,
     "user": {
      "displayName": "Mat",
      "userId": "00769962888685580246"
     },
     "user_tz": -60
    },
    "id": "Hgf9pXRP3dBd",
    "outputId": "8ea98eed-0183-41ff-a7d9-0f38e7de070d"
   },
   "outputs": [
    {
     "data": {
      "text/plain": [
       "array([[ 0.,  5., 14.,  0.],\n",
       "       [11., 18., 12., 14.],\n",
       "       [15., 15., 11., 13.],\n",
       "       [ 0., 17., 13.,  0.],\n",
       "       [ 9., 13., 15., 11.],\n",
       "       [15., 13., 15.,  9.]])"
      ]
     },
     "execution_count": 53,
     "metadata": {},
     "output_type": "execute_result"
    }
   ],
   "source": [
    "X_combined[5963][:,:,7]*20"
   ]
  },
  {
   "cell_type": "code",
   "execution_count": null,
   "metadata": {
    "colab": {
     "base_uri": "https://localhost:8080/"
    },
    "executionInfo": {
     "elapsed": 488,
     "status": "ok",
     "timestamp": 1704982695801,
     "user": {
      "displayName": "Mat",
      "userId": "00769962888685580246"
     },
     "user_tz": -60
    },
    "id": "AfvixOpP37k6",
    "outputId": "9f8a3ec6-4801-4e01-c9af-5ae0ab56f7b2"
   },
   "outputs": [
    {
     "data": {
      "text/plain": [
       "0.0"
      ]
     },
     "execution_count": 52,
     "metadata": {},
     "output_type": "execute_result"
    }
   ],
   "source": [
    "Y[5963]"
   ]
  },
  {
   "cell_type": "markdown",
   "metadata": {
    "id": "Qm6dGAZeFkb_"
   },
   "source": [
    "# Vecteurs\n"
   ]
  },
  {
   "cell_type": "code",
   "execution_count": 53,
   "metadata": {
    "colab": {
     "base_uri": "https://localhost:8080/"
    },
    "executionInfo": {
     "elapsed": 3724,
     "status": "ok",
     "timestamp": 1704986267358,
     "user": {
      "displayName": "Mat",
      "userId": "00769962888685580246"
     },
     "user_tz": -60
    },
    "id": "LADOPtEhFiyF",
    "outputId": "5784b038-5f92-4e4e-8638-be5551e961d4"
   },
   "outputs": [
    {
     "name": "stdout",
     "output_type": "stream",
     "text": [
      "Contenu du répertoire extrait : ['Società Sportiva Lazio S.p.A._2019.npy', 'Torino Calcio_2021.npy', 'Real Club Deportivo Mallorca S.A.D._2021.npy', 'West Ham United Football Club_2021.npy', '1. FC Union Berlin_2019.npy', 'Real Betis Balompié S.A.D._2022.npy', 'Futbol Club Barcelona_2018.npy', 'Real Club Celta de Vigo S. A. D._2020.npy', 'AS Saint-Étienne_2021.npy', 'Club Atlético de Madrid S.A.D._2018.npy', 'Crystal Palace Football Club_2022.npy', 'Chelsea Football Club_2020.npy', 'Bologna Football Club 1909_2020.npy', 'Unione Sportiva Lecce_2022.npy', 'Football Club Lorient-Bretagne Sud_2022.npy', 'Bologna Football Club 1909_2021.npy', 'Chelsea Football Club_2021.npy', 'U.S. Salernitana 1919 S.r.l._2022.npy', 'Paris Saint-Germain Football Club_2022.npy', 'AS Saint-Étienne_2020.npy', 'Real Club Celta de Vigo S. A. D._2021.npy', 'Club Atlético de Madrid S.A.D._2019.npy', 'Futbol Club Barcelona_2019.npy', 'West Ham United Football Club_2020.npy', 'Torino Calcio_2020.npy', 'Società Sportiva Lazio S.p.A._2018.npy', 'Torino Calcio_2022.npy', 'Real Club Deportivo Mallorca S.A.D._2022.npy', 'West Ham United Football Club_2022.npy', 'Real Betis Balompié S.A.D._2021.npy', 'Juventus Football Club_2018.npy', 'Crystal Palace Football Club_2021.npy', 'Paris Saint-Germain Football Club_2020.npy', 'Football Club Lorient-Bretagne Sud_2020.npy', 'Borussia Verein für Leibesübungen 1900 Mönchengladbach_2019.npy', 'Watford FC_2019.npy', 'Watford FC_2018.npy', 'Nîmes Olympique_2020.npy', 'Borussia Verein für Leibesübungen 1900 Mönchengladbach_2018.npy', 'Football Club Lorient-Bretagne Sud_2021.npy', 'Bologna Football Club 1909_2022.npy', 'U.S. Salernitana 1919 S.r.l._2021.npy', 'Brescia Calcio_2019.npy', 'Chelsea Football Club_2022.npy', 'Paris Saint-Germain Football Club_2021.npy', 'Crystal Palace Football Club_2020.npy', 'Real Club Celta de Vigo S. A. D._2022.npy', 'Juventus Football Club_2019.npy', 'Real Betis Balompié S.A.D._2020.npy', 'SpVgg Greuther Fürth_2021.npy', 'Racing Club de Lens_2020.npy', 'Futbol Club Barcelona_2022.npy', 'Real Betis Balompié S.A.D._2018.npy', 'Juventus Football Club_2021.npy', 'Club Atlético de Madrid S.A.D._2022.npy', 'Crystal Palace Football Club_2018.npy', 'Paris Saint-Germain Football Club_2019.npy', 'Borussia Verein für Leibesübungen 1900 Mönchengladbach_2020.npy', 'Nîmes Olympique_2018.npy', 'Watford FC_2021.npy', 'Nîmes Olympique_2019.npy', 'Borussia Verein für Leibesübungen 1900 Mönchengladbach_2021.npy', 'Unione Sportiva Lecce_2019.npy', 'Paris Saint-Germain Football Club_2018.npy', 'Crystal Palace Football Club_2019.npy', 'Juventus Football Club_2020.npy', 'Real Betis Balompié S.A.D._2019.npy', 'Racing Club de Lens_2021.npy', '1. FC Union Berlin_2022.npy', 'Società Sportiva Lazio S.p.A._2022.npy', 'Società Sportiva Lazio S.p.A._2020.npy', 'Torino Calcio_2018.npy', 'West Ham United Football Club_2018.npy', '1. FC Union Berlin_2020.npy', 'Futbol Club Barcelona_2021.npy', 'Juventus Football Club_2022.npy', 'Club Atlético de Madrid S.A.D._2021.npy', 'Real Club Celta de Vigo S. A. D._2019.npy', 'AS Saint-Étienne_2018.npy', 'Chelsea Football Club_2019.npy', 'Bologna Football Club 1909_2019.npy', 'Borussia Verein für Leibesübungen 1900 Mönchengladbach_2022.npy', 'Bologna Football Club 1909_2018.npy', 'Chelsea Football Club_2018.npy', 'Club Atlético de Madrid S.A.D._2020.npy', 'AS Saint-Étienne_2019.npy', 'Real Club Celta de Vigo S. A. D._2018.npy', 'Futbol Club Barcelona_2020.npy', '1. FC Union Berlin_2021.npy', 'Racing Club de Lens_2022.npy', 'West Ham United Football Club_2019.npy', 'Real Club Deportivo Mallorca S.A.D._2019.npy', 'Torino Calcio_2019.npy', 'Società Sportiva Lazio S.p.A._2021.npy', 'Manchester City Football Club_2020.npy', 'Nottingham Forest Football Club_2022.npy', 'Football Club Internazionale Milano S.p.A._2022.npy', 'Genoa Cricket and Football Club_2018.npy', 'Tottenham Hotspur Football Club_2019.npy', 'RCD Espanyol Barcelona_2021.npy', 'Sevilla Fútbol Club S.A.D._2019.npy', 'Real Valladolid CF_2022.npy', 'Associazione Calcio Milan_2018.npy', 'FC Girondins Bordeaux_2019.npy', 'Manchester United Football Club_2018.npy', 'Toulouse Football Club_2022.npy', 'FC Bayern München_2018.npy', 'Verein für Bewegungsspiele Stuttgart 1893_2022.npy', 'Verein für Leibesübungen Wolfsburg_2021.npy', 'Stade brestois 29_2019.npy', 'Verein für Leibesübungen Wolfsburg_2020.npy', 'FC Bayern München_2019.npy', 'Norwich City_2019.npy', 'Villarreal Club de Fútbol S.A.D._2022.npy', 'Manchester United Football Club_2019.npy', 'FC Girondins Bordeaux_2018.npy', 'Associazione Calcio Milan_2019.npy', 'FC Schalke 04_2022.npy', 'Sevilla Fútbol Club S.A.D._2018.npy', 'Sport-Club Freiburg_2022.npy', 'Tottenham Hotspur Football Club_2018.npy', 'Genoa Cricket and Football Club_2019.npy', 'Fulham Football Club_2018.npy', 'Manchester City Football Club_2021.npy', 'Football Club Internazionale Milano S.p.A._2021.npy', 'Girona Fútbol Club S. A. D._2022.npy', 'Football Club de Nantes_2019.npy', 'Association sportive de Monaco Football Club_2018.npy', 'Sport-Club Freiburg_2020.npy', 'RCD Espanyol Barcelona_2022.npy', 'FC Schalke 04_2020.npy', 'Atalanta Bergamasca Calcio S.p.a._2018.npy', 'Villarreal Club de Fútbol S.A.D._2020.npy', 'Bayer 04 Leverkusen Fußball_2019.npy', 'Stade de Reims_2019.npy', 'Cagliari Calcio_2021.npy', 'Verein für Bewegungsspiele Stuttgart 1893_2021.npy', 'Club Atlético Osasuna_2019.npy', 'Verein für Leibesübungen Wolfsburg_2022.npy', 'Verein für Bewegungsspiele Stuttgart 1893_2020.npy', 'Cagliari Calcio_2020.npy', 'Chievo Verona_2018.npy', 'Stade de Reims_2018.npy', 'Bayer 04 Leverkusen Fußball_2018.npy', 'Villarreal Club de Fútbol S.A.D._2021.npy', 'Atalanta Bergamasca Calcio S.p.a._2019.npy', 'Real Valladolid CF_2020.npy', 'Sport-Club Freiburg_2021.npy', 'Football Club de Nantes_2018.npy', 'Association sportive de Monaco Football Club_2019.npy', 'Football Club Internazionale Milano S.p.A._2020.npy', 'Manchester City Football Club_2022.npy', 'Football Club Internazionale Milano S.p.A._2018.npy', 'AJ Auxerre_2022.npy', 'Association sportive de Monaco Football Club_2021.npy', 'Football Club de Nantes_2020.npy', 'CD Leganés_2018.npy', 'Sport-Club Freiburg_2019.npy', 'Associazione Calcio Milan_2022.npy', 'Real Valladolid CF_2018.npy', 'FC Schalke 04_2019.npy', 'Atalanta Bergamasca Calcio S.p.a._2021.npy', 'Manchester United Football Club_2022.npy', 'Villarreal Club de Fútbol S.A.D._2019.npy', 'Bayer 04 Leverkusen Fußball_2020.npy', 'Stade de Reims_2020.npy', 'Toulouse Football Club_2018.npy', 'Cagliari Calcio_2018.npy', 'Verein für Bewegungsspiele Stuttgart 1893_2018.npy', 'Club Atlético Osasuna_2020.npy', 'FC Bayern München_2022.npy', 'Stade brestois 29_2022.npy', 'Club Atlético Osasuna_2021.npy', 'Cagliari Calcio_2019.npy', 'Toulouse Football Club_2019.npy', 'Stade de Reims_2021.npy', 'Bayer 04 Leverkusen Fußball_2021.npy', 'Villarreal Club de Fútbol S.A.D._2018.npy', 'Atalanta Bergamasca Calcio S.p.a._2020.npy', 'FC Schalke 04_2018.npy', 'Real Valladolid CF_2019.npy', 'Sevilla Fútbol Club S.A.D._2022.npy', 'AC Ajaccio_2022.npy', 'Sport-Club Freiburg_2018.npy', 'CD Leganés_2019.npy', 'Association sportive de Monaco Football Club_2020.npy', 'Football Club de Nantes_2021.npy', 'Tottenham Hotspur Football Club_2022.npy', 'West Bromwich Albion_2020.npy', 'Football Club Internazionale Milano S.p.A._2019.npy', 'Fulham Football Club_2022.npy', 'Manchester City Football Club_2019.npy', 'Fulham Football Club_2020.npy', 'Huddersfield Town_2018.npy', 'Genoa Cricket and Football Club_2021.npy', 'Girona Fútbol Club S. A. D._2018.npy', 'Tottenham Hotspur Football Club_2020.npy', 'Association sportive de Monaco Football Club_2022.npy', 'RCD Espanyol Barcelona_2018.npy', 'Sevilla Fútbol Club S.A.D._2020.npy', 'Associazione Calcio Milan_2021.npy', 'Associazione Calcio Monza_2022.npy', 'Atalanta Bergamasca Calcio S.p.a._2022.npy', 'FC Girondins Bordeaux_2020.npy', 'Manchester United Football Club_2021.npy', 'Norwich City_2021.npy', 'FC Bayern München_2021.npy', 'Verein für Leibesübungen Wolfsburg_2018.npy', 'Stade brestois 29_2021.npy', 'Stade brestois 29_2020.npy', 'Verein für Leibesübungen Wolfsburg_2019.npy', 'Club Atlético Osasuna_2022.npy', 'FC Bayern München_2020.npy', 'Stade de Reims_2022.npy', 'Manchester United Football Club_2020.npy', 'FC Girondins Bordeaux_2021.npy', 'Bayer 04 Leverkusen Fußball_2022.npy', 'Associazione Calcio Milan_2020.npy', 'Sevilla Fútbol Club S.A.D._2021.npy', 'RCD Espanyol Barcelona_2019.npy', 'Football Club de Nantes_2022.npy', 'Tottenham Hotspur Football Club_2021.npy', 'Genoa Cricket and Football Club_2020.npy', 'Manchester City Football Club_2018.npy', 'Udinese Calcio_2019.npy', 'Stade Rennais Football Club_2021.npy', 'Association Football Club Bournemouth_2022.npy', 'Arsenal Football Club_2018.npy', 'Wolverhampton Wanderers Football Club_2020.npy', 'Eintracht Frankfurt Fußball AG_2018.npy', 'Spezia Calcio_2022.npy', 'Amiens SC_2018.npy', 'FC Augsburg 1907_2018.npy', 'Aston Villa Football Club_2021.npy', 'Brighton and Hove Albion Football Club_2020.npy', 'Olympique de Marseille_2019.npy', 'Valencia Club de Fútbol S. A. D._2019.npy', 'Elche CF_2020.npy', 'Lille Olympique Sporting Club Lille Métropole_2021.npy', 'Everton Football Club_2018.npy', 'Getafe Club de Fútbol S.A.D. Team Dubai_2022.npy', 'Everton Football Club_2019.npy', 'Elche CF_2021.npy', 'Lille Olympique Sporting Club Lille Métropole_2020.npy', 'Sportverein Werder Bremen von 1899_2020.npy', 'Valencia Club de Fútbol S. A. D._2018.npy', 'Olympique de Marseille_2018.npy', 'Brighton and Hove Albion Football Club_2021.npy', 'Aston Villa Football Club_2020.npy', 'Amiens SC_2019.npy', 'FC Augsburg 1907_2019.npy', 'Newcastle United Football Club_2022.npy', 'Eintracht Frankfurt Fußball AG_2019.npy', 'Wolverhampton Wanderers Football Club_2021.npy', 'Empoli Football Club S.r.l._2021.npy', 'Arsenal Football Club_2019.npy', 'Stade Rennais Football Club_2020.npy', 'Leicester City_2022.npy', 'Udinese Calcio_2018.npy', \"Olympique Gymnaste Club Nice Côte d'Azur_2022.npy\", 'Stade Rennais Football Club_2022.npy', \"Olympique Gymnaste Club Nice Côte d'Azur_2020.npy\", 'Leicester City_2020.npy', 'Newcastle United Football Club_2020.npy', 'Angers SCO_2019.npy', 'Spezia Calcio_2021.npy', 'UC Sampdoria_2019.npy', 'Southampton FC_2019.npy', 'Montpellier Hérault Sport Club_2018.npy', 'Borussia Dortmund_2019.npy', 'Aston Villa Football Club_2022.npy', 'Sportverein Werder Bremen von 1899_2022.npy', 'Lille Olympique Sporting Club Lille Métropole_2022.npy', 'SD Huesca_2018.npy', 'Getafe Club de Fútbol S.A.D. Team Dubai_2021.npy', 'Getafe Club de Fútbol S.A.D. Team Dubai_2020.npy', 'Elche CF_2022.npy', '1. Fußball-Club Köln_2019.npy', 'Brighton and Hove Albion Football Club_2022.npy', 'Borussia Dortmund_2018.npy', 'Montpellier Hérault Sport Club_2019.npy', 'Southampton FC_2018.npy', 'UC Sampdoria_2018.npy', 'Venezia FC_2021.npy', 'Spezia Calcio_2020.npy', 'Angers SCO_2018.npy', 'Newcastle United Football Club_2021.npy', 'Empoli Football Club S.r.l._2022.npy', 'Wolverhampton Wanderers Football Club_2022.npy', 'Leicester City_2021.npy', \"Olympique Gymnaste Club Nice Côte d'Azur_2021.npy\", 'Leicester City_2019.npy', \"Olympique Gymnaste Club Nice Côte d'Azur_2019.npy\", 'Benevento Calcio_2020.npy', 'Arsenal Football Club_2022.npy', 'Association Football Club Bournemouth_2018.npy', 'Newcastle United Football Club_2019.npy', 'Eintracht Frankfurt Fußball AG_2022.npy', 'Cádiz Club de Fútbol S.A.D_2021.npy', 'ESTAC Troyes_2021.npy', 'Angers SCO_2020.npy', 'UC Sampdoria_2020.npy', 'Southampton FC_2020.npy', 'Montpellier Hérault Sport Club_2021.npy', 'Borussia Dortmund_2020.npy', '1.FC Nuremberg_2018.npy', 'FC Augsburg 1907_2022.npy', 'SPAL_2019.npy', '1. Fußball-Club Köln_2021.npy', 'Everton Football Club_2022.npy', 'Getafe Club de Fútbol S.A.D. Team Dubai_2018.npy', 'Getafe Club de Fútbol S.A.D. Team Dubai_2019.npy', 'SD Huesca_2020.npy', '1. Fußball-Club Köln_2020.npy', 'Valencia Club de Fútbol S. A. D._2022.npy', 'SPAL_2018.npy', 'Olympique de Marseille_2022.npy', 'SC Paderborn 07_2019.npy', 'Borussia Dortmund_2021.npy', 'Montpellier Hérault Sport Club_2020.npy', 'Southampton FC_2021.npy', 'UC Sampdoria_2021.npy', 'Angers SCO_2021.npy', 'Cádiz Club de Fútbol S.A.D_2020.npy', 'Newcastle United Football Club_2018.npy', 'Association Football Club Bournemouth_2019.npy', 'Verein für Leibesübungen Bochum 1848 – Fußballgemeinschaft_2022.npy', \"Olympique Gymnaste Club Nice Côte d'Azur_2018.npy\", 'Leicester City_2018.npy', 'Udinese Calcio_2022.npy', 'Udinese Calcio_2020.npy', 'Stade Rennais Football Club_2018.npy', 'Arsenal Football Club_2021.npy', 'Wolverhampton Wanderers Football Club_2019.npy', 'Cádiz Club de Fútbol S.A.D_2022.npy', 'Eintracht Frankfurt Fußball AG_2021.npy', 'ESTAC Troyes_2022.npy', 'Montpellier Hérault Sport Club_2022.npy', 'FC Augsburg 1907_2021.npy', 'Brighton and Hove Albion Football Club_2019.npy', 'Olympique de Marseille_2020.npy', 'Valencia Club de Fútbol S. A. D._2020.npy', 'Sportverein Werder Bremen von 1899_2018.npy', '1. Fußball-Club Köln_2022.npy', 'Lille Olympique Sporting Club Lille Métropole_2018.npy', 'Everton Football Club_2021.npy', 'Everton Football Club_2020.npy', 'Lille Olympique Sporting Club Lille Métropole_2019.npy', 'Valencia Club de Fútbol S. A. D._2021.npy', 'Sportverein Werder Bremen von 1899_2019.npy', 'Olympique de Marseille_2021.npy', 'Brighton and Hove Albion Football Club_2018.npy', 'Aston Villa Football Club_2019.npy', 'Borussia Dortmund_2022.npy', 'FC Augsburg 1907_2020.npy', 'Southampton FC_2022.npy', 'UC Sampdoria_2022.npy', 'Angers SCO_2022.npy', 'Eintracht Frankfurt Fußball AG_2020.npy', 'Wolverhampton Wanderers Football Club_2018.npy', 'Arsenal Football Club_2020.npy', 'Verein für Leibesübungen Bochum 1848 – Fußballgemeinschaft_2021.npy', 'Empoli Football Club S.r.l._2018.npy', 'Stade Rennais Football Club_2019.npy', 'Udinese Calcio_2021.npy', 'Dijon FCO_2018.npy', 'Fortuna Düsseldorf_2018.npy', 'EA Guingamp_2018.npy', 'Unione Sportiva Sassuolo Calcio_2022.npy', 'RasenBallsport Leipzig_2019.npy', 'Associazione Sportiva Roma_2022.npy', 'Frosinone Calcio S.r.l._2018.npy', 'Rayo Vallecano de Madrid S.A.D._2018.npy', 'Real Madrid Club de Fútbol_2019.npy', 'Associazione Calcio Fiorentina_2019.npy', 'Hertha BSC_2018.npy', 'Verona Hellas Football Club_2020.npy', 'Società Sportiva Calcio Napoli_2021.npy', 'Sheffield United Football Club_2019.npy', 'TSG 1899 Hoffenheim Fußball-Spielbetriebs GmbH_2019.npy', 'Deportivo Alavés S.A.D._2018.npy', 'Real Sociedad de Fútbol S.A.D._2020.npy', 'Real Sociedad de Fútbol S.A.D._2021.npy', 'Deportivo Alavés S.A.D._2019.npy', 'TSG 1899 Hoffenheim Fußball-Spielbetriebs GmbH_2018.npy', 'Verona Hellas Football Club_2021.npy', 'Società Sportiva Calcio Napoli_2020.npy', 'Hertha BSC_2019.npy', 'Associazione Calcio Fiorentina_2018.npy', 'Real Madrid Club de Fútbol_2018.npy', 'RasenBallsport Leipzig_2018.npy', 'Parma Calcio 1913_2020.npy', '1. Fußball- und Sportverein Mainz 05_2022.npy', 'Fortuna Düsseldorf_2019.npy', 'Dijon FCO_2019.npy', 'Burnley Football Club_2021.npy', '1. Fußball- und Sportverein Mainz 05_2020.npy', 'Liverpool Football Club_2019.npy', 'FC Crotone_2020.npy', 'Unione Sportiva Sassuolo Calcio_2021.npy', 'Racing Club de Strasbourg Alsace_2019.npy', 'Associazione Sportiva Roma_2021.npy', 'SD Eibar_2019.npy', 'Arminia Bielefeld_2020.npy', 'Athletic Club Bilbao_2019.npy', 'Olympique Lyonnais_2019.npy', 'Società Sportiva Calcio Napoli_2022.npy', 'Football Club de Metz_2021.npy', 'Levante UD_2019.npy', 'Real Sociedad de Fútbol S.A.D._2022.npy', 'Granada Club de Fútbol S.A.D._2019.npy', 'Levante UD_2018.npy', 'Football Club de Metz_2020.npy', 'Verona Hellas Football Club_2022.npy', 'Olympique Lyonnais_2018.npy', 'Athletic Club Bilbao_2018.npy', 'Arminia Bielefeld_2021.npy', 'SD Eibar_2018.npy', 'Associazione Sportiva Roma_2020.npy', 'Liverpool Football Club_2018.npy', 'Racing Club de Strasbourg Alsace_2018.npy', 'Unione Sportiva Sassuolo Calcio_2020.npy', 'US Cremonese_2022.npy', '1. Fußball- und Sportverein Mainz 05_2021.npy', 'Burnley Football Club_2020.npy', 'Leeds United_2020.npy', 'Burnley Football Club_2018.npy', '1. Fußball- und Sportverein Mainz 05_2019.npy', 'Racing Club de Strasbourg Alsace_2020.npy', 'Unione Sportiva Sassuolo Calcio_2018.npy', 'Liverpool Football Club_2020.npy', 'Clermont Foot 63_2021.npy', 'Brentford Football Club_2021.npy', 'Associazione Sportiva Roma_2018.npy', 'SD Eibar_2020.npy', 'Athletic Club Bilbao_2020.npy', 'Olympique Lyonnais_2020.npy', 'Rayo Vallecano de Madrid S.A.D._2022.npy', 'Hertha BSC_2022.npy', 'Levante UD_2020.npy', 'Granada Club de Fútbol S.A.D._2021.npy', 'Granada Club de Fútbol S.A.D._2020.npy', 'Levante UD_2021.npy', 'Football Club de Metz_2019.npy', 'TSG 1899 Hoffenheim Fußball-Spielbetriebs GmbH_2022.npy', 'Olympique Lyonnais_2021.npy', 'Real Madrid Club de Fútbol_2022.npy', 'Associazione Calcio Fiorentina_2022.npy', 'Athletic Club Bilbao_2021.npy', 'Hannover 96_2018.npy', 'RasenBallsport Leipzig_2022.npy', 'Associazione Sportiva Roma_2019.npy', 'Unione Sportiva Sassuolo Calcio_2019.npy', 'Racing Club de Strasbourg Alsace_2021.npy', 'Liverpool Football Club_2021.npy', '1. Fußball- und Sportverein Mainz 05_2018.npy', 'SM Caen_2018.npy', 'Burnley Football Club_2019.npy', 'Leeds United_2021.npy', 'Brentford Football Club_2022.npy', 'Clermont Foot 63_2022.npy', 'Parma Calcio 1913_2018.npy', 'RasenBallsport Leipzig_2020.npy', 'Rayo Vallecano de Madrid S.A.D._2021.npy', 'Associazione Calcio Fiorentina_2020.npy', 'Real Madrid Club de Fútbol_2020.npy', 'Hertha BSC_2021.npy', 'Società Sportiva Calcio Napoli_2018.npy', 'Verona Hellas Football Club_2019.npy', 'Sheffield United Football Club_2020.npy', 'TSG 1899 Hoffenheim Fußball-Spielbetriebs GmbH_2020.npy', 'Deportivo Alavés S.A.D._2021.npy', 'Real Sociedad de Fútbol S.A.D._2019.npy', 'Real Sociedad de Fútbol S.A.D._2018.npy', 'Deportivo Alavés S.A.D._2020.npy', 'TSG 1899 Hoffenheim Fußball-Spielbetriebs GmbH_2021.npy', 'Società Sportiva Calcio Napoli_2019.npy', 'Hertha BSC_2020.npy', 'Olympique Lyonnais_2022.npy', 'Real Madrid Club de Fútbol_2021.npy', 'Associazione Calcio Fiorentina_2021.npy', 'Unión Deportiva Almería S.A.D._2022.npy', 'Cardiff City_2018.npy', 'Athletic Club Bilbao_2022.npy', 'RasenBallsport Leipzig_2021.npy', 'Liverpool Football Club_2022.npy', 'Parma Calcio 1913_2019.npy', 'Racing Club de Strasbourg Alsace_2022.npy', 'Leeds United_2022.npy', 'Dijon FCO_2020.npy']\n"
     ]
    }
   ],
   "source": [
    "import os\n",
    "from zipfile import ZipFile\n",
    "\n",
    "# nous supposons que la base d'image se trouve dans le répertoire \"IA-Vision\" de votre Drive\n",
    "#zip_file_path = \"/content/drive/MyDrive/P5/Matrices_Team.zip\"\n",
    "extracted_folder_path = \"/Users/mathieu/Documents/IMT M2/Projet P5 - Foot Predictor/Base de données/Vecteurs_Team\"\n",
    "\n",
    "'''\n",
    "with ZipFile(zip_file_path, 'r') as zip:\n",
    "    zip.extractall(extracted_folder_path)\n",
    "    print('Extraction terminée')\n",
    "'''\n",
    "\n",
    "folder_path = extracted_folder_path\n",
    "\n",
    "print(\"Contenu du répertoire extrait :\", os.listdir(extracted_folder_path))"
   ]
  },
  {
   "cell_type": "code",
   "execution_count": 54,
   "metadata": {
    "id": "2W7nDQE5FugU"
   },
   "outputs": [],
   "source": [
    "import pandas as pd\n",
    "import numpy as np\n",
    "from tensorflow import keras\n",
    "from tensorflow.keras.layers import Input, Conv2D, Flatten, Dense, concatenate"
   ]
  },
  {
   "cell_type": "code",
   "execution_count": 55,
   "metadata": {
    "colab": {
     "base_uri": "https://localhost:8080/",
     "height": 204
    },
    "executionInfo": {
     "elapsed": 11,
     "status": "ok",
     "timestamp": 1704986286120,
     "user": {
      "displayName": "Mat",
      "userId": "00769962888685580246"
     },
     "user_tz": -60
    },
    "id": "yN_M6VkDFyaa",
    "outputId": "83e4ca38-912c-465c-de8c-8f76fea32a82"
   },
   "outputs": [
    {
     "data": {
      "text/html": [
       "<div>\n",
       "<style scoped>\n",
       "    .dataframe tbody tr th:only-of-type {\n",
       "        vertical-align: middle;\n",
       "    }\n",
       "\n",
       "    .dataframe tbody tr th {\n",
       "        vertical-align: top;\n",
       "    }\n",
       "\n",
       "    .dataframe thead th {\n",
       "        text-align: right;\n",
       "    }\n",
       "</style>\n",
       "<table border=\"1\" class=\"dataframe\">\n",
       "  <thead>\n",
       "    <tr style=\"text-align: right;\">\n",
       "      <th></th>\n",
       "      <th>Unnamed: 0</th>\n",
       "      <th>Home_Team</th>\n",
       "      <th>Away_Team</th>\n",
       "      <th>Result</th>\n",
       "      <th>Forme_dom</th>\n",
       "      <th>Forme_exte</th>\n",
       "    </tr>\n",
       "  </thead>\n",
       "  <tbody>\n",
       "    <tr>\n",
       "      <th>0</th>\n",
       "      <td>0</td>\n",
       "      <td>Olympique de Marseille_2018</td>\n",
       "      <td>Toulouse Football Club_2018</td>\n",
       "      <td>1.0</td>\n",
       "      <td>0.0</td>\n",
       "      <td>0.0</td>\n",
       "    </tr>\n",
       "    <tr>\n",
       "      <th>1</th>\n",
       "      <td>1</td>\n",
       "      <td>Manchester United Football Club_2018</td>\n",
       "      <td>Leicester City_2018</td>\n",
       "      <td>1.0</td>\n",
       "      <td>0.0</td>\n",
       "      <td>0.0</td>\n",
       "    </tr>\n",
       "    <tr>\n",
       "      <th>2</th>\n",
       "      <td>2</td>\n",
       "      <td>Olympique Gymnaste Club Nice Côte d'Azur_2018</td>\n",
       "      <td>Stade de Reims_2018</td>\n",
       "      <td>2.0</td>\n",
       "      <td>0.0</td>\n",
       "      <td>0.0</td>\n",
       "    </tr>\n",
       "    <tr>\n",
       "      <th>3</th>\n",
       "      <td>3</td>\n",
       "      <td>Wolverhampton Wanderers Football Club_2018</td>\n",
       "      <td>Everton Football Club_2018</td>\n",
       "      <td>0.0</td>\n",
       "      <td>0.0</td>\n",
       "      <td>0.0</td>\n",
       "    </tr>\n",
       "    <tr>\n",
       "      <th>4</th>\n",
       "      <td>4</td>\n",
       "      <td>Newcastle United Football Club_2018</td>\n",
       "      <td>Tottenham Hotspur Football Club_2018</td>\n",
       "      <td>2.0</td>\n",
       "      <td>0.0</td>\n",
       "      <td>0.0</td>\n",
       "    </tr>\n",
       "  </tbody>\n",
       "</table>\n",
       "</div>"
      ],
      "text/plain": [
       "   Unnamed: 0                                      Home_Team  \\\n",
       "0           0                    Olympique de Marseille_2018   \n",
       "1           1           Manchester United Football Club_2018   \n",
       "2           2  Olympique Gymnaste Club Nice Côte d'Azur_2018   \n",
       "3           3     Wolverhampton Wanderers Football Club_2018   \n",
       "4           4            Newcastle United Football Club_2018   \n",
       "\n",
       "                              Away_Team  Result  Forme_dom  Forme_exte  \n",
       "0           Toulouse Football Club_2018     1.0        0.0         0.0  \n",
       "1                   Leicester City_2018     1.0        0.0         0.0  \n",
       "2                   Stade de Reims_2018     2.0        0.0         0.0  \n",
       "3            Everton Football Club_2018     0.0        0.0         0.0  \n",
       "4  Tottenham Hotspur Football Club_2018     2.0        0.0         0.0  "
      ]
     },
     "execution_count": 55,
     "metadata": {},
     "output_type": "execute_result"
    }
   ],
   "source": [
    "csv_path = \"/Users/mathieu/Documents/IMT M2/Projet P5 - Foot Predictor/Team_game_result102_forme.csv\"  # Remplacez cela par le chemin réel de votre fichier CSV\n",
    "data = pd.read_csv(csv_path)\n",
    "data.head()"
   ]
  },
  {
   "cell_type": "code",
   "execution_count": 56,
   "metadata": {
    "colab": {
     "base_uri": "https://localhost:8080/"
    },
    "executionInfo": {
     "elapsed": 10307,
     "status": "ok",
     "timestamp": 1704986300734,
     "user": {
      "displayName": "Mat",
      "userId": "00769962888685580246"
     },
     "user_tz": -60
    },
    "id": "pjdeDn5MF3iD",
    "outputId": "72977138-f2e9-498f-b115-a9bf30a9d3e9"
   },
   "outputs": [
    {
     "name": "stdout",
     "output_type": "stream",
     "text": [
      "Vecteurs Dijon FCO_2020.npy - Shape : (220, 1)\n"
     ]
    }
   ],
   "source": [
    "import os\n",
    "import numpy as np\n",
    "\n",
    "# Dossier contenant les matrices d'équipes\n",
    "folder_path = \"/Users/mathieu/Documents/IMT M2/Projet P5 - Foot Predictor/Base de données/Vecteurs_Team\"\n",
    "\n",
    "# Liste des fichiers dans le dossier\n",
    "team_files = os.listdir(folder_path)\n",
    "\n",
    "# Parcourir chaque fichier et afficher la forme de la matrice\n",
    "for team_file in team_files:\n",
    "    if team_file.endswith(\".npy\"):\n",
    "        team_matrix = np.load(os.path.join(folder_path, team_file))\n",
    "        matrix_shape = team_matrix.shape\n",
    "print(f\"Vecteurs {team_file} - Shape : {matrix_shape}\")"
   ]
  },
  {
   "cell_type": "code",
   "execution_count": 57,
   "metadata": {
    "colab": {
     "base_uri": "https://localhost:8080/"
    },
    "executionInfo": {
     "elapsed": 27345,
     "status": "ok",
     "timestamp": 1704986345172,
     "user": {
      "displayName": "Mat",
      "userId": "00769962888685580246"
     },
     "user_tz": -60
    },
    "id": "6J36tU6yGA-e",
    "outputId": "ca36ee49-5be4-4d77-dfee-597a8a6fa70d"
   },
   "outputs": [
    {
     "name": "stdout",
     "output_type": "stream",
     "text": [
      "X_combined shape: (8980, 440, 1)\n",
      "Y shape: (8980,)\n"
     ]
    }
   ],
   "source": [
    "X_combined_matrices = []\n",
    "Y_results = []\n",
    "\n",
    "for index, row in data.iterrows():\n",
    "    home_team_name = row['Home_Team']\n",
    "    away_team_name = row['Away_Team']\n",
    "    home_coef = row['Forme_dom']\n",
    "    away_coef = row['Forme_exte']\n",
    "    result = row['Result']\n",
    "\n",
    "    home_team_matrix = np.load(os.path.join(folder_path, f\"{home_team_name}.npy\"))\n",
    "    away_team_matrix = np.load(os.path.join(folder_path, f\"{away_team_name}.npy\"))\n",
    "    home_team_matrix = (home_team_matrix * (1 + home_coef))/20\n",
    "    away_team_matrix = (away_team_matrix * (1 + away_coef))/20\n",
    "\n",
    "    combined_matrix = np.concatenate([home_team_matrix, away_team_matrix], axis=0)\n",
    "\n",
    "    X_combined_matrices.append(combined_matrix)\n",
    "    Y_results.append(result)\n",
    "\n",
    "# Convertir les listes en tableaux NumPy\n",
    "X_combined = np.array(X_combined_matrices)\n",
    "Y = np.array(Y_results)\n",
    "\n",
    "print(\"X_combined shape:\", X_combined.shape)\n",
    "print(\"Y shape:\", Y.shape)"
   ]
  },
  {
   "cell_type": "code",
   "execution_count": 58,
   "metadata": {},
   "outputs": [
    {
     "data": {
      "text/plain": [
       "array([[0.12],\n",
       "       [0.12],\n",
       "       [0.13],\n",
       "       [0.13],\n",
       "       [0.12],\n",
       "       [0.17],\n",
       "       [0.13],\n",
       "       [0.12],\n",
       "       [0.17],\n",
       "       [0.14],\n",
       "       [0.14],\n",
       "       [0.01],\n",
       "       [0.12],\n",
       "       [0.06],\n",
       "       [0.08],\n",
       "       [0.12],\n",
       "       [0.16],\n",
       "       [0.14],\n",
       "       [0.1 ],\n",
       "       [0.15],\n",
       "       [0.14],\n",
       "       [0.15],\n",
       "       [0.01],\n",
       "       [0.07],\n",
       "       [0.06],\n",
       "       [0.08],\n",
       "       [0.07],\n",
       "       [0.12],\n",
       "       [0.15],\n",
       "       [0.09],\n",
       "       [0.12],\n",
       "       [0.13],\n",
       "       [0.11],\n",
       "       [0.11],\n",
       "       [0.11],\n",
       "       [0.12],\n",
       "       [0.11],\n",
       "       [0.13],\n",
       "       [0.14],\n",
       "       [0.15],\n",
       "       [0.14],\n",
       "       [0.15],\n",
       "       [0.12],\n",
       "       [0.13],\n",
       "       [0.02],\n",
       "       [0.14],\n",
       "       [0.17],\n",
       "       [0.15],\n",
       "       [0.15],\n",
       "       [0.01],\n",
       "       [0.07],\n",
       "       [0.14],\n",
       "       [0.05],\n",
       "       [0.05],\n",
       "       [0.05],\n",
       "       [0.09],\n",
       "       [0.12],\n",
       "       [0.12],\n",
       "       [0.12],\n",
       "       [0.1 ],\n",
       "       [0.17],\n",
       "       [0.14],\n",
       "       [0.13],\n",
       "       [0.15],\n",
       "       [0.14],\n",
       "       [0.14],\n",
       "       [0.01],\n",
       "       [0.09],\n",
       "       [0.04],\n",
       "       [0.09],\n",
       "       [0.09],\n",
       "       [0.14],\n",
       "       [0.11],\n",
       "       [0.11],\n",
       "       [0.13],\n",
       "       [0.16],\n",
       "       [0.14],\n",
       "       [0.08],\n",
       "       [0.14],\n",
       "       [0.15],\n",
       "       [0.15],\n",
       "       [0.1 ],\n",
       "       [0.05],\n",
       "       [0.15],\n",
       "       [0.15],\n",
       "       [0.09],\n",
       "       [0.11],\n",
       "       [0.11],\n",
       "       [0.14],\n",
       "       [0.13],\n",
       "       [0.17],\n",
       "       [0.16],\n",
       "       [0.13],\n",
       "       [0.1 ],\n",
       "       [0.15],\n",
       "       [0.14],\n",
       "       [0.11],\n",
       "       [0.13],\n",
       "       [0.13],\n",
       "       [0.01],\n",
       "       [0.16],\n",
       "       [0.1 ],\n",
       "       [0.08],\n",
       "       [0.13],\n",
       "       [0.14],\n",
       "       [0.15],\n",
       "       [0.1 ],\n",
       "       [0.12],\n",
       "       [0.13],\n",
       "       [0.14],\n",
       "       [0.13],\n",
       "       [0.12],\n",
       "       [0.14],\n",
       "       [0.1 ],\n",
       "       [0.13],\n",
       "       [0.07],\n",
       "       [0.13],\n",
       "       [0.12],\n",
       "       [0.13],\n",
       "       [0.14],\n",
       "       [0.12],\n",
       "       [0.13],\n",
       "       [0.14],\n",
       "       [0.16],\n",
       "       [0.12],\n",
       "       [0.12],\n",
       "       [0.06],\n",
       "       [0.16],\n",
       "       [0.14],\n",
       "       [0.12],\n",
       "       [0.15],\n",
       "       [0.15],\n",
       "       [0.13],\n",
       "       [0.1 ],\n",
       "       [0.15],\n",
       "       [0.14],\n",
       "       [0.14],\n",
       "       [0.01],\n",
       "       [0.1 ],\n",
       "       [0.14],\n",
       "       [0.07],\n",
       "       [0.1 ],\n",
       "       [0.04],\n",
       "       [0.13],\n",
       "       [0.12],\n",
       "       [0.16],\n",
       "       [0.12],\n",
       "       [0.11],\n",
       "       [0.14],\n",
       "       [0.16],\n",
       "       [0.13],\n",
       "       [0.13],\n",
       "       [0.14],\n",
       "       [0.11],\n",
       "       [0.1 ],\n",
       "       [0.16],\n",
       "       [0.15],\n",
       "       [0.12],\n",
       "       [0.14],\n",
       "       [0.05],\n",
       "       [0.16],\n",
       "       [0.15],\n",
       "       [0.11],\n",
       "       [0.14],\n",
       "       [0.15],\n",
       "       [0.12],\n",
       "       [0.14],\n",
       "       [0.09],\n",
       "       [0.11],\n",
       "       [0.13],\n",
       "       [0.15],\n",
       "       [0.07],\n",
       "       [0.12],\n",
       "       [0.12],\n",
       "       [0.13],\n",
       "       [0.14],\n",
       "       [0.14],\n",
       "       [0.15],\n",
       "       [0.14],\n",
       "       [0.15],\n",
       "       [0.13],\n",
       "       [0.12],\n",
       "       [0.15],\n",
       "       [0.15],\n",
       "       [0.13],\n",
       "       [0.14],\n",
       "       [0.14],\n",
       "       [0.15],\n",
       "       [0.15],\n",
       "       [0.14],\n",
       "       [0.15],\n",
       "       [0.13],\n",
       "       [0.14],\n",
       "       [0.15],\n",
       "       [0.12],\n",
       "       [0.15],\n",
       "       [0.12],\n",
       "       [0.1 ],\n",
       "       [0.15],\n",
       "       [0.14],\n",
       "       [0.14],\n",
       "       [0.14],\n",
       "       [0.12],\n",
       "       [0.09],\n",
       "       [0.14],\n",
       "       [0.14],\n",
       "       [0.12],\n",
       "       [0.12],\n",
       "       [0.11],\n",
       "       [0.12],\n",
       "       [0.14],\n",
       "       [0.09],\n",
       "       [0.12],\n",
       "       [0.14],\n",
       "       [0.14],\n",
       "       [0.09],\n",
       "       [0.12],\n",
       "       [0.13],\n",
       "       [0.13],\n",
       "       [0.13],\n",
       "       [0.45],\n",
       "       [0.6 ],\n",
       "       [0.4 ],\n",
       "       [0.65],\n",
       "       [0.55],\n",
       "       [0.7 ],\n",
       "       [0.5 ],\n",
       "       [0.65],\n",
       "       [0.6 ],\n",
       "       [0.65],\n",
       "       [0.6 ],\n",
       "       [0.15],\n",
       "       [0.55],\n",
       "       [0.55],\n",
       "       [0.55],\n",
       "       [0.5 ],\n",
       "       [0.65],\n",
       "       [0.65],\n",
       "       [0.55],\n",
       "       [0.7 ],\n",
       "       [0.65],\n",
       "       [0.6 ],\n",
       "       [0.05],\n",
       "       [0.4 ],\n",
       "       [0.35],\n",
       "       [0.35],\n",
       "       [0.3 ],\n",
       "       [0.55],\n",
       "       [0.45],\n",
       "       [0.35],\n",
       "       [0.6 ],\n",
       "       [0.6 ],\n",
       "       [0.6 ],\n",
       "       [0.4 ],\n",
       "       [0.55],\n",
       "       [0.35],\n",
       "       [0.65],\n",
       "       [0.5 ],\n",
       "       [0.65],\n",
       "       [0.6 ],\n",
       "       [0.75],\n",
       "       [0.6 ],\n",
       "       [0.6 ],\n",
       "       [0.45],\n",
       "       [0.05],\n",
       "       [0.65],\n",
       "       [0.8 ],\n",
       "       [0.7 ],\n",
       "       [0.6 ],\n",
       "       [0.3 ],\n",
       "       [0.75],\n",
       "       [0.65],\n",
       "       [0.3 ],\n",
       "       [0.35],\n",
       "       [0.2 ],\n",
       "       [0.4 ],\n",
       "       [0.6 ],\n",
       "       [0.4 ],\n",
       "       [0.6 ],\n",
       "       [0.55],\n",
       "       [0.75],\n",
       "       [0.55],\n",
       "       [0.7 ],\n",
       "       [0.7 ],\n",
       "       [0.65],\n",
       "       [0.65],\n",
       "       [0.1 ],\n",
       "       [0.35],\n",
       "       [0.35],\n",
       "       [0.45],\n",
       "       [0.4 ],\n",
       "       [0.6 ],\n",
       "       [0.45],\n",
       "       [0.5 ],\n",
       "       [0.6 ],\n",
       "       [0.5 ],\n",
       "       [0.55],\n",
       "       [0.5 ],\n",
       "       [0.5 ],\n",
       "       [0.7 ],\n",
       "       [0.7 ],\n",
       "       [0.6 ],\n",
       "       [0.5 ],\n",
       "       [0.7 ],\n",
       "       [0.65],\n",
       "       [0.4 ],\n",
       "       [0.4 ],\n",
       "       [0.35],\n",
       "       [0.6 ],\n",
       "       [0.7 ],\n",
       "       [0.6 ],\n",
       "       [0.65],\n",
       "       [0.55],\n",
       "       [0.65],\n",
       "       [0.65],\n",
       "       [0.7 ],\n",
       "       [0.55],\n",
       "       [0.6 ],\n",
       "       [0.6 ],\n",
       "       [0.1 ],\n",
       "       [0.6 ],\n",
       "       [0.45],\n",
       "       [0.35],\n",
       "       [0.6 ],\n",
       "       [0.7 ],\n",
       "       [0.6 ],\n",
       "       [0.5 ],\n",
       "       [0.65],\n",
       "       [0.7 ],\n",
       "       [0.65],\n",
       "       [0.6 ],\n",
       "       [0.65],\n",
       "       [0.5 ],\n",
       "       [0.6 ],\n",
       "       [0.55],\n",
       "       [0.65],\n",
       "       [0.6 ],\n",
       "       [0.65],\n",
       "       [0.5 ],\n",
       "       [0.6 ],\n",
       "       [0.5 ],\n",
       "       [0.55],\n",
       "       [0.7 ],\n",
       "       [0.65],\n",
       "       [0.85],\n",
       "       [0.65],\n",
       "       [0.55],\n",
       "       [0.65],\n",
       "       [0.75],\n",
       "       [0.6 ],\n",
       "       [0.65],\n",
       "       [0.55],\n",
       "       [0.65],\n",
       "       [0.65],\n",
       "       [0.55],\n",
       "       [0.6 ],\n",
       "       [0.5 ],\n",
       "       [0.25],\n",
       "       [0.65],\n",
       "       [0.6 ],\n",
       "       [0.4 ],\n",
       "       [0.6 ],\n",
       "       [0.3 ],\n",
       "       [0.6 ],\n",
       "       [0.7 ],\n",
       "       [0.5 ],\n",
       "       [0.6 ],\n",
       "       [0.6 ],\n",
       "       [0.65],\n",
       "       [0.6 ],\n",
       "       [0.65],\n",
       "       [0.6 ],\n",
       "       [0.6 ],\n",
       "       [0.65],\n",
       "       [0.3 ],\n",
       "       [0.7 ],\n",
       "       [0.7 ],\n",
       "       [0.75],\n",
       "       [0.7 ],\n",
       "       [0.5 ],\n",
       "       [0.8 ],\n",
       "       [0.75],\n",
       "       [0.5 ],\n",
       "       [0.65],\n",
       "       [0.45],\n",
       "       [0.6 ],\n",
       "       [0.7 ],\n",
       "       [0.75],\n",
       "       [0.6 ],\n",
       "       [0.65],\n",
       "       [0.65],\n",
       "       [0.5 ],\n",
       "       [0.6 ],\n",
       "       [0.65],\n",
       "       [0.6 ],\n",
       "       [0.7 ],\n",
       "       [0.6 ],\n",
       "       [0.7 ],\n",
       "       [0.7 ],\n",
       "       [0.75],\n",
       "       [0.75],\n",
       "       [0.6 ],\n",
       "       [0.75],\n",
       "       [0.75],\n",
       "       [0.75],\n",
       "       [0.6 ],\n",
       "       [0.7 ],\n",
       "       [0.7 ],\n",
       "       [0.6 ],\n",
       "       [0.6 ],\n",
       "       [0.75],\n",
       "       [0.75],\n",
       "       [0.6 ],\n",
       "       [0.65],\n",
       "       [0.6 ],\n",
       "       [0.6 ],\n",
       "       [0.55],\n",
       "       [0.7 ],\n",
       "       [0.65],\n",
       "       [0.6 ],\n",
       "       [0.75],\n",
       "       [0.7 ],\n",
       "       [0.7 ],\n",
       "       [0.45],\n",
       "       [0.75],\n",
       "       [0.55],\n",
       "       [0.45],\n",
       "       [0.35],\n",
       "       [0.65],\n",
       "       [0.5 ],\n",
       "       [0.65],\n",
       "       [0.7 ],\n",
       "       [0.6 ],\n",
       "       [0.7 ],\n",
       "       [0.7 ],\n",
       "       [0.55],\n",
       "       [0.55],\n",
       "       [0.65],\n",
       "       [0.65],\n",
       "       [0.65]])"
      ]
     },
     "execution_count": 58,
     "metadata": {},
     "output_type": "execute_result"
    }
   ],
   "source": [
    "X_combined[4678]"
   ]
  },
  {
   "cell_type": "code",
   "execution_count": 59,
   "metadata": {},
   "outputs": [],
   "source": [
    "X_combined = X_combined.reshape((-1,440))"
   ]
  },
  {
   "cell_type": "code",
   "execution_count": 60,
   "metadata": {},
   "outputs": [
    {
     "data": {
      "text/plain": [
       "array([0.12, 0.12, 0.13, 0.13, 0.12, 0.17, 0.13, 0.12, 0.17, 0.14, 0.14,\n",
       "       0.01, 0.12, 0.06, 0.08, 0.12, 0.16, 0.14, 0.1 , 0.15, 0.14, 0.15,\n",
       "       0.01, 0.07, 0.06, 0.08, 0.07, 0.12, 0.15, 0.09, 0.12, 0.13, 0.11,\n",
       "       0.11, 0.11, 0.12, 0.11, 0.13, 0.14, 0.15, 0.14, 0.15, 0.12, 0.13,\n",
       "       0.02, 0.14, 0.17, 0.15, 0.15, 0.01, 0.07, 0.14, 0.05, 0.05, 0.05,\n",
       "       0.09, 0.12, 0.12, 0.12, 0.1 , 0.17, 0.14, 0.13, 0.15, 0.14, 0.14,\n",
       "       0.01, 0.09, 0.04, 0.09, 0.09, 0.14, 0.11, 0.11, 0.13, 0.16, 0.14,\n",
       "       0.08, 0.14, 0.15, 0.15, 0.1 , 0.05, 0.15, 0.15, 0.09, 0.11, 0.11,\n",
       "       0.14, 0.13, 0.17, 0.16, 0.13, 0.1 , 0.15, 0.14, 0.11, 0.13, 0.13,\n",
       "       0.01, 0.16, 0.1 , 0.08, 0.13, 0.14, 0.15, 0.1 , 0.12, 0.13, 0.14,\n",
       "       0.13, 0.12, 0.14, 0.1 , 0.13, 0.07, 0.13, 0.12, 0.13, 0.14, 0.12,\n",
       "       0.13, 0.14, 0.16, 0.12, 0.12, 0.06, 0.16, 0.14, 0.12, 0.15, 0.15,\n",
       "       0.13, 0.1 , 0.15, 0.14, 0.14, 0.01, 0.1 , 0.14, 0.07, 0.1 , 0.04,\n",
       "       0.13, 0.12, 0.16, 0.12, 0.11, 0.14, 0.16, 0.13, 0.13, 0.14, 0.11,\n",
       "       0.1 , 0.16, 0.15, 0.12, 0.14, 0.05, 0.16, 0.15, 0.11, 0.14, 0.15,\n",
       "       0.12, 0.14, 0.09, 0.11, 0.13, 0.15, 0.07, 0.12, 0.12, 0.13, 0.14,\n",
       "       0.14, 0.15, 0.14, 0.15, 0.13, 0.12, 0.15, 0.15, 0.13, 0.14, 0.14,\n",
       "       0.15, 0.15, 0.14, 0.15, 0.13, 0.14, 0.15, 0.12, 0.15, 0.12, 0.1 ,\n",
       "       0.15, 0.14, 0.14, 0.14, 0.12, 0.09, 0.14, 0.14, 0.12, 0.12, 0.11,\n",
       "       0.12, 0.14, 0.09, 0.12, 0.14, 0.14, 0.09, 0.12, 0.13, 0.13, 0.13,\n",
       "       0.45, 0.6 , 0.4 , 0.65, 0.55, 0.7 , 0.5 , 0.65, 0.6 , 0.65, 0.6 ,\n",
       "       0.15, 0.55, 0.55, 0.55, 0.5 , 0.65, 0.65, 0.55, 0.7 , 0.65, 0.6 ,\n",
       "       0.05, 0.4 , 0.35, 0.35, 0.3 , 0.55, 0.45, 0.35, 0.6 , 0.6 , 0.6 ,\n",
       "       0.4 , 0.55, 0.35, 0.65, 0.5 , 0.65, 0.6 , 0.75, 0.6 , 0.6 , 0.45,\n",
       "       0.05, 0.65, 0.8 , 0.7 , 0.6 , 0.3 , 0.75, 0.65, 0.3 , 0.35, 0.2 ,\n",
       "       0.4 , 0.6 , 0.4 , 0.6 , 0.55, 0.75, 0.55, 0.7 , 0.7 , 0.65, 0.65,\n",
       "       0.1 , 0.35, 0.35, 0.45, 0.4 , 0.6 , 0.45, 0.5 , 0.6 , 0.5 , 0.55,\n",
       "       0.5 , 0.5 , 0.7 , 0.7 , 0.6 , 0.5 , 0.7 , 0.65, 0.4 , 0.4 , 0.35,\n",
       "       0.6 , 0.7 , 0.6 , 0.65, 0.55, 0.65, 0.65, 0.7 , 0.55, 0.6 , 0.6 ,\n",
       "       0.1 , 0.6 , 0.45, 0.35, 0.6 , 0.7 , 0.6 , 0.5 , 0.65, 0.7 , 0.65,\n",
       "       0.6 , 0.65, 0.5 , 0.6 , 0.55, 0.65, 0.6 , 0.65, 0.5 , 0.6 , 0.5 ,\n",
       "       0.55, 0.7 , 0.65, 0.85, 0.65, 0.55, 0.65, 0.75, 0.6 , 0.65, 0.55,\n",
       "       0.65, 0.65, 0.55, 0.6 , 0.5 , 0.25, 0.65, 0.6 , 0.4 , 0.6 , 0.3 ,\n",
       "       0.6 , 0.7 , 0.5 , 0.6 , 0.6 , 0.65, 0.6 , 0.65, 0.6 , 0.6 , 0.65,\n",
       "       0.3 , 0.7 , 0.7 , 0.75, 0.7 , 0.5 , 0.8 , 0.75, 0.5 , 0.65, 0.45,\n",
       "       0.6 , 0.7 , 0.75, 0.6 , 0.65, 0.65, 0.5 , 0.6 , 0.65, 0.6 , 0.7 ,\n",
       "       0.6 , 0.7 , 0.7 , 0.75, 0.75, 0.6 , 0.75, 0.75, 0.75, 0.6 , 0.7 ,\n",
       "       0.7 , 0.6 , 0.6 , 0.75, 0.75, 0.6 , 0.65, 0.6 , 0.6 , 0.55, 0.7 ,\n",
       "       0.65, 0.6 , 0.75, 0.7 , 0.7 , 0.45, 0.75, 0.55, 0.45, 0.35, 0.65,\n",
       "       0.5 , 0.65, 0.7 , 0.6 , 0.7 , 0.7 , 0.55, 0.55, 0.65, 0.65, 0.65])"
      ]
     },
     "execution_count": 60,
     "metadata": {},
     "output_type": "execute_result"
    }
   ],
   "source": [
    "X_combined[4678]"
   ]
  },
  {
   "cell_type": "code",
   "execution_count": 61,
   "metadata": {},
   "outputs": [],
   "source": [
    "from sklearn.model_selection import train_test_split\n",
    "\n",
    "X_train, X_test, Y_train, Y_test = train_test_split(X_combined, Y, test_size=0.2)"
   ]
  },
  {
   "cell_type": "code",
   "execution_count": 62,
   "metadata": {},
   "outputs": [],
   "source": [
    "import xgboost as xgb\n",
    "\n",
    "dtrain = xgb.DMatrix(X_train, label=Y_train)\n",
    "dtest = xgb.DMatrix(X_test, label=Y_test)"
   ]
  },
  {
   "cell_type": "code",
   "execution_count": 63,
   "metadata": {},
   "outputs": [],
   "source": [
    "param = {'max_depth': 2, 'eta': 1, 'objective': 'multi:softmax', \"num_class\" : 3}\n",
    "param['nthread'] = 4\n",
    "param['eval_metric'] = 'auc'\n",
    "\n",
    "evallist = [(dtrain, 'train'), (dtest, 'eval')]"
   ]
  },
  {
   "cell_type": "code",
   "execution_count": 66,
   "metadata": {},
   "outputs": [
    {
     "name": "stdout",
     "output_type": "stream",
     "text": [
      "[0]\ttrain-auc:0.62202\teval-auc:0.59033\n",
      "[1]\ttrain-auc:0.64235\teval-auc:0.60954\n",
      "[2]\ttrain-auc:0.65148\teval-auc:0.61480\n",
      "[3]\ttrain-auc:0.65913\teval-auc:0.61536\n",
      "[4]\ttrain-auc:0.66758\teval-auc:0.61468\n",
      "[5]\ttrain-auc:0.67472\teval-auc:0.61541\n",
      "[6]\ttrain-auc:0.68139\teval-auc:0.61429\n",
      "[7]\ttrain-auc:0.68470\teval-auc:0.61493\n",
      "[8]\ttrain-auc:0.69038\teval-auc:0.61658\n",
      "[9]\ttrain-auc:0.69494\teval-auc:0.61662\n",
      "[10]\ttrain-auc:0.69936\teval-auc:0.61606\n",
      "[11]\ttrain-auc:0.70522\teval-auc:0.61759\n",
      "[12]\ttrain-auc:0.71034\teval-auc:0.61446\n",
      "[13]\ttrain-auc:0.71342\teval-auc:0.61403\n",
      "[14]\ttrain-auc:0.71835\teval-auc:0.61433\n",
      "[15]\ttrain-auc:0.72208\teval-auc:0.61714\n",
      "[16]\ttrain-auc:0.72645\teval-auc:0.61659\n",
      "[17]\ttrain-auc:0.72974\teval-auc:0.61534\n",
      "[18]\ttrain-auc:0.73410\teval-auc:0.61556\n",
      "[19]\ttrain-auc:0.73698\teval-auc:0.61495\n",
      "[20]\ttrain-auc:0.73958\teval-auc:0.61459\n",
      "[21]\ttrain-auc:0.74304\teval-auc:0.61550\n",
      "[22]\ttrain-auc:0.74715\teval-auc:0.61472\n",
      "[23]\ttrain-auc:0.75082\teval-auc:0.61415\n",
      "[24]\ttrain-auc:0.75413\teval-auc:0.61255\n",
      "[25]\ttrain-auc:0.75830\teval-auc:0.61105\n",
      "[26]\ttrain-auc:0.76085\teval-auc:0.61195\n",
      "[27]\ttrain-auc:0.76250\teval-auc:0.61258\n",
      "[28]\ttrain-auc:0.76473\teval-auc:0.61244\n",
      "[29]\ttrain-auc:0.76934\teval-auc:0.61051\n",
      "[30]\ttrain-auc:0.77194\teval-auc:0.61208\n",
      "[31]\ttrain-auc:0.77503\teval-auc:0.61219\n",
      "[32]\ttrain-auc:0.77674\teval-auc:0.61398\n",
      "[33]\ttrain-auc:0.77912\teval-auc:0.61362\n",
      "[34]\ttrain-auc:0.78063\teval-auc:0.61371\n",
      "[35]\ttrain-auc:0.78256\teval-auc:0.61195\n",
      "[36]\ttrain-auc:0.78419\teval-auc:0.61172\n",
      "[37]\ttrain-auc:0.78816\teval-auc:0.61205\n",
      "[38]\ttrain-auc:0.79029\teval-auc:0.61176\n",
      "[39]\ttrain-auc:0.79206\teval-auc:0.61158\n",
      "[40]\ttrain-auc:0.79446\teval-auc:0.61213\n",
      "[41]\ttrain-auc:0.79661\teval-auc:0.61014\n",
      "[42]\ttrain-auc:0.79917\teval-auc:0.60912\n",
      "[43]\ttrain-auc:0.80165\teval-auc:0.60805\n",
      "[44]\ttrain-auc:0.80430\teval-auc:0.60898\n",
      "[45]\ttrain-auc:0.80644\teval-auc:0.60840\n",
      "[46]\ttrain-auc:0.80847\teval-auc:0.60789\n",
      "[47]\ttrain-auc:0.81000\teval-auc:0.60957\n",
      "[48]\ttrain-auc:0.81198\teval-auc:0.60917\n",
      "[49]\ttrain-auc:0.81460\teval-auc:0.60878\n",
      "[50]\ttrain-auc:0.81583\teval-auc:0.60766\n",
      "[51]\ttrain-auc:0.81758\teval-auc:0.60716\n",
      "[52]\ttrain-auc:0.81898\teval-auc:0.60640\n",
      "[53]\ttrain-auc:0.82179\teval-auc:0.60648\n",
      "[54]\ttrain-auc:0.82274\teval-auc:0.60611\n",
      "[55]\ttrain-auc:0.82503\teval-auc:0.60697\n",
      "[56]\ttrain-auc:0.82764\teval-auc:0.60632\n",
      "[57]\ttrain-auc:0.82969\teval-auc:0.60427\n",
      "[58]\ttrain-auc:0.83085\teval-auc:0.60492\n",
      "[59]\ttrain-auc:0.83242\teval-auc:0.60490\n",
      "[60]\ttrain-auc:0.83360\teval-auc:0.60525\n",
      "[61]\ttrain-auc:0.83533\teval-auc:0.60431\n",
      "[62]\ttrain-auc:0.83680\teval-auc:0.60497\n",
      "[63]\ttrain-auc:0.83815\teval-auc:0.60465\n",
      "[64]\ttrain-auc:0.84015\teval-auc:0.60463\n",
      "[65]\ttrain-auc:0.84098\teval-auc:0.60478\n",
      "[66]\ttrain-auc:0.84273\teval-auc:0.60445\n",
      "[67]\ttrain-auc:0.84437\teval-auc:0.60354\n",
      "[68]\ttrain-auc:0.84637\teval-auc:0.60358\n",
      "[69]\ttrain-auc:0.84781\teval-auc:0.60341\n",
      "[70]\ttrain-auc:0.84887\teval-auc:0.60300\n",
      "[71]\ttrain-auc:0.84982\teval-auc:0.60138\n",
      "[72]\ttrain-auc:0.85110\teval-auc:0.60191\n",
      "[73]\ttrain-auc:0.85193\teval-auc:0.60259\n",
      "[74]\ttrain-auc:0.85368\teval-auc:0.60233\n",
      "[75]\ttrain-auc:0.85518\teval-auc:0.60257\n",
      "[76]\ttrain-auc:0.85638\teval-auc:0.60107\n",
      "[77]\ttrain-auc:0.85766\teval-auc:0.60041\n",
      "[78]\ttrain-auc:0.85849\teval-auc:0.60048\n",
      "[79]\ttrain-auc:0.85920\teval-auc:0.60048\n",
      "[80]\ttrain-auc:0.86072\teval-auc:0.59959\n",
      "[81]\ttrain-auc:0.86177\teval-auc:0.59982\n",
      "[82]\ttrain-auc:0.86304\teval-auc:0.59947\n",
      "[83]\ttrain-auc:0.86415\teval-auc:0.59877\n",
      "[84]\ttrain-auc:0.86582\teval-auc:0.59828\n",
      "[85]\ttrain-auc:0.86659\teval-auc:0.60018\n",
      "[86]\ttrain-auc:0.86898\teval-auc:0.59908\n",
      "[87]\ttrain-auc:0.86974\teval-auc:0.59944\n",
      "[88]\ttrain-auc:0.87079\teval-auc:0.59906\n",
      "[89]\ttrain-auc:0.87249\teval-auc:0.59854\n",
      "[90]\ttrain-auc:0.87348\teval-auc:0.59979\n",
      "[91]\ttrain-auc:0.87441\teval-auc:0.59926\n",
      "[92]\ttrain-auc:0.87561\teval-auc:0.59868\n",
      "[93]\ttrain-auc:0.87618\teval-auc:0.59975\n",
      "[94]\ttrain-auc:0.87773\teval-auc:0.59975\n",
      "[95]\ttrain-auc:0.87883\teval-auc:0.59906\n",
      "[96]\ttrain-auc:0.87990\teval-auc:0.59908\n",
      "[97]\ttrain-auc:0.88048\teval-auc:0.59865\n",
      "[98]\ttrain-auc:0.88172\teval-auc:0.59778\n",
      "[99]\ttrain-auc:0.88318\teval-auc:0.59710\n"
     ]
    }
   ],
   "source": [
    "num_round = 100\n",
    "bst = xgb.train(param, dtrain, num_round, evallist)"
   ]
  },
  {
   "cell_type": "code",
   "execution_count": 75,
   "metadata": {},
   "outputs": [],
   "source": [
    "ypred = bst.predict(dtest,\"strict_shape\" == True)\n"
   ]
  },
  {
   "cell_type": "code",
   "execution_count": 76,
   "metadata": {},
   "outputs": [
    {
     "data": {
      "text/plain": [
       "array([1., 1., 1., ..., 1., 1., 1.], dtype=float32)"
      ]
     },
     "execution_count": 76,
     "metadata": {},
     "output_type": "execute_result"
    }
   ],
   "source": [
    "ypred\n"
   ]
  },
  {
   "cell_type": "code",
   "execution_count": 77,
   "metadata": {},
   "outputs": [],
   "source": [
    "param = {'max_depth': 2, 'eta': 1, 'objective': 'multi:softprob', \"num_class\" : 3}\n",
    "param['nthread'] = 4\n",
    "param['eval_metric'] = 'auc'\n",
    "\n",
    "evallist = [(dtrain, 'train'), (dtest, 'eval')]"
   ]
  },
  {
   "cell_type": "code",
   "execution_count": 78,
   "metadata": {},
   "outputs": [
    {
     "name": "stdout",
     "output_type": "stream",
     "text": [
      "[0]\ttrain-auc:0.62202\teval-auc:0.59033\n",
      "[1]\ttrain-auc:0.64235\teval-auc:0.60954\n",
      "[2]\ttrain-auc:0.65148\teval-auc:0.61480\n",
      "[3]\ttrain-auc:0.65913\teval-auc:0.61536\n",
      "[4]\ttrain-auc:0.66758\teval-auc:0.61468\n",
      "[5]\ttrain-auc:0.67472\teval-auc:0.61541\n",
      "[6]\ttrain-auc:0.68139\teval-auc:0.61429\n",
      "[7]\ttrain-auc:0.68470\teval-auc:0.61493\n",
      "[8]\ttrain-auc:0.69038\teval-auc:0.61658\n",
      "[9]\ttrain-auc:0.69494\teval-auc:0.61662\n",
      "[10]\ttrain-auc:0.69936\teval-auc:0.61606\n",
      "[11]\ttrain-auc:0.70522\teval-auc:0.61759\n",
      "[12]\ttrain-auc:0.71034\teval-auc:0.61446\n",
      "[13]\ttrain-auc:0.71342\teval-auc:0.61403\n",
      "[14]\ttrain-auc:0.71835\teval-auc:0.61433\n",
      "[15]\ttrain-auc:0.72208\teval-auc:0.61714\n",
      "[16]\ttrain-auc:0.72645\teval-auc:0.61659\n",
      "[17]\ttrain-auc:0.72974\teval-auc:0.61534\n",
      "[18]\ttrain-auc:0.73410\teval-auc:0.61556\n",
      "[19]\ttrain-auc:0.73698\teval-auc:0.61495\n",
      "[20]\ttrain-auc:0.73958\teval-auc:0.61459\n",
      "[21]\ttrain-auc:0.74304\teval-auc:0.61550\n",
      "[22]\ttrain-auc:0.74715\teval-auc:0.61472\n",
      "[23]\ttrain-auc:0.75082\teval-auc:0.61415\n",
      "[24]\ttrain-auc:0.75413\teval-auc:0.61255\n",
      "[25]\ttrain-auc:0.75830\teval-auc:0.61105\n",
      "[26]\ttrain-auc:0.76085\teval-auc:0.61195\n",
      "[27]\ttrain-auc:0.76250\teval-auc:0.61258\n",
      "[28]\ttrain-auc:0.76473\teval-auc:0.61244\n",
      "[29]\ttrain-auc:0.76934\teval-auc:0.61051\n",
      "[30]\ttrain-auc:0.77194\teval-auc:0.61208\n",
      "[31]\ttrain-auc:0.77503\teval-auc:0.61219\n",
      "[32]\ttrain-auc:0.77674\teval-auc:0.61398\n",
      "[33]\ttrain-auc:0.77912\teval-auc:0.61362\n",
      "[34]\ttrain-auc:0.78063\teval-auc:0.61371\n",
      "[35]\ttrain-auc:0.78256\teval-auc:0.61195\n",
      "[36]\ttrain-auc:0.78419\teval-auc:0.61172\n",
      "[37]\ttrain-auc:0.78816\teval-auc:0.61205\n",
      "[38]\ttrain-auc:0.79029\teval-auc:0.61176\n",
      "[39]\ttrain-auc:0.79206\teval-auc:0.61158\n",
      "[40]\ttrain-auc:0.79446\teval-auc:0.61213\n",
      "[41]\ttrain-auc:0.79661\teval-auc:0.61014\n",
      "[42]\ttrain-auc:0.79917\teval-auc:0.60912\n",
      "[43]\ttrain-auc:0.80165\teval-auc:0.60805\n",
      "[44]\ttrain-auc:0.80430\teval-auc:0.60898\n",
      "[45]\ttrain-auc:0.80644\teval-auc:0.60840\n",
      "[46]\ttrain-auc:0.80847\teval-auc:0.60789\n",
      "[47]\ttrain-auc:0.81000\teval-auc:0.60957\n",
      "[48]\ttrain-auc:0.81198\teval-auc:0.60917\n",
      "[49]\ttrain-auc:0.81460\teval-auc:0.60878\n",
      "[50]\ttrain-auc:0.81583\teval-auc:0.60766\n",
      "[51]\ttrain-auc:0.81758\teval-auc:0.60716\n",
      "[52]\ttrain-auc:0.81898\teval-auc:0.60640\n",
      "[53]\ttrain-auc:0.82179\teval-auc:0.60648\n",
      "[54]\ttrain-auc:0.82274\teval-auc:0.60611\n",
      "[55]\ttrain-auc:0.82503\teval-auc:0.60697\n",
      "[56]\ttrain-auc:0.82764\teval-auc:0.60632\n",
      "[57]\ttrain-auc:0.82969\teval-auc:0.60427\n",
      "[58]\ttrain-auc:0.83085\teval-auc:0.60492\n",
      "[59]\ttrain-auc:0.83242\teval-auc:0.60490\n",
      "[60]\ttrain-auc:0.83360\teval-auc:0.60525\n",
      "[61]\ttrain-auc:0.83533\teval-auc:0.60431\n",
      "[62]\ttrain-auc:0.83680\teval-auc:0.60497\n",
      "[63]\ttrain-auc:0.83815\teval-auc:0.60465\n",
      "[64]\ttrain-auc:0.84015\teval-auc:0.60463\n",
      "[65]\ttrain-auc:0.84098\teval-auc:0.60478\n",
      "[66]\ttrain-auc:0.84273\teval-auc:0.60445\n",
      "[67]\ttrain-auc:0.84437\teval-auc:0.60354\n",
      "[68]\ttrain-auc:0.84637\teval-auc:0.60358\n",
      "[69]\ttrain-auc:0.84781\teval-auc:0.60341\n",
      "[70]\ttrain-auc:0.84887\teval-auc:0.60300\n",
      "[71]\ttrain-auc:0.84982\teval-auc:0.60138\n",
      "[72]\ttrain-auc:0.85110\teval-auc:0.60191\n",
      "[73]\ttrain-auc:0.85193\teval-auc:0.60259\n",
      "[74]\ttrain-auc:0.85368\teval-auc:0.60233\n",
      "[75]\ttrain-auc:0.85518\teval-auc:0.60257\n",
      "[76]\ttrain-auc:0.85638\teval-auc:0.60107\n",
      "[77]\ttrain-auc:0.85766\teval-auc:0.60041\n",
      "[78]\ttrain-auc:0.85849\teval-auc:0.60048\n",
      "[79]\ttrain-auc:0.85920\teval-auc:0.60048\n",
      "[80]\ttrain-auc:0.86072\teval-auc:0.59959\n",
      "[81]\ttrain-auc:0.86177\teval-auc:0.59982\n",
      "[82]\ttrain-auc:0.86304\teval-auc:0.59947\n",
      "[83]\ttrain-auc:0.86415\teval-auc:0.59877\n",
      "[84]\ttrain-auc:0.86582\teval-auc:0.59828\n",
      "[85]\ttrain-auc:0.86659\teval-auc:0.60018\n",
      "[86]\ttrain-auc:0.86898\teval-auc:0.59908\n",
      "[87]\ttrain-auc:0.86974\teval-auc:0.59944\n",
      "[88]\ttrain-auc:0.87079\teval-auc:0.59906\n",
      "[89]\ttrain-auc:0.87249\teval-auc:0.59854\n",
      "[90]\ttrain-auc:0.87348\teval-auc:0.59979\n",
      "[91]\ttrain-auc:0.87441\teval-auc:0.59926\n",
      "[92]\ttrain-auc:0.87561\teval-auc:0.59868\n",
      "[93]\ttrain-auc:0.87618\teval-auc:0.59975\n",
      "[94]\ttrain-auc:0.87773\teval-auc:0.59975\n",
      "[95]\ttrain-auc:0.87883\teval-auc:0.59906\n",
      "[96]\ttrain-auc:0.87990\teval-auc:0.59908\n",
      "[97]\ttrain-auc:0.88048\teval-auc:0.59865\n",
      "[98]\ttrain-auc:0.88172\teval-auc:0.59778\n",
      "[99]\ttrain-auc:0.88318\teval-auc:0.59710\n"
     ]
    }
   ],
   "source": [
    "num_round = 100\n",
    "bst2 = xgb.train(param, dtrain, num_round, evallist)"
   ]
  },
  {
   "cell_type": "code",
   "execution_count": 79,
   "metadata": {},
   "outputs": [],
   "source": [
    "ypred = bst2.predict(dtest)"
   ]
  },
  {
   "cell_type": "code",
   "execution_count": 80,
   "metadata": {},
   "outputs": [
    {
     "data": {
      "text/plain": [
       "array([[0.10989578, 0.7474495 , 0.1426547 ],\n",
       "       [0.22340065, 0.6122081 , 0.16439123],\n",
       "       [0.11648802, 0.6310571 , 0.25245485],\n",
       "       ...,\n",
       "       [0.188853  , 0.48396027, 0.32718676],\n",
       "       [0.17926301, 0.5594496 , 0.2612874 ],\n",
       "       [0.31504813, 0.38945016, 0.29550168]], dtype=float32)"
      ]
     },
     "execution_count": 80,
     "metadata": {},
     "output_type": "execute_result"
    }
   ],
   "source": [
    "ypred"
   ]
  },
  {
   "cell_type": "code",
   "execution_count": 83,
   "metadata": {},
   "outputs": [
    {
     "data": {
      "text/plain": [
       "array([[9.09953  , 1.337883 , 7.0099335],\n",
       "       [4.4762626, 1.6334314, 6.0830493],\n",
       "       [8.584574 , 1.5846426, 3.9611044],\n",
       "       ...,\n",
       "       [5.295124 , 2.0662854, 3.0563583],\n",
       "       [5.578396 , 1.787471 , 3.8272035],\n",
       "       [3.1741183, 2.5677226, 3.3840756]], dtype=float32)"
      ]
     },
     "execution_count": 83,
     "metadata": {},
     "output_type": "execute_result"
    }
   ],
   "source": [
    "1/ypred"
   ]
  },
  {
   "cell_type": "markdown",
   "metadata": {},
   "source": [
    "# Test Prédiction Premier league 2022 XGBoost"
   ]
  },
  {
   "cell_type": "code",
   "execution_count": 47,
   "metadata": {},
   "outputs": [],
   "source": [
    "import pandas as pd\n",
    "import numpy as np\n",
    "from tensorflow import keras\n",
    "from tensorflow.keras.layers import Input, Conv2D, Flatten, Dense, concatenate"
   ]
  },
  {
   "cell_type": "code",
   "execution_count": 48,
   "metadata": {},
   "outputs": [
    {
     "data": {
      "text/html": [
       "<div>\n",
       "<style scoped>\n",
       "    .dataframe tbody tr th:only-of-type {\n",
       "        vertical-align: middle;\n",
       "    }\n",
       "\n",
       "    .dataframe tbody tr th {\n",
       "        vertical-align: top;\n",
       "    }\n",
       "\n",
       "    .dataframe thead th {\n",
       "        text-align: right;\n",
       "    }\n",
       "</style>\n",
       "<table border=\"1\" class=\"dataframe\">\n",
       "  <thead>\n",
       "    <tr style=\"text-align: right;\">\n",
       "      <th></th>\n",
       "      <th>Unnamed: 0</th>\n",
       "      <th>Home_Team</th>\n",
       "      <th>Away_Team</th>\n",
       "      <th>Result</th>\n",
       "      <th>Forme_dom</th>\n",
       "      <th>Forme_exte</th>\n",
       "    </tr>\n",
       "  </thead>\n",
       "  <tbody>\n",
       "    <tr>\n",
       "      <th>0</th>\n",
       "      <td>0</td>\n",
       "      <td>Olympique de Marseille_2018</td>\n",
       "      <td>Toulouse Football Club_2018</td>\n",
       "      <td>1.0</td>\n",
       "      <td>0.0</td>\n",
       "      <td>0.0</td>\n",
       "    </tr>\n",
       "    <tr>\n",
       "      <th>1</th>\n",
       "      <td>1</td>\n",
       "      <td>Manchester United Football Club_2018</td>\n",
       "      <td>Leicester City_2018</td>\n",
       "      <td>1.0</td>\n",
       "      <td>0.0</td>\n",
       "      <td>0.0</td>\n",
       "    </tr>\n",
       "    <tr>\n",
       "      <th>2</th>\n",
       "      <td>2</td>\n",
       "      <td>Olympique Gymnaste Club Nice Côte d'Azur_2018</td>\n",
       "      <td>Stade de Reims_2018</td>\n",
       "      <td>2.0</td>\n",
       "      <td>0.0</td>\n",
       "      <td>0.0</td>\n",
       "    </tr>\n",
       "    <tr>\n",
       "      <th>3</th>\n",
       "      <td>3</td>\n",
       "      <td>Wolverhampton Wanderers Football Club_2018</td>\n",
       "      <td>Everton Football Club_2018</td>\n",
       "      <td>0.0</td>\n",
       "      <td>0.0</td>\n",
       "      <td>0.0</td>\n",
       "    </tr>\n",
       "    <tr>\n",
       "      <th>4</th>\n",
       "      <td>4</td>\n",
       "      <td>Newcastle United Football Club_2018</td>\n",
       "      <td>Tottenham Hotspur Football Club_2018</td>\n",
       "      <td>2.0</td>\n",
       "      <td>0.0</td>\n",
       "      <td>0.0</td>\n",
       "    </tr>\n",
       "  </tbody>\n",
       "</table>\n",
       "</div>"
      ],
      "text/plain": [
       "   Unnamed: 0                                      Home_Team  \\\n",
       "0           0                    Olympique de Marseille_2018   \n",
       "1           1           Manchester United Football Club_2018   \n",
       "2           2  Olympique Gymnaste Club Nice Côte d'Azur_2018   \n",
       "3           3     Wolverhampton Wanderers Football Club_2018   \n",
       "4           4            Newcastle United Football Club_2018   \n",
       "\n",
       "                              Away_Team  Result  Forme_dom  Forme_exte  \n",
       "0           Toulouse Football Club_2018     1.0        0.0         0.0  \n",
       "1                   Leicester City_2018     1.0        0.0         0.0  \n",
       "2                   Stade de Reims_2018     2.0        0.0         0.0  \n",
       "3            Everton Football Club_2018     0.0        0.0         0.0  \n",
       "4  Tottenham Hotspur Football Club_2018     2.0        0.0         0.0  "
      ]
     },
     "execution_count": 48,
     "metadata": {},
     "output_type": "execute_result"
    }
   ],
   "source": [
    "csv_path = \"/Users/mathieu/Documents/IMT M2/Projet P5 - Foot Predictor/Team_game_result102_forme_sans_GB12022.csv\"  # Remplacez cela par le chemin réel de votre fichier CSV\n",
    "data = pd.read_csv(csv_path)\n",
    "data.head()"
   ]
  },
  {
   "cell_type": "code",
   "execution_count": 49,
   "metadata": {},
   "outputs": [
    {
     "name": "stdout",
     "output_type": "stream",
     "text": [
      "Vecteurs Dijon FCO_2020.npy - Shape : (220, 1)\n"
     ]
    }
   ],
   "source": [
    "import os\n",
    "import numpy as np\n",
    "\n",
    "# Dossier contenant les matrices d'équipes\n",
    "folder_path = \"/Users/mathieu/Documents/IMT M2/Projet P5 - Foot Predictor/Base de données/Vecteurs_Team\"\n",
    "\n",
    "# Liste des fichiers dans le dossier\n",
    "team_files = os.listdir(folder_path)\n",
    "\n",
    "# Parcourir chaque fichier et afficher la forme de la matrice\n",
    "for team_file in team_files:\n",
    "    if team_file.endswith(\".npy\"):\n",
    "        team_matrix = np.load(os.path.join(folder_path, team_file))\n",
    "        matrix_shape = team_matrix.shape\n",
    "print(f\"Vecteurs {team_file} - Shape : {matrix_shape}\")"
   ]
  },
  {
   "cell_type": "code",
   "execution_count": 50,
   "metadata": {},
   "outputs": [
    {
     "name": "stdout",
     "output_type": "stream",
     "text": [
      "X_combined shape: (8600, 440)\n",
      "Y shape: (8600,)\n"
     ]
    }
   ],
   "source": [
    "X_combined_matrices = []\n",
    "Y_results = []\n",
    "\n",
    "for index, row in data.iterrows():\n",
    "    home_team_name = row['Home_Team']\n",
    "    away_team_name = row['Away_Team']\n",
    "    home_coef = row['Forme_dom']\n",
    "    away_coef = row['Forme_exte']\n",
    "    result = row['Result']\n",
    "\n",
    "    home_team_matrix = np.load(os.path.join(folder_path, f\"{home_team_name}.npy\"))\n",
    "    away_team_matrix = np.load(os.path.join(folder_path, f\"{away_team_name}.npy\"))\n",
    "    home_team_matrix = (home_team_matrix * (1 + home_coef))/20\n",
    "    away_team_matrix = (away_team_matrix * (1 + away_coef))/20\n",
    "\n",
    "    combined_matrix = np.concatenate([home_team_matrix, away_team_matrix], axis=0)\n",
    "\n",
    "    X_combined_matrices.append(combined_matrix)\n",
    "    Y_results.append(result)\n",
    "\n",
    "# Convertir les listes en tableaux NumPy\n",
    "X_combined = np.array(X_combined_matrices)\n",
    "Y = np.array(Y_results)\n",
    "X_combined = X_combined.reshape((-1,440))\n",
    "\n",
    "print(\"X_combined shape:\", X_combined.shape)\n",
    "print(\"Y shape:\", Y.shape)"
   ]
  },
  {
   "cell_type": "code",
   "execution_count": 51,
   "metadata": {},
   "outputs": [],
   "source": [
    "from sklearn.model_selection import train_test_split\n",
    "import xgboost as xgb\n",
    "\n",
    "X_train, X_test, Y_train, Y_test = train_test_split(X_combined, Y, test_size=0.05)\n",
    "\n",
    "dtrain = xgb.DMatrix(X_train, label=Y_train)\n",
    "dtest = xgb.DMatrix(X_test, label=Y_test)"
   ]
  },
  {
   "cell_type": "code",
   "execution_count": 52,
   "metadata": {},
   "outputs": [],
   "source": [
    "param = {'max_depth': 2, 'eta': 1, 'objective': 'multi:softprob', \"num_class\" : 3}\n",
    "param['nthread'] = 4\n",
    "param['eval_metric'] = 'auc'\n",
    "\n",
    "evallist = [(dtrain, 'train'), (dtest, 'eval')]"
   ]
  },
  {
   "cell_type": "code",
   "execution_count": 53,
   "metadata": {},
   "outputs": [
    {
     "name": "stdout",
     "output_type": "stream",
     "text": [
      "[0]\ttrain-auc:0.61711\teval-auc:0.60898\n",
      "[1]\ttrain-auc:0.63767\teval-auc:0.62675\n",
      "[2]\ttrain-auc:0.64559\teval-auc:0.63172\n",
      "[3]\ttrain-auc:0.65308\teval-auc:0.62968\n",
      "[4]\ttrain-auc:0.66051\teval-auc:0.62459\n",
      "[5]\ttrain-auc:0.66607\teval-auc:0.62275\n",
      "[6]\ttrain-auc:0.67089\teval-auc:0.62687\n",
      "[7]\ttrain-auc:0.67743\teval-auc:0.62253\n",
      "[8]\ttrain-auc:0.67974\teval-auc:0.63121\n"
     ]
    },
    {
     "name": "stderr",
     "output_type": "stream",
     "text": [
      "/Users/mathieu/env/lib/python3.8/site-packages/xgboost/core.py:727: FutureWarning: Pass `evals` as keyword args.\n",
      "  warnings.warn(msg, FutureWarning)\n"
     ]
    },
    {
     "name": "stdout",
     "output_type": "stream",
     "text": [
      "[9]\ttrain-auc:0.68360\teval-auc:0.62146\n",
      "[10]\ttrain-auc:0.68671\teval-auc:0.62025\n",
      "[11]\ttrain-auc:0.69110\teval-auc:0.62202\n",
      "[12]\ttrain-auc:0.69546\teval-auc:0.63022\n",
      "[13]\ttrain-auc:0.69892\teval-auc:0.63262\n",
      "[14]\ttrain-auc:0.70293\teval-auc:0.62951\n",
      "[15]\ttrain-auc:0.70563\teval-auc:0.63009\n",
      "[16]\ttrain-auc:0.70967\teval-auc:0.63116\n",
      "[17]\ttrain-auc:0.71355\teval-auc:0.63205\n",
      "[18]\ttrain-auc:0.71804\teval-auc:0.62939\n",
      "[19]\ttrain-auc:0.72177\teval-auc:0.62892\n",
      "[20]\ttrain-auc:0.72543\teval-auc:0.62668\n",
      "[21]\ttrain-auc:0.73000\teval-auc:0.62567\n",
      "[22]\ttrain-auc:0.73344\teval-auc:0.63217\n",
      "[23]\ttrain-auc:0.73776\teval-auc:0.63494\n",
      "[24]\ttrain-auc:0.74122\teval-auc:0.63322\n",
      "[25]\ttrain-auc:0.74491\teval-auc:0.63515\n",
      "[26]\ttrain-auc:0.74793\teval-auc:0.63738\n",
      "[27]\ttrain-auc:0.75071\teval-auc:0.63849\n",
      "[28]\ttrain-auc:0.75230\teval-auc:0.63780\n",
      "[29]\ttrain-auc:0.75410\teval-auc:0.63316\n"
     ]
    }
   ],
   "source": [
    "num_round = 30\n",
    "bst3 = xgb.train(param, dtrain, num_round, evallist)"
   ]
  },
  {
   "cell_type": "code",
   "execution_count": 54,
   "metadata": {},
   "outputs": [
    {
     "data": {
      "text/html": [
       "<div>\n",
       "<style scoped>\n",
       "    .dataframe tbody tr th:only-of-type {\n",
       "        vertical-align: middle;\n",
       "    }\n",
       "\n",
       "    .dataframe tbody tr th {\n",
       "        vertical-align: top;\n",
       "    }\n",
       "\n",
       "    .dataframe thead th {\n",
       "        text-align: right;\n",
       "    }\n",
       "</style>\n",
       "<table border=\"1\" class=\"dataframe\">\n",
       "  <thead>\n",
       "    <tr style=\"text-align: right;\">\n",
       "      <th></th>\n",
       "      <th>Unnamed: 0</th>\n",
       "      <th>Home_Team</th>\n",
       "      <th>Away_Team</th>\n",
       "      <th>Forme_dom</th>\n",
       "      <th>Forme_exte</th>\n",
       "    </tr>\n",
       "  </thead>\n",
       "  <tbody>\n",
       "    <tr>\n",
       "      <th>0</th>\n",
       "      <td>0</td>\n",
       "      <td>Crystal Palace Football Club_2022</td>\n",
       "      <td>Arsenal Football Club_2022</td>\n",
       "      <td>0.0</td>\n",
       "      <td>0.0</td>\n",
       "    </tr>\n",
       "    <tr>\n",
       "      <th>1</th>\n",
       "      <td>1</td>\n",
       "      <td>Fulham Football Club_2022</td>\n",
       "      <td>Liverpool Football Club_2022</td>\n",
       "      <td>0.0</td>\n",
       "      <td>0.0</td>\n",
       "    </tr>\n",
       "    <tr>\n",
       "      <th>2</th>\n",
       "      <td>2</td>\n",
       "      <td>Everton Football Club_2022</td>\n",
       "      <td>Chelsea Football Club_2022</td>\n",
       "      <td>0.0</td>\n",
       "      <td>0.0</td>\n",
       "    </tr>\n",
       "    <tr>\n",
       "      <th>3</th>\n",
       "      <td>3</td>\n",
       "      <td>Association Football Club Bournemouth_2022</td>\n",
       "      <td>Aston Villa Football Club_2022</td>\n",
       "      <td>0.0</td>\n",
       "      <td>0.0</td>\n",
       "    </tr>\n",
       "    <tr>\n",
       "      <th>4</th>\n",
       "      <td>4</td>\n",
       "      <td>Tottenham Hotspur Football Club_2022</td>\n",
       "      <td>Southampton FC_2022</td>\n",
       "      <td>0.0</td>\n",
       "      <td>0.0</td>\n",
       "    </tr>\n",
       "  </tbody>\n",
       "</table>\n",
       "</div>"
      ],
      "text/plain": [
       "   Unnamed: 0                                   Home_Team  \\\n",
       "0           0           Crystal Palace Football Club_2022   \n",
       "1           1                   Fulham Football Club_2022   \n",
       "2           2                  Everton Football Club_2022   \n",
       "3           3  Association Football Club Bournemouth_2022   \n",
       "4           4        Tottenham Hotspur Football Club_2022   \n",
       "\n",
       "                        Away_Team  Forme_dom  Forme_exte  \n",
       "0      Arsenal Football Club_2022        0.0         0.0  \n",
       "1    Liverpool Football Club_2022        0.0         0.0  \n",
       "2      Chelsea Football Club_2022        0.0         0.0  \n",
       "3  Aston Villa Football Club_2022        0.0         0.0  \n",
       "4             Southampton FC_2022        0.0         0.0  "
      ]
     },
     "execution_count": 54,
     "metadata": {},
     "output_type": "execute_result"
    }
   ],
   "source": [
    "csv_path = \"/Users/mathieu/Documents/IMT M2/Projet P5 - Foot Predictor/Team_game_result102_forme_QUE_GB12022.csv\"  # Remplacez cela par le chemin réel de votre fichier CSV\n",
    "data = pd.read_csv(csv_path)\n",
    "data.head()"
   ]
  },
  {
   "cell_type": "code",
   "execution_count": 55,
   "metadata": {},
   "outputs": [
    {
     "name": "stdout",
     "output_type": "stream",
     "text": [
      "Vecteurs Dijon FCO_2020.npy - Shape : (220, 1)\n"
     ]
    }
   ],
   "source": [
    "import os\n",
    "import numpy as np\n",
    "\n",
    "# Dossier contenant les matrices d'équipes\n",
    "folder_path = \"/Users/mathieu/Documents/IMT M2/Projet P5 - Foot Predictor/Base de données/Vecteurs_Team\"\n",
    "\n",
    "# Liste des fichiers dans le dossier\n",
    "team_files = os.listdir(folder_path)\n",
    "\n",
    "# Parcourir chaque fichier et afficher la forme de la matrice\n",
    "for team_file in team_files:\n",
    "    if team_file.endswith(\".npy\"):\n",
    "        team_matrix = np.load(os.path.join(folder_path, team_file))\n",
    "        matrix_shape = team_matrix.shape\n",
    "print(f\"Vecteurs {team_file} - Shape : {matrix_shape}\")"
   ]
  },
  {
   "cell_type": "code",
   "execution_count": 56,
   "metadata": {},
   "outputs": [
    {
     "name": "stdout",
     "output_type": "stream",
     "text": [
      "X_combined shape: (380, 440)\n"
     ]
    }
   ],
   "source": [
    "X_combined_matrices = []\n",
    "\n",
    "for index, row in data.iterrows():\n",
    "    home_team_name = row['Home_Team']\n",
    "    away_team_name = row['Away_Team']\n",
    "    home_coef = row['Forme_dom']\n",
    "    away_coef = row['Forme_exte']\n",
    "\n",
    "    home_team_matrix = np.load(os.path.join(folder_path, f\"{home_team_name}.npy\"))\n",
    "    away_team_matrix = np.load(os.path.join(folder_path, f\"{away_team_name}.npy\"))\n",
    "    home_team_matrix = (home_team_matrix * (1 + home_coef))/20\n",
    "    away_team_matrix = (away_team_matrix * (1 + away_coef))/20\n",
    "\n",
    "    combined_matrix = np.concatenate([home_team_matrix, away_team_matrix], axis=0)\n",
    "\n",
    "    X_combined_matrices.append(combined_matrix)\n",
    "\n",
    "# Convertir les listes en tableaux NumPy\n",
    "X_combined = np.array(X_combined_matrices)\n",
    "X_combined = X_combined.reshape((-1,440))\n",
    "\n",
    "print(\"X_combined shape:\", X_combined.shape)\n"
   ]
  },
  {
   "cell_type": "code",
   "execution_count": 57,
   "metadata": {},
   "outputs": [],
   "source": [
    "deval = xgb.DMatrix(X_combined)"
   ]
  },
  {
   "cell_type": "code",
   "execution_count": 58,
   "metadata": {},
   "outputs": [],
   "source": [
    "ypred = bst3.predict(deval)"
   ]
  },
  {
   "cell_type": "code",
   "execution_count": 59,
   "metadata": {},
   "outputs": [],
   "source": [
    "ypred = 1/ypred"
   ]
  },
  {
   "cell_type": "code",
   "execution_count": 60,
   "metadata": {},
   "outputs": [],
   "source": [
    "d = data.to_numpy()\n",
    "y = np.hstack((ypred[:,1:2],ypred[:,0:1]))\n",
    "y = np.hstack((y,ypred[:,2:]))\n",
    "Sortie = np.hstack((d[:,1:3],y))"
   ]
  },
  {
   "cell_type": "code",
   "execution_count": 61,
   "metadata": {},
   "outputs": [],
   "source": [
    "DF = pd.DataFrame(Sortie,columns=[\"Home_Team\",\"Away_Team\",\"Côte domicile\",\"Côte nul\",\"Côte extérieur\"])\n",
    "\n",
    "# save the dataframe as a csv file\n",
    "DF.to_csv(\"Prédiction5.csv\")"
   ]
  },
  {
   "cell_type": "code",
   "execution_count": 18,
   "metadata": {},
   "outputs": [
    {
     "data": {
      "text/plain": [
       "array([[2.6292014, 5.736786 , 2.2454615],\n",
       "       [4.9835634, 5.687506 , 1.6038072],\n",
       "       [2.778388 , 4.5750065, 2.3724785],\n",
       "       ...,\n",
       "       [3.5507479, 4.6495423, 1.9869092],\n",
       "       [4.4687233, 3.4681168, 2.049678 ],\n",
       "       [1.8815495, 2.9510982, 7.7121086]], dtype=float32)"
      ]
     },
     "execution_count": 18,
     "metadata": {},
     "output_type": "execute_result"
    }
   ],
   "source": [
    "y"
   ]
  },
  {
   "cell_type": "code",
   "execution_count": 121,
   "metadata": {},
   "outputs": [
    {
     "data": {
      "text/plain": [
       "array([11., 12., 13., 12., 13., 14., 14., 14., 15., 13., 13.,  3., 13.,\n",
       "        9., 11., 10., 17., 17., 12., 16., 14., 13.,  3.,  6.,  6.,  9.,\n",
       "        5., 13., 14.,  9., 11., 15., 15., 12., 14., 15., 12., 12., 14.,\n",
       "       11., 15., 15., 11., 10.,  2., 17., 14., 15., 15.,  6.,  6., 13.,\n",
       "        8.,  8.,  6., 10., 12., 14., 13., 13., 15., 15., 14., 15., 14.,\n",
       "       13.,  2.,  8.,  8.,  8.,  4., 13., 14., 12., 13., 11., 11.,  9.,\n",
       "       15., 12., 10., 13.,  8., 13., 13.,  6.,  9., 12., 13., 13., 15.,\n",
       "       14., 14., 13., 12., 14., 11., 13., 13.,  2., 13., 11.,  9., 13.,\n",
       "       12., 13., 12., 13., 14., 14., 12., 13., 13., 13., 12., 14., 14.,\n",
       "       13., 14., 12., 12., 11., 15., 14., 13., 15., 14., 12., 14., 11.,\n",
       "       11., 12., 16., 14., 14., 14., 14.,  8.,  8., 14., 10.,  8., 10.,\n",
       "       13., 14., 15., 14., 13., 16., 15., 12., 13., 13., 13., 11., 15.,\n",
       "       12., 14., 16., 12., 12., 14., 12., 12., 14., 10., 15., 13., 15.,\n",
       "       13., 13., 15., 13., 15., 15., 14., 14., 14., 13., 14., 15., 12.,\n",
       "       15., 14., 12., 13., 13., 14., 13., 13., 14., 13., 16., 14., 12.,\n",
       "       14., 14., 14., 13., 12., 14., 15., 12., 14., 13., 14., 10., 14.,\n",
       "       15., 11., 16., 12., 14., 14., 13., 15., 13., 14., 14., 14., 12.,\n",
       "       15., 12., 14., 14., 15., 15., 15., 14., 14., 14.,  3., 14., 10.,\n",
       "       11., 14., 15., 14., 16., 17., 15., 15.,  3., 10.,  6.,  9., 11.,\n",
       "       13., 10., 14., 13., 14., 14., 13., 15., 13., 13., 12., 13., 15.,\n",
       "       14., 12., 12., 12.,  3., 13., 16., 16., 15., 10., 14.,  8.,  4.,\n",
       "        5.,  5., 12., 15., 12., 13., 13., 15., 16., 16., 16., 15., 14.,\n",
       "        2., 12.,  6., 11., 11., 12., 15., 12., 16.,  8.,  9., 12., 13.,\n",
       "       16., 15., 15., 12., 13., 14.,  6., 14., 11., 13., 16., 14., 14.,\n",
       "       13., 16., 16., 16., 12., 13., 13.,  9., 16.,  9.,  8., 13., 16.,\n",
       "       15., 16., 16., 16., 15., 14., 15., 14., 13., 13., 16., 17., 15.,\n",
       "       11., 12., 12., 15., 16., 16., 16., 19., 17., 16., 18., 11., 16.,\n",
       "       15., 13., 11., 15., 14., 13., 10., 15., 10.,  6.,  6.,  5., 14.,\n",
       "       16., 12., 16., 13., 14., 16., 14., 13., 13., 14., 10., 16., 14.,\n",
       "       14., 18., 15., 15., 18., 11., 17., 14.,  8., 14., 13., 14., 15.,\n",
       "       16., 13., 15., 17., 17., 17., 12., 15., 16., 15., 15., 16., 15.,\n",
       "       15., 13., 15., 14., 10., 14., 14., 15., 15., 17., 14., 15., 13.,\n",
       "       14., 15., 14., 10., 16., 16., 11., 12., 15., 14., 10., 10., 11.,\n",
       "        7., 13., 15., 14., 14., 15., 13., 15., 16., 16., 16.])"
      ]
     },
     "execution_count": 121,
     "metadata": {},
     "output_type": "execute_result"
    }
   ],
   "source": [
    "X_combined[0]*20"
   ]
  },
  {
   "cell_type": "code",
   "execution_count": 120,
   "metadata": {},
   "outputs": [
    {
     "data": {
      "text/plain": [
       "array([0, 'Crystal Palace Football Club_2022',\n",
       "       'Arsenal Football Club_2022', 0.0, 0.0], dtype=object)"
      ]
     },
     "execution_count": 120,
     "metadata": {},
     "output_type": "execute_result"
    }
   ],
   "source": [
    "d[0]"
   ]
  },
  {
   "cell_type": "markdown",
   "metadata": {},
   "source": [
    "# Test prédiction premier league Conv1\n"
   ]
  },
  {
   "cell_type": "code",
   "execution_count": 36,
   "metadata": {},
   "outputs": [],
   "source": [
    "import pandas as pd\n",
    "import numpy as np\n",
    "from tensorflow import keras\n",
    "from tensorflow.keras.layers import Input, Conv2D, Flatten, Dense, concatenate"
   ]
  },
  {
   "cell_type": "code",
   "execution_count": 21,
   "metadata": {},
   "outputs": [
    {
     "data": {
      "text/html": [
       "<div>\n",
       "<style scoped>\n",
       "    .dataframe tbody tr th:only-of-type {\n",
       "        vertical-align: middle;\n",
       "    }\n",
       "\n",
       "    .dataframe tbody tr th {\n",
       "        vertical-align: top;\n",
       "    }\n",
       "\n",
       "    .dataframe thead th {\n",
       "        text-align: right;\n",
       "    }\n",
       "</style>\n",
       "<table border=\"1\" class=\"dataframe\">\n",
       "  <thead>\n",
       "    <tr style=\"text-align: right;\">\n",
       "      <th></th>\n",
       "      <th>Unnamed: 0</th>\n",
       "      <th>Home_Team</th>\n",
       "      <th>Away_Team</th>\n",
       "      <th>Result</th>\n",
       "      <th>Forme_dom</th>\n",
       "      <th>Forme_exte</th>\n",
       "    </tr>\n",
       "  </thead>\n",
       "  <tbody>\n",
       "    <tr>\n",
       "      <th>0</th>\n",
       "      <td>0</td>\n",
       "      <td>Olympique de Marseille_2018</td>\n",
       "      <td>Toulouse Football Club_2018</td>\n",
       "      <td>1.0</td>\n",
       "      <td>0.0</td>\n",
       "      <td>0.0</td>\n",
       "    </tr>\n",
       "    <tr>\n",
       "      <th>1</th>\n",
       "      <td>1</td>\n",
       "      <td>Manchester United Football Club_2018</td>\n",
       "      <td>Leicester City_2018</td>\n",
       "      <td>1.0</td>\n",
       "      <td>0.0</td>\n",
       "      <td>0.0</td>\n",
       "    </tr>\n",
       "    <tr>\n",
       "      <th>2</th>\n",
       "      <td>2</td>\n",
       "      <td>Olympique Gymnaste Club Nice Côte d'Azur_2018</td>\n",
       "      <td>Stade de Reims_2018</td>\n",
       "      <td>2.0</td>\n",
       "      <td>0.0</td>\n",
       "      <td>0.0</td>\n",
       "    </tr>\n",
       "    <tr>\n",
       "      <th>3</th>\n",
       "      <td>3</td>\n",
       "      <td>Wolverhampton Wanderers Football Club_2018</td>\n",
       "      <td>Everton Football Club_2018</td>\n",
       "      <td>0.0</td>\n",
       "      <td>0.0</td>\n",
       "      <td>0.0</td>\n",
       "    </tr>\n",
       "    <tr>\n",
       "      <th>4</th>\n",
       "      <td>4</td>\n",
       "      <td>Newcastle United Football Club_2018</td>\n",
       "      <td>Tottenham Hotspur Football Club_2018</td>\n",
       "      <td>2.0</td>\n",
       "      <td>0.0</td>\n",
       "      <td>0.0</td>\n",
       "    </tr>\n",
       "  </tbody>\n",
       "</table>\n",
       "</div>"
      ],
      "text/plain": [
       "   Unnamed: 0                                      Home_Team  \\\n",
       "0           0                    Olympique de Marseille_2018   \n",
       "1           1           Manchester United Football Club_2018   \n",
       "2           2  Olympique Gymnaste Club Nice Côte d'Azur_2018   \n",
       "3           3     Wolverhampton Wanderers Football Club_2018   \n",
       "4           4            Newcastle United Football Club_2018   \n",
       "\n",
       "                              Away_Team  Result  Forme_dom  Forme_exte  \n",
       "0           Toulouse Football Club_2018     1.0        0.0         0.0  \n",
       "1                   Leicester City_2018     1.0        0.0         0.0  \n",
       "2                   Stade de Reims_2018     2.0        0.0         0.0  \n",
       "3            Everton Football Club_2018     0.0        0.0         0.0  \n",
       "4  Tottenham Hotspur Football Club_2018     2.0        0.0         0.0  "
      ]
     },
     "execution_count": 21,
     "metadata": {},
     "output_type": "execute_result"
    }
   ],
   "source": [
    "csv_path = \"/Users/mathieu/Documents/IMT M2/Projet P5 - Foot Predictor/Team_game_result102_forme_sans_GB12022.csv\"  # Remplacez cela par le chemin réel de votre fichier CSV\n",
    "data = pd.read_csv(csv_path)\n",
    "data.head()"
   ]
  },
  {
   "cell_type": "code",
   "execution_count": 22,
   "metadata": {},
   "outputs": [
    {
     "name": "stdout",
     "output_type": "stream",
     "text": [
      "Vecteurs Dijon FCO_2020.npy - Shape : (3, 4, 20)\n"
     ]
    }
   ],
   "source": [
    "import os\n",
    "import numpy as np\n",
    "\n",
    "# Dossier contenant les matrices d'équipes\n",
    "folder_path = \"/Users/mathieu/Documents/IMT M2/Projet P5 - Foot Predictor/Base de données/Matrices_Team\"\n",
    "\n",
    "# Liste des fichiers dans le dossier\n",
    "team_files = os.listdir(folder_path)\n",
    "\n",
    "# Parcourir chaque fichier et afficher la forme de la matrice\n",
    "for team_file in team_files:\n",
    "    if team_file.endswith(\".npy\"):\n",
    "        team_matrix = np.load(os.path.join(folder_path, team_file))\n",
    "        matrix_shape = team_matrix.shape\n",
    "print(f\"Vecteurs {team_file} - Shape : {matrix_shape}\")"
   ]
  },
  {
   "cell_type": "code",
   "execution_count": 23,
   "metadata": {},
   "outputs": [
    {
     "name": "stdout",
     "output_type": "stream",
     "text": [
      "X_combined shape: (8600, 6, 4, 20)\n",
      "Y shape: (8600,)\n"
     ]
    }
   ],
   "source": [
    "X_combined_matrices = []\n",
    "Y_results = []\n",
    "\n",
    "for index, row in data.iterrows():\n",
    "    home_team_name = row['Home_Team']\n",
    "    away_team_name = row['Away_Team']\n",
    "    home_coef = row['Forme_dom']\n",
    "    away_coef = row['Forme_exte']\n",
    "    result = row['Result']\n",
    "\n",
    "    home_team_matrix = np.load(os.path.join(folder_path, f\"{home_team_name}.npy\"))\n",
    "    away_team_matrix = np.load(os.path.join(folder_path, f\"{away_team_name}.npy\"))\n",
    "    home_team_matrix = (home_team_matrix * (1 + home_coef))/20\n",
    "    away_team_matrix = (away_team_matrix * (1 + away_coef))/20\n",
    "\n",
    "    combined_matrix = np.concatenate([home_team_matrix, away_team_matrix], axis=0)\n",
    "\n",
    "    X_combined_matrices.append(combined_matrix)\n",
    "    Y_results.append(result)\n",
    "\n",
    "# Convertir les listes en tableaux NumPy\n",
    "X_combined = np.array(X_combined_matrices)\n",
    "Y = np.array(Y_results)\n",
    "\n",
    "print(\"X_combined shape:\", X_combined.shape)\n",
    "print(\"Y shape:\", Y.shape)"
   ]
  },
  {
   "cell_type": "code",
   "execution_count": 24,
   "metadata": {},
   "outputs": [
    {
     "name": "stdout",
     "output_type": "stream",
     "text": [
      "Metal device set to: Apple M1\n"
     ]
    },
    {
     "name": "stderr",
     "output_type": "stream",
     "text": [
      "2024-01-23 10:17:06.263975: I tensorflow/core/common_runtime/pluggable_device/pluggable_device_factory.cc:305] Could not identify NUMA node of platform GPU ID 0, defaulting to 0. Your kernel may not have been built with NUMA support.\n",
      "2024-01-23 10:17:06.265556: I tensorflow/core/common_runtime/pluggable_device/pluggable_device_factory.cc:271] Created TensorFlow device (/job:localhost/replica:0/task:0/device:GPU:0 with 0 MB memory) -> physical PluggableDevice (device: 0, name: METAL, pci bus id: <undefined>)\n"
     ]
    },
    {
     "name": "stdout",
     "output_type": "stream",
     "text": [
      "Model: \"sequential\"\n",
      "_________________________________________________________________\n",
      " Layer (type)                Output Shape              Param #   \n",
      "=================================================================\n",
      " conv2d (Conv2D)             (None, 3, 2, 32)          2592      \n",
      "                                                                 \n",
      " conv2d_1 (Conv2D)           (None, 3, 2, 64)          8256      \n",
      "                                                                 \n",
      " conv2d_2 (Conv2D)           (None, 3, 2, 128)         73856     \n",
      "                                                                 \n",
      " flatten (Flatten)           (None, 768)               0         \n",
      "                                                                 \n",
      " dense (Dense)               (None, 256)               196864    \n",
      "                                                                 \n",
      " dense_1 (Dense)             (None, 3)                 771       \n",
      "                                                                 \n",
      "=================================================================\n",
      "Total params: 282,339\n",
      "Trainable params: 282,339\n",
      "Non-trainable params: 0\n",
      "_________________________________________________________________\n"
     ]
    }
   ],
   "source": [
    "from tensorflow.keras.models import Sequential\n",
    "from tensorflow.keras.layers import Conv2D, Flatten, Dense, Dropout, MaxPooling2D, BatchNormalization\n",
    "from tensorflow.keras import optimizers\n",
    "\n",
    "# Taille des matrices d'équipes\n",
    "input_shape = (6, 4, 20)\n",
    "\n",
    "# Modèle CNN\n",
    "model = Sequential([\n",
    "    Conv2D(32, (2,2), strides=(2,2), activation='relu', padding='same', input_shape=input_shape),\n",
    "    Conv2D(64, (2,2), strides=(1,1), activation='relu', padding='same'),\n",
    "    Conv2D(128, (3,3), strides=(1,1), activation='relu', padding='same'),\n",
    "    Flatten(),\n",
    "    Dense(256, activation='relu'),\n",
    "    \n",
    "    Dense(3, activation='softmax')\n",
    "])\n",
    "\n",
    "# Compiler le modèle\n",
    "model.compile(optimizer=optimizers.Adam(learning_rate=0.001), loss='sparse_categorical_crossentropy', metrics=['accuracy'])\n",
    "\n",
    "# Afficher le résumé du modèle\n",
    "model.summary()"
   ]
  },
  {
   "cell_type": "code",
   "execution_count": 25,
   "metadata": {},
   "outputs": [
    {
     "name": "stdout",
     "output_type": "stream",
     "text": [
      "Epoch 1/100\n"
     ]
    },
    {
     "name": "stderr",
     "output_type": "stream",
     "text": [
      "2024-01-23 10:17:59.743765: W tensorflow/core/platform/profile_utils/cpu_utils.cc:128] Failed to get CPU frequency: 0 Hz\n",
      "2024-01-23 10:18:00.119132: I tensorflow/core/grappler/optimizers/custom_graph_optimizer_registry.cc:113] Plugin optimizer for device_type GPU is enabled.\n"
     ]
    },
    {
     "name": "stdout",
     "output_type": "stream",
     "text": [
      "205/205 [==============================] - ETA: 0s - loss: 1.0441 - accuracy: 0.4812"
     ]
    },
    {
     "name": "stderr",
     "output_type": "stream",
     "text": [
      "2024-01-23 10:18:03.683187: I tensorflow/core/grappler/optimizers/custom_graph_optimizer_registry.cc:113] Plugin optimizer for device_type GPU is enabled.\n"
     ]
    },
    {
     "name": "stdout",
     "output_type": "stream",
     "text": [
      "205/205 [==============================] - 5s 20ms/step - loss: 1.0441 - accuracy: 0.4812 - val_loss: 1.0541 - val_accuracy: 0.4486\n",
      "Epoch 2/100\n",
      "205/205 [==============================] - 2s 12ms/step - loss: 1.0365 - accuracy: 0.4855 - val_loss: 1.0467 - val_accuracy: 0.4523\n",
      "Epoch 3/100\n",
      "205/205 [==============================] - 2s 11ms/step - loss: 1.0356 - accuracy: 0.4862 - val_loss: 1.0698 - val_accuracy: 0.4510\n",
      "Epoch 4/100\n",
      "205/205 [==============================] - 2s 12ms/step - loss: 1.0328 - accuracy: 0.4890 - val_loss: 1.0571 - val_accuracy: 0.4541\n",
      "Epoch 5/100\n",
      "205/205 [==============================] - 2s 12ms/step - loss: 1.0311 - accuracy: 0.4894 - val_loss: 1.0458 - val_accuracy: 0.4584\n",
      "Epoch 6/100\n",
      "205/205 [==============================] - 2s 11ms/step - loss: 1.0293 - accuracy: 0.4882 - val_loss: 1.0431 - val_accuracy: 0.4700\n",
      "Epoch 7/100\n",
      "205/205 [==============================] - 2s 12ms/step - loss: 1.0260 - accuracy: 0.4950 - val_loss: 1.0427 - val_accuracy: 0.4614\n",
      "Epoch 8/100\n",
      "205/205 [==============================] - 2s 12ms/step - loss: 1.0266 - accuracy: 0.4879 - val_loss: 1.0587 - val_accuracy: 0.4498\n",
      "Epoch 9/100\n",
      "205/205 [==============================] - 2s 12ms/step - loss: 1.0240 - accuracy: 0.4927 - val_loss: 1.0446 - val_accuracy: 0.4639\n",
      "Epoch 10/100\n",
      "205/205 [==============================] - 2s 12ms/step - loss: 1.0217 - accuracy: 0.4943 - val_loss: 1.0509 - val_accuracy: 0.4578\n",
      "Epoch 11/100\n",
      "205/205 [==============================] - 2s 12ms/step - loss: 1.0209 - accuracy: 0.4899 - val_loss: 1.0501 - val_accuracy: 0.4651\n",
      "Epoch 12/100\n",
      "205/205 [==============================] - 2s 11ms/step - loss: 1.0171 - accuracy: 0.4989 - val_loss: 1.0462 - val_accuracy: 0.4645\n",
      "Epoch 13/100\n",
      "205/205 [==============================] - 2s 11ms/step - loss: 1.0174 - accuracy: 0.4968 - val_loss: 1.0505 - val_accuracy: 0.4639\n",
      "Epoch 14/100\n",
      "205/205 [==============================] - 2s 11ms/step - loss: 1.0180 - accuracy: 0.5014 - val_loss: 1.0436 - val_accuracy: 0.4651\n",
      "Epoch 15/100\n",
      "205/205 [==============================] - 2s 11ms/step - loss: 1.0180 - accuracy: 0.4940 - val_loss: 1.0466 - val_accuracy: 0.4651\n",
      "Epoch 16/100\n",
      "205/205 [==============================] - 2s 12ms/step - loss: 1.0132 - accuracy: 0.4976 - val_loss: 1.0420 - val_accuracy: 0.4767\n",
      "Epoch 17/100\n",
      "205/205 [==============================] - 2s 12ms/step - loss: 1.0124 - accuracy: 0.5006 - val_loss: 1.0411 - val_accuracy: 0.4706\n",
      "Epoch 18/100\n",
      "205/205 [==============================] - 2s 12ms/step - loss: 1.0119 - accuracy: 0.4976 - val_loss: 1.0439 - val_accuracy: 0.4706\n",
      "Epoch 19/100\n",
      "205/205 [==============================] - 2s 12ms/step - loss: 1.0117 - accuracy: 0.5046 - val_loss: 1.0499 - val_accuracy: 0.4676\n",
      "Epoch 20/100\n",
      "205/205 [==============================] - 2s 11ms/step - loss: 1.0111 - accuracy: 0.5032 - val_loss: 1.0400 - val_accuracy: 0.4718\n",
      "Epoch 21/100\n",
      "205/205 [==============================] - 2s 11ms/step - loss: 1.0106 - accuracy: 0.5040 - val_loss: 1.0394 - val_accuracy: 0.4682\n",
      "Epoch 22/100\n",
      "205/205 [==============================] - 2s 11ms/step - loss: 1.0108 - accuracy: 0.5000 - val_loss: 1.0408 - val_accuracy: 0.4774\n",
      "Epoch 23/100\n",
      "205/205 [==============================] - 2s 12ms/step - loss: 1.0113 - accuracy: 0.5034 - val_loss: 1.0401 - val_accuracy: 0.4774\n",
      "Epoch 24/100\n",
      "205/205 [==============================] - 2s 12ms/step - loss: 1.0125 - accuracy: 0.5028 - val_loss: 1.0504 - val_accuracy: 0.4700\n",
      "Epoch 25/100\n",
      "205/205 [==============================] - 2s 12ms/step - loss: 1.0067 - accuracy: 0.5072 - val_loss: 1.0500 - val_accuracy: 0.4761\n",
      "Epoch 26/100\n",
      "205/205 [==============================] - 2s 12ms/step - loss: 1.0078 - accuracy: 0.5026 - val_loss: 1.0469 - val_accuracy: 0.4816\n",
      "Epoch 27/100\n",
      "205/205 [==============================] - 2s 11ms/step - loss: 1.0040 - accuracy: 0.5135 - val_loss: 1.0574 - val_accuracy: 0.4639\n",
      "Epoch 28/100\n",
      "205/205 [==============================] - 2s 12ms/step - loss: 1.0067 - accuracy: 0.5072 - val_loss: 1.0473 - val_accuracy: 0.4718\n",
      "Epoch 29/100\n",
      "205/205 [==============================] - 2s 12ms/step - loss: 1.0001 - accuracy: 0.5122 - val_loss: 1.0540 - val_accuracy: 0.4547\n",
      "Epoch 30/100\n",
      "205/205 [==============================] - 2s 11ms/step - loss: 1.0031 - accuracy: 0.5089 - val_loss: 1.0421 - val_accuracy: 0.4767\n",
      "Epoch 31/100\n",
      "205/205 [==============================] - 2s 11ms/step - loss: 0.9987 - accuracy: 0.5115 - val_loss: 1.0452 - val_accuracy: 0.4725\n",
      "Epoch 32/100\n",
      "205/205 [==============================] - 2s 11ms/step - loss: 0.9993 - accuracy: 0.5153 - val_loss: 1.0495 - val_accuracy: 0.4737\n",
      "Epoch 33/100\n",
      "205/205 [==============================] - 2s 12ms/step - loss: 1.0003 - accuracy: 0.5127 - val_loss: 1.0489 - val_accuracy: 0.4688\n",
      "Epoch 34/100\n",
      "205/205 [==============================] - 2s 12ms/step - loss: 0.9975 - accuracy: 0.5110 - val_loss: 1.0439 - val_accuracy: 0.4798\n",
      "Epoch 35/100\n",
      "205/205 [==============================] - 2s 12ms/step - loss: 0.9992 - accuracy: 0.5141 - val_loss: 1.0595 - val_accuracy: 0.4590\n",
      "Epoch 36/100\n",
      "205/205 [==============================] - 2s 12ms/step - loss: 0.9955 - accuracy: 0.5144 - val_loss: 1.0713 - val_accuracy: 0.4743\n",
      "Epoch 37/100\n",
      "205/205 [==============================] - 2s 11ms/step - loss: 0.9934 - accuracy: 0.5190 - val_loss: 1.0586 - val_accuracy: 0.4700\n",
      "Epoch 38/100\n",
      "205/205 [==============================] - 2s 12ms/step - loss: 0.9926 - accuracy: 0.5151 - val_loss: 1.0544 - val_accuracy: 0.4718\n",
      "Epoch 39/100\n",
      "205/205 [==============================] - 2s 12ms/step - loss: 0.9903 - accuracy: 0.5207 - val_loss: 1.0536 - val_accuracy: 0.4706\n",
      "Epoch 40/100\n",
      "205/205 [==============================] - 2s 11ms/step - loss: 0.9894 - accuracy: 0.5161 - val_loss: 1.0593 - val_accuracy: 0.4688\n",
      "Epoch 41/100\n",
      "205/205 [==============================] - 2s 12ms/step - loss: 0.9891 - accuracy: 0.5196 - val_loss: 1.0503 - val_accuracy: 0.4743\n",
      "Epoch 42/100\n",
      "205/205 [==============================] - 2s 12ms/step - loss: 0.9848 - accuracy: 0.5207 - val_loss: 1.0571 - val_accuracy: 0.4743\n",
      "Epoch 43/100\n",
      "205/205 [==============================] - 2s 12ms/step - loss: 0.9839 - accuracy: 0.5185 - val_loss: 1.0588 - val_accuracy: 0.4737\n",
      "Epoch 44/100\n",
      "205/205 [==============================] - 2s 11ms/step - loss: 0.9824 - accuracy: 0.5240 - val_loss: 1.0625 - val_accuracy: 0.4694\n",
      "Epoch 45/100\n",
      "205/205 [==============================] - 2s 12ms/step - loss: 0.9749 - accuracy: 0.5275 - val_loss: 1.0543 - val_accuracy: 0.4706\n",
      "Epoch 46/100\n",
      "205/205 [==============================] - 2s 12ms/step - loss: 0.9722 - accuracy: 0.5297 - val_loss: 1.0705 - val_accuracy: 0.4676\n",
      "Epoch 47/100\n",
      "205/205 [==============================] - 2s 12ms/step - loss: 0.9705 - accuracy: 0.5337 - val_loss: 1.0707 - val_accuracy: 0.4651\n",
      "Epoch 48/100\n",
      "205/205 [==============================] - 2s 12ms/step - loss: 0.9661 - accuracy: 0.5312 - val_loss: 1.0765 - val_accuracy: 0.4718\n",
      "Epoch 49/100\n",
      "205/205 [==============================] - 2s 12ms/step - loss: 0.9639 - accuracy: 0.5337 - val_loss: 1.0876 - val_accuracy: 0.4712\n",
      "Epoch 50/100\n",
      "205/205 [==============================] - 2s 12ms/step - loss: 0.9581 - accuracy: 0.5344 - val_loss: 1.0756 - val_accuracy: 0.4584\n",
      "Epoch 51/100\n",
      "205/205 [==============================] - 2s 12ms/step - loss: 0.9506 - accuracy: 0.5369 - val_loss: 1.0863 - val_accuracy: 0.4621\n",
      "Epoch 52/100\n",
      "205/205 [==============================] - 2s 12ms/step - loss: 0.9457 - accuracy: 0.5439 - val_loss: 1.0845 - val_accuracy: 0.4565\n",
      "Epoch 53/100\n",
      "205/205 [==============================] - 2s 12ms/step - loss: 0.9393 - accuracy: 0.5444 - val_loss: 1.1097 - val_accuracy: 0.4510\n",
      "Epoch 54/100\n",
      "205/205 [==============================] - 2s 12ms/step - loss: 0.9293 - accuracy: 0.5563 - val_loss: 1.1162 - val_accuracy: 0.4688\n",
      "Epoch 55/100\n",
      "205/205 [==============================] - 2s 12ms/step - loss: 0.9291 - accuracy: 0.5519 - val_loss: 1.1026 - val_accuracy: 0.4529\n",
      "Epoch 56/100\n",
      "205/205 [==============================] - 2s 11ms/step - loss: 0.9177 - accuracy: 0.5675 - val_loss: 1.1248 - val_accuracy: 0.4572\n",
      "Epoch 57/100\n",
      "205/205 [==============================] - 2s 11ms/step - loss: 0.9057 - accuracy: 0.5664 - val_loss: 1.1752 - val_accuracy: 0.4461\n",
      "Epoch 58/100\n",
      "205/205 [==============================] - 2s 11ms/step - loss: 0.8966 - accuracy: 0.5728 - val_loss: 1.1514 - val_accuracy: 0.4302\n",
      "Epoch 59/100\n",
      "205/205 [==============================] - 2s 12ms/step - loss: 0.8838 - accuracy: 0.5863 - val_loss: 1.1483 - val_accuracy: 0.4315\n",
      "Epoch 60/100\n",
      "205/205 [==============================] - 2s 12ms/step - loss: 0.8696 - accuracy: 0.5941 - val_loss: 1.2066 - val_accuracy: 0.4241\n",
      "Epoch 61/100\n",
      "205/205 [==============================] - 2s 12ms/step - loss: 0.8572 - accuracy: 0.5978 - val_loss: 1.2127 - val_accuracy: 0.4241\n",
      "Epoch 62/100\n",
      "205/205 [==============================] - 2s 11ms/step - loss: 0.8369 - accuracy: 0.6051 - val_loss: 1.2482 - val_accuracy: 0.4143\n",
      "Epoch 63/100\n",
      "205/205 [==============================] - 2s 11ms/step - loss: 0.8279 - accuracy: 0.6135 - val_loss: 1.2599 - val_accuracy: 0.4229\n",
      "Epoch 64/100\n",
      "205/205 [==============================] - 2s 11ms/step - loss: 0.8124 - accuracy: 0.6236 - val_loss: 1.2546 - val_accuracy: 0.4364\n",
      "Epoch 65/100\n",
      "205/205 [==============================] - 2s 11ms/step - loss: 0.7874 - accuracy: 0.6418 - val_loss: 1.2863 - val_accuracy: 0.4106\n",
      "Epoch 66/100\n",
      "205/205 [==============================] - 2s 11ms/step - loss: 0.7736 - accuracy: 0.6469 - val_loss: 1.3756 - val_accuracy: 0.4204\n",
      "Epoch 67/100\n",
      "205/205 [==============================] - 2s 11ms/step - loss: 0.7645 - accuracy: 0.6443 - val_loss: 1.4141 - val_accuracy: 0.4143\n",
      "Epoch 68/100\n",
      "205/205 [==============================] - 2s 11ms/step - loss: 0.7340 - accuracy: 0.6662 - val_loss: 1.4155 - val_accuracy: 0.4021\n",
      "Epoch 69/100\n",
      "205/205 [==============================] - 2s 11ms/step - loss: 0.7076 - accuracy: 0.6871 - val_loss: 1.4495 - val_accuracy: 0.4009\n",
      "Epoch 70/100\n",
      "205/205 [==============================] - 2s 11ms/step - loss: 0.6964 - accuracy: 0.6860 - val_loss: 1.5033 - val_accuracy: 0.4235\n",
      "Epoch 71/100\n",
      "205/205 [==============================] - 2s 12ms/step - loss: 0.6862 - accuracy: 0.6949 - val_loss: 1.4578 - val_accuracy: 0.4082\n",
      "Epoch 72/100\n",
      "205/205 [==============================] - 2s 12ms/step - loss: 0.6399 - accuracy: 0.7214 - val_loss: 1.5851 - val_accuracy: 0.4119\n",
      "Epoch 73/100\n",
      "205/205 [==============================] - 2s 12ms/step - loss: 0.6133 - accuracy: 0.7345 - val_loss: 1.6521 - val_accuracy: 0.4033\n",
      "Epoch 74/100\n",
      "205/205 [==============================] - 2s 11ms/step - loss: 0.6034 - accuracy: 0.7367 - val_loss: 1.6578 - val_accuracy: 0.4076\n",
      "Epoch 75/100\n",
      "205/205 [==============================] - 2s 12ms/step - loss: 0.5710 - accuracy: 0.7586 - val_loss: 1.7463 - val_accuracy: 0.4002\n",
      "Epoch 76/100\n",
      "205/205 [==============================] - 2s 12ms/step - loss: 0.5510 - accuracy: 0.7671 - val_loss: 1.7884 - val_accuracy: 0.4113\n",
      "Epoch 77/100\n",
      "205/205 [==============================] - 2s 12ms/step - loss: 0.5168 - accuracy: 0.7765 - val_loss: 1.9461 - val_accuracy: 0.4015\n",
      "Epoch 78/100\n",
      "205/205 [==============================] - 2s 11ms/step - loss: 0.5182 - accuracy: 0.7771 - val_loss: 1.9360 - val_accuracy: 0.4033\n",
      "Epoch 79/100\n",
      "205/205 [==============================] - 2s 12ms/step - loss: 0.4831 - accuracy: 0.7982 - val_loss: 2.0160 - val_accuracy: 0.3911\n",
      "Epoch 80/100\n",
      "205/205 [==============================] - 2s 12ms/step - loss: 0.4501 - accuracy: 0.8166 - val_loss: 2.0923 - val_accuracy: 0.4009\n",
      "Epoch 81/100\n",
      "205/205 [==============================] - 2s 12ms/step - loss: 0.4305 - accuracy: 0.8260 - val_loss: 2.2556 - val_accuracy: 0.4021\n",
      "Epoch 82/100\n",
      "205/205 [==============================] - 2s 11ms/step - loss: 0.4114 - accuracy: 0.8354 - val_loss: 2.2996 - val_accuracy: 0.4002\n",
      "Epoch 83/100\n",
      "205/205 [==============================] - 2s 11ms/step - loss: 0.3649 - accuracy: 0.8582 - val_loss: 2.4245 - val_accuracy: 0.3953\n",
      "Epoch 84/100\n",
      "205/205 [==============================] - 2s 11ms/step - loss: 0.3416 - accuracy: 0.8722 - val_loss: 2.5401 - val_accuracy: 0.4027\n",
      "Epoch 85/100\n",
      "205/205 [==============================] - 2s 11ms/step - loss: 0.3221 - accuracy: 0.8700 - val_loss: 2.5981 - val_accuracy: 0.3886\n",
      "Epoch 86/100\n",
      "205/205 [==============================] - 2s 11ms/step - loss: 0.3156 - accuracy: 0.8781 - val_loss: 2.7044 - val_accuracy: 0.3905\n",
      "Epoch 87/100\n",
      "205/205 [==============================] - 2s 11ms/step - loss: 0.2886 - accuracy: 0.8909 - val_loss: 2.6447 - val_accuracy: 0.4058\n",
      "Epoch 88/100\n",
      "205/205 [==============================] - 2s 11ms/step - loss: 0.2838 - accuracy: 0.8921 - val_loss: 2.8194 - val_accuracy: 0.3972\n",
      "Epoch 89/100\n",
      "205/205 [==============================] - 2s 12ms/step - loss: 0.2690 - accuracy: 0.9001 - val_loss: 2.8090 - val_accuracy: 0.3996\n",
      "Epoch 90/100\n",
      "205/205 [==============================] - 2s 11ms/step - loss: 0.2491 - accuracy: 0.9070 - val_loss: 2.9388 - val_accuracy: 0.3886\n",
      "Epoch 91/100\n",
      "205/205 [==============================] - 2s 12ms/step - loss: 0.2020 - accuracy: 0.9318 - val_loss: 3.0138 - val_accuracy: 0.4021\n",
      "Epoch 92/100\n",
      "205/205 [==============================] - 3s 13ms/step - loss: 0.1796 - accuracy: 0.9397 - val_loss: 3.1716 - val_accuracy: 0.4051\n",
      "Epoch 93/100\n",
      "205/205 [==============================] - 3s 12ms/step - loss: 0.2005 - accuracy: 0.9292 - val_loss: 3.2412 - val_accuracy: 0.3892\n",
      "Epoch 94/100\n",
      "205/205 [==============================] - 2s 12ms/step - loss: 0.1853 - accuracy: 0.9420 - val_loss: 3.3951 - val_accuracy: 0.4021\n",
      "Epoch 95/100\n",
      "205/205 [==============================] - 2s 12ms/step - loss: 0.2105 - accuracy: 0.9200 - val_loss: 3.5344 - val_accuracy: 0.3929\n",
      "Epoch 96/100\n",
      "205/205 [==============================] - 2s 12ms/step - loss: 0.2245 - accuracy: 0.9194 - val_loss: 3.4146 - val_accuracy: 0.3923\n",
      "Epoch 97/100\n",
      "205/205 [==============================] - 2s 12ms/step - loss: 0.1495 - accuracy: 0.9524 - val_loss: 3.5841 - val_accuracy: 0.3935\n",
      "Epoch 98/100\n",
      "205/205 [==============================] - 2s 12ms/step - loss: 0.1280 - accuracy: 0.9613 - val_loss: 3.7066 - val_accuracy: 0.3941\n",
      "Epoch 99/100\n",
      "205/205 [==============================] - 2s 12ms/step - loss: 0.1452 - accuracy: 0.9536 - val_loss: 3.9508 - val_accuracy: 0.3880\n",
      "Epoch 100/100\n",
      "205/205 [==============================] - 2s 12ms/step - loss: 0.2216 - accuracy: 0.9220 - val_loss: 3.6938 - val_accuracy: 0.3843\n",
      "14/14 [==============================] - 0s 25ms/step - loss: 3.1582 - accuracy: 0.3977\n",
      "Loss: 3.1582047939300537, Accuracy: 0.39767441153526306\n"
     ]
    }
   ],
   "source": [
    "from sklearn.model_selection import train_test_split\n",
    "\n",
    "# Diviser les données en ensembles d'entraînement et de test\n",
    "X_train, X_test, Y_train, Y_test = train_test_split(X_combined, Y, test_size=0.05)\n",
    "\n",
    "# Entraîner le modèle\n",
    "history = model.fit(X_train, Y_train, epochs=100, batch_size=32, validation_split=0.2)\n",
    "\n",
    "# Évaluation du modèle sur l'ensemble de test\n",
    "loss, accuracy = model.evaluate(X_test, Y_test)\n",
    "print(f\"Loss: {loss}, Accuracy: {accuracy}\")"
   ]
  },
  {
   "cell_type": "code",
   "execution_count": 35,
   "metadata": {},
   "outputs": [
    {
     "data": {
      "text/plain": [
       "<AxesSubplot: title={'center': 'Truc'}>"
      ]
     },
     "execution_count": 35,
     "metadata": {},
     "output_type": "execute_result"
    },
    {
     "data": {
      "image/png": "[encoded data removed]",
      "text/plain": [
       "<Figure size 640x480 with 1 Axes>"
      ]
     },
     "metadata": {},
     "output_type": "display_data"
    }
   ],
   "source": [
    "pd.DataFrame(history.history).plot(title=\"Truc\")"
   ]
  },
  {
   "cell_type": "code",
   "execution_count": 26,
   "metadata": {},
   "outputs": [
    {
     "data": {
      "text/html": [
       "<div>\n",
       "<style scoped>\n",
       "    .dataframe tbody tr th:only-of-type {\n",
       "        vertical-align: middle;\n",
       "    }\n",
       "\n",
       "    .dataframe tbody tr th {\n",
       "        vertical-align: top;\n",
       "    }\n",
       "\n",
       "    .dataframe thead th {\n",
       "        text-align: right;\n",
       "    }\n",
       "</style>\n",
       "<table border=\"1\" class=\"dataframe\">\n",
       "  <thead>\n",
       "    <tr style=\"text-align: right;\">\n",
       "      <th></th>\n",
       "      <th>Unnamed: 0</th>\n",
       "      <th>Home_Team</th>\n",
       "      <th>Away_Team</th>\n",
       "      <th>Forme_dom</th>\n",
       "      <th>Forme_exte</th>\n",
       "    </tr>\n",
       "  </thead>\n",
       "  <tbody>\n",
       "    <tr>\n",
       "      <th>0</th>\n",
       "      <td>0</td>\n",
       "      <td>Crystal Palace Football Club_2022</td>\n",
       "      <td>Arsenal Football Club_2022</td>\n",
       "      <td>0.0</td>\n",
       "      <td>0.0</td>\n",
       "    </tr>\n",
       "    <tr>\n",
       "      <th>1</th>\n",
       "      <td>1</td>\n",
       "      <td>Fulham Football Club_2022</td>\n",
       "      <td>Liverpool Football Club_2022</td>\n",
       "      <td>0.0</td>\n",
       "      <td>0.0</td>\n",
       "    </tr>\n",
       "    <tr>\n",
       "      <th>2</th>\n",
       "      <td>2</td>\n",
       "      <td>Everton Football Club_2022</td>\n",
       "      <td>Chelsea Football Club_2022</td>\n",
       "      <td>0.0</td>\n",
       "      <td>0.0</td>\n",
       "    </tr>\n",
       "    <tr>\n",
       "      <th>3</th>\n",
       "      <td>3</td>\n",
       "      <td>Association Football Club Bournemouth_2022</td>\n",
       "      <td>Aston Villa Football Club_2022</td>\n",
       "      <td>0.0</td>\n",
       "      <td>0.0</td>\n",
       "    </tr>\n",
       "    <tr>\n",
       "      <th>4</th>\n",
       "      <td>4</td>\n",
       "      <td>Tottenham Hotspur Football Club_2022</td>\n",
       "      <td>Southampton FC_2022</td>\n",
       "      <td>0.0</td>\n",
       "      <td>0.0</td>\n",
       "    </tr>\n",
       "  </tbody>\n",
       "</table>\n",
       "</div>"
      ],
      "text/plain": [
       "   Unnamed: 0                                   Home_Team  \\\n",
       "0           0           Crystal Palace Football Club_2022   \n",
       "1           1                   Fulham Football Club_2022   \n",
       "2           2                  Everton Football Club_2022   \n",
       "3           3  Association Football Club Bournemouth_2022   \n",
       "4           4        Tottenham Hotspur Football Club_2022   \n",
       "\n",
       "                        Away_Team  Forme_dom  Forme_exte  \n",
       "0      Arsenal Football Club_2022        0.0         0.0  \n",
       "1    Liverpool Football Club_2022        0.0         0.0  \n",
       "2      Chelsea Football Club_2022        0.0         0.0  \n",
       "3  Aston Villa Football Club_2022        0.0         0.0  \n",
       "4             Southampton FC_2022        0.0         0.0  "
      ]
     },
     "execution_count": 26,
     "metadata": {},
     "output_type": "execute_result"
    }
   ],
   "source": [
    "csv_path = \"/Users/mathieu/Documents/IMT M2/Projet P5 - Foot Predictor/Team_game_result102_forme_QUE_GB12022.csv\"  # Remplacez cela par le chemin réel de votre fichier CSV\n",
    "data = pd.read_csv(csv_path)\n",
    "data.head()\n",
    "\n",
    "import os\n",
    "import numpy as np\n",
    "\n",
    "# Dossier contenant les matrices d'équipes\n",
    "folder_path = \"/Users/mathieu/Documents/IMT M2/Projet P5 - Foot Predictor/Base de données/Matrices_Team\"\n",
    "\n",
    "# Liste des fichiers dans le dossier\n",
    "team_files = os.listdir(folder_path)\n",
    "\n",
    "# Parcourir chaque fichier et afficher la forme de la matrice\n",
    "for team_file in team_files:\n",
    "    if team_file.endswith(\".npy\"):\n",
    "        team_matrix = np.load(os.path.join(folder_path, team_file))\n",
    "        matrix_shape = team_matrix.shape\n",
    "print(f\"Vecteurs {team_file} - Shape : {matrix_shape}\")"
   ]
  },
  {
   "cell_type": "code",
   "execution_count": 27,
   "metadata": {},
   "outputs": [
    {
     "name": "stdout",
     "output_type": "stream",
     "text": [
      "X_combined shape: (380, 6, 4, 20)\n"
     ]
    }
   ],
   "source": [
    "X_combined_matrices = []\n",
    "\n",
    "for index, row in data.iterrows():\n",
    "    home_team_name = row['Home_Team']\n",
    "    away_team_name = row['Away_Team']\n",
    "    home_coef = row['Forme_dom']\n",
    "    away_coef = row['Forme_exte']\n",
    "\n",
    "    home_team_matrix = np.load(os.path.join(folder_path, f\"{home_team_name}.npy\"))\n",
    "    away_team_matrix = np.load(os.path.join(folder_path, f\"{away_team_name}.npy\"))\n",
    "    home_team_matrix = (home_team_matrix * (1 + home_coef))/20\n",
    "    away_team_matrix = (away_team_matrix * (1 + away_coef))/20\n",
    "\n",
    "    combined_matrix = np.concatenate([home_team_matrix, away_team_matrix], axis=0)\n",
    "\n",
    "    X_combined_matrices.append(combined_matrix)\n",
    "\n",
    "# Convertir les listes en tableaux NumPy\n",
    "X_combined = np.array(X_combined_matrices)\n",
    "\n",
    "print(\"X_combined shape:\", X_combined.shape)\n"
   ]
  },
  {
   "cell_type": "code",
   "execution_count": 33,
   "metadata": {},
   "outputs": [
    {
     "name": "stdout",
     "output_type": "stream",
     "text": [
      "[[1.5131939e+04 4.2813184e+02 1.0024077e+00]\n",
      " [4.3006378e+02 5.8769436e+01 1.0197223e+00]\n",
      " [9.2117499e+02 1.0942899e+00 1.1753676e+01]\n",
      " ...\n",
      " [5.9963318e+02 1.0016705e+00 1.6697008e+08]\n",
      " [3.6958230e+00 4.0951748e+01 1.4184291e+00]\n",
      " [2.5456732e+02 1.4915620e+00 3.0709352e+00]]\n"
     ]
    }
   ],
   "source": [
    "ypred = model.predict(X_combined)\n",
    "\n",
    "ypred = 1/ypred\n",
    "print(ypred)"
   ]
  },
  {
   "cell_type": "code",
   "execution_count": 34,
   "metadata": {},
   "outputs": [],
   "source": [
    "d = data.to_numpy()\n",
    "y = np.hstack((ypred[:,1:2],ypred[:,0:1]))\n",
    "y = np.hstack((y,ypred[:,2:]))\n",
    "Sortie = np.hstack((d[:,1:3],y))\n",
    "\n",
    "DF = pd.DataFrame(Sortie,columns=[\"Home_Team\",\"Away_Team\",\"Côte domicile\",\"Côte nul\",\"Côte extérieur\"])\n",
    "\n",
    "# save the dataframe as a csv file\n",
    "DF.to_csv(\"Prédiction2.csv\")"
   ]
  },
  {
   "cell_type": "markdown",
   "metadata": {},
   "source": [
    "# Test prédiction premier league Conv2"
   ]
  },
  {
   "cell_type": "code",
   "execution_count": 39,
   "metadata": {},
   "outputs": [
    {
     "name": "stdout",
     "output_type": "stream",
     "text": [
      "Vecteurs Dijon FCO_2020.npy - Shape : (3, 4, 20)\n",
      "X_combined shape: (8600, 6, 4, 20)\n",
      "Y shape: (8600,)\n"
     ]
    }
   ],
   "source": [
    "csv_path = \"/Users/mathieu/Documents/IMT M2/Projet P5 - Foot Predictor/Team_game_result102_forme_sans_GB12022.csv\"  # Remplacez cela par le chemin réel de votre fichier CSV\n",
    "data = pd.read_csv(csv_path)\n",
    "data.head()\n",
    "\n",
    "\n",
    "import os\n",
    "import numpy as np\n",
    "\n",
    "# Dossier contenant les matrices d'équipes\n",
    "folder_path = \"/Users/mathieu/Documents/IMT M2/Projet P5 - Foot Predictor/Base de données/Matrices_Team\"\n",
    "\n",
    "# Liste des fichiers dans le dossier\n",
    "team_files = os.listdir(folder_path)\n",
    "\n",
    "# Parcourir chaque fichier et afficher la forme de la matrice\n",
    "for team_file in team_files:\n",
    "    if team_file.endswith(\".npy\"):\n",
    "        team_matrix = np.load(os.path.join(folder_path, team_file))\n",
    "        matrix_shape = team_matrix.shape\n",
    "print(f\"Vecteurs {team_file} - Shape : {matrix_shape}\")\n",
    "\n",
    "\n",
    "X_combined_matrices = []\n",
    "Y_results = []\n",
    "\n",
    "for index, row in data.iterrows():\n",
    "    home_team_name = row['Home_Team']\n",
    "    away_team_name = row['Away_Team']\n",
    "    home_coef = row['Forme_dom']\n",
    "    away_coef = row['Forme_exte']\n",
    "    result = row['Result']\n",
    "\n",
    "    home_team_matrix = np.load(os.path.join(folder_path, f\"{home_team_name}.npy\"))\n",
    "    away_team_matrix = np.load(os.path.join(folder_path, f\"{away_team_name}.npy\"))\n",
    "    home_team_matrix = (home_team_matrix * (1 + home_coef))/20\n",
    "    away_team_matrix = (away_team_matrix * (1 + away_coef))/20\n",
    "\n",
    "    combined_matrix = np.concatenate([home_team_matrix, away_team_matrix], axis=0)\n",
    "\n",
    "    X_combined_matrices.append(combined_matrix)\n",
    "    Y_results.append(result)\n",
    "\n",
    "# Convertir les listes en tableaux NumPy\n",
    "X_combined = np.array(X_combined_matrices)\n",
    "Y = np.array(Y_results)\n",
    "\n",
    "print(\"X_combined shape:\", X_combined.shape)\n",
    "print(\"Y shape:\", Y.shape)"
   ]
  },
  {
   "cell_type": "code",
   "execution_count": 40,
   "metadata": {},
   "outputs": [
    {
     "name": "stdout",
     "output_type": "stream",
     "text": [
      "Model: \"sequential_2\"\n",
      "_________________________________________________________________\n",
      " Layer (type)                Output Shape              Param #   \n",
      "=================================================================\n",
      " conv2d_6 (Conv2D)           (None, 3, 2, 32)          2592      \n",
      "                                                                 \n",
      " conv2d_7 (Conv2D)           (None, 3, 2, 64)          8256      \n",
      "                                                                 \n",
      " conv2d_8 (Conv2D)           (None, 3, 2, 128)         73856     \n",
      "                                                                 \n",
      " flatten_2 (Flatten)         (None, 768)               0         \n",
      "                                                                 \n",
      " dense_4 (Dense)             (None, 256)               196864    \n",
      "                                                                 \n",
      " dense_5 (Dense)             (None, 3)                 771       \n",
      "                                                                 \n",
      "=================================================================\n",
      "Total params: 282,339\n",
      "Trainable params: 282,339\n",
      "Non-trainable params: 0\n",
      "_________________________________________________________________\n"
     ]
    }
   ],
   "source": [
    "from tensorflow.keras.models import Sequential\n",
    "from tensorflow.keras.layers import Conv2D, Flatten, Dense, Dropout, MaxPooling2D, BatchNormalization\n",
    "from tensorflow.keras import optimizers\n",
    "\n",
    "# Taille des matrices d'équipes\n",
    "input_shape = (6, 4, 20)\n",
    "\n",
    "# Modèle CNN\n",
    "model = Sequential([\n",
    "    Conv2D(32, (2,2), strides=(2,2), activation='relu', padding='same', input_shape=input_shape),\n",
    "    Conv2D(64, (2,2), strides=(1,1), activation='relu', padding='same'),\n",
    "    Conv2D(128, (3,3), strides=(1,1), activation='relu', padding='same'),\n",
    "    Flatten(),\n",
    "    Dense(256, activation='relu'),\n",
    "    \n",
    "    Dense(3, activation='softmax')\n",
    "])\n",
    "\n",
    "# Compiler le modèle\n",
    "model.compile(optimizer=optimizers.Adam(learning_rate=0.001), loss='sparse_categorical_crossentropy', metrics=['accuracy'])\n",
    "\n",
    "# Afficher le résumé du modèle\n",
    "model.summary()"
   ]
  },
  {
   "cell_type": "code",
   "execution_count": 41,
   "metadata": {},
   "outputs": [
    {
     "name": "stdout",
     "output_type": "stream",
     "text": [
      "Epoch 1/30\n"
     ]
    },
    {
     "name": "stderr",
     "output_type": "stream",
     "text": [
      "2024-01-23 10:59:52.230925: I tensorflow/core/grappler/optimizers/custom_graph_optimizer_registry.cc:113] Plugin optimizer for device_type GPU is enabled.\n"
     ]
    },
    {
     "name": "stdout",
     "output_type": "stream",
     "text": [
      "205/205 [==============================] - ETA: 0s - loss: 1.0465 - accuracy: 0.4729"
     ]
    },
    {
     "name": "stderr",
     "output_type": "stream",
     "text": [
      "2024-01-23 10:59:54.808053: I tensorflow/core/grappler/optimizers/custom_graph_optimizer_registry.cc:113] Plugin optimizer for device_type GPU is enabled.\n"
     ]
    },
    {
     "name": "stdout",
     "output_type": "stream",
     "text": [
      "205/205 [==============================] - 3s 14ms/step - loss: 1.0465 - accuracy: 0.4729 - val_loss: 1.0438 - val_accuracy: 0.4761\n",
      "Epoch 2/30\n",
      "205/205 [==============================] - 2s 12ms/step - loss: 1.0455 - accuracy: 0.4763 - val_loss: 1.0317 - val_accuracy: 0.4945\n",
      "Epoch 3/30\n",
      "205/205 [==============================] - 2s 12ms/step - loss: 1.0369 - accuracy: 0.4797 - val_loss: 1.0316 - val_accuracy: 0.4920\n",
      "Epoch 4/30\n",
      "205/205 [==============================] - 2s 12ms/step - loss: 1.0368 - accuracy: 0.4832 - val_loss: 1.0313 - val_accuracy: 0.4884\n",
      "Epoch 5/30\n",
      "205/205 [==============================] - 2s 11ms/step - loss: 1.0332 - accuracy: 0.4827 - val_loss: 1.0450 - val_accuracy: 0.4847\n",
      "Epoch 6/30\n",
      "205/205 [==============================] - 2s 11ms/step - loss: 1.0316 - accuracy: 0.4882 - val_loss: 1.0196 - val_accuracy: 0.5061\n",
      "Epoch 7/30\n",
      "205/205 [==============================] - 2s 12ms/step - loss: 1.0291 - accuracy: 0.4838 - val_loss: 1.0233 - val_accuracy: 0.5012\n",
      "Epoch 8/30\n",
      "205/205 [==============================] - 2s 12ms/step - loss: 1.0250 - accuracy: 0.4845 - val_loss: 1.0243 - val_accuracy: 0.5018\n",
      "Epoch 9/30\n",
      "205/205 [==============================] - 2s 12ms/step - loss: 1.0232 - accuracy: 0.4924 - val_loss: 1.0243 - val_accuracy: 0.4957\n",
      "Epoch 10/30\n",
      "205/205 [==============================] - 2s 12ms/step - loss: 1.0287 - accuracy: 0.4781 - val_loss: 1.0196 - val_accuracy: 0.4963\n",
      "Epoch 11/30\n",
      "205/205 [==============================] - 2s 12ms/step - loss: 1.0237 - accuracy: 0.4931 - val_loss: 1.0186 - val_accuracy: 0.4976\n",
      "Epoch 12/30\n",
      "205/205 [==============================] - 2s 12ms/step - loss: 1.0240 - accuracy: 0.4901 - val_loss: 1.0206 - val_accuracy: 0.4976\n",
      "Epoch 13/30\n",
      "205/205 [==============================] - 2s 12ms/step - loss: 1.0221 - accuracy: 0.4864 - val_loss: 1.0174 - val_accuracy: 0.4988\n",
      "Epoch 14/30\n",
      "205/205 [==============================] - 2s 12ms/step - loss: 1.0198 - accuracy: 0.4959 - val_loss: 1.0182 - val_accuracy: 0.4994\n",
      "Epoch 15/30\n",
      "205/205 [==============================] - 2s 12ms/step - loss: 1.0182 - accuracy: 0.4954 - val_loss: 1.0161 - val_accuracy: 0.5043\n",
      "Epoch 16/30\n",
      "205/205 [==============================] - 2s 12ms/step - loss: 1.0153 - accuracy: 0.4956 - val_loss: 1.0161 - val_accuracy: 0.5037\n",
      "Epoch 17/30\n",
      "205/205 [==============================] - 2s 12ms/step - loss: 1.0146 - accuracy: 0.4966 - val_loss: 1.0287 - val_accuracy: 0.4847\n",
      "Epoch 18/30\n",
      "205/205 [==============================] - 2s 12ms/step - loss: 1.0181 - accuracy: 0.4930 - val_loss: 1.0241 - val_accuracy: 0.5012\n",
      "Epoch 19/30\n",
      "205/205 [==============================] - 2s 11ms/step - loss: 1.0125 - accuracy: 0.4994 - val_loss: 1.0153 - val_accuracy: 0.5122\n",
      "Epoch 20/30\n",
      "205/205 [==============================] - 2s 12ms/step - loss: 1.0110 - accuracy: 0.4989 - val_loss: 1.0215 - val_accuracy: 0.5055\n",
      "Epoch 21/30\n",
      "205/205 [==============================] - 2s 12ms/step - loss: 1.0113 - accuracy: 0.4997 - val_loss: 1.0326 - val_accuracy: 0.5012\n",
      "Epoch 22/30\n",
      "205/205 [==============================] - 2s 12ms/step - loss: 1.0106 - accuracy: 0.5035 - val_loss: 1.0214 - val_accuracy: 0.5037\n",
      "Epoch 23/30\n",
      "205/205 [==============================] - 2s 12ms/step - loss: 1.0096 - accuracy: 0.5009 - val_loss: 1.0176 - val_accuracy: 0.5049\n",
      "Epoch 24/30\n",
      "205/205 [==============================] - 2s 12ms/step - loss: 1.0075 - accuracy: 0.5032 - val_loss: 1.0341 - val_accuracy: 0.5037\n",
      "Epoch 25/30\n",
      "205/205 [==============================] - 2s 12ms/step - loss: 1.0053 - accuracy: 0.5044 - val_loss: 1.0205 - val_accuracy: 0.5018\n",
      "Epoch 26/30\n",
      "205/205 [==============================] - 2s 12ms/step - loss: 1.0030 - accuracy: 0.5049 - val_loss: 1.0197 - val_accuracy: 0.5061\n",
      "Epoch 27/30\n",
      "205/205 [==============================] - 2s 12ms/step - loss: 0.9999 - accuracy: 0.5080 - val_loss: 1.0304 - val_accuracy: 0.4982\n",
      "Epoch 28/30\n",
      "205/205 [==============================] - 2s 12ms/step - loss: 0.9983 - accuracy: 0.5099 - val_loss: 1.0254 - val_accuracy: 0.5006\n",
      "Epoch 29/30\n",
      "205/205 [==============================] - 2s 12ms/step - loss: 0.9967 - accuracy: 0.5029 - val_loss: 1.0213 - val_accuracy: 0.4957\n",
      "Epoch 30/30\n",
      "205/205 [==============================] - 2s 12ms/step - loss: 0.9979 - accuracy: 0.5064 - val_loss: 1.0188 - val_accuracy: 0.5067\n",
      "14/14 [==============================] - 0s 10ms/step - loss: 1.0209 - accuracy: 0.4767\n",
      "Loss: 1.0209441184997559, Accuracy: 0.4767441749572754\n"
     ]
    }
   ],
   "source": [
    "from sklearn.model_selection import train_test_split\n",
    "\n",
    "# Diviser les données en ensembles d'entraînement et de test\n",
    "X_train, X_test, Y_train, Y_test = train_test_split(X_combined, Y, test_size=0.05)\n",
    "\n",
    "# Entraîner le modèle\n",
    "history = model.fit(X_train, Y_train, epochs=30, batch_size=32, validation_split=0.2)\n",
    "\n",
    "# Évaluation du modèle sur l'ensemble de test\n",
    "loss, accuracy = model.evaluate(X_test, Y_test)\n",
    "print(f\"Loss: {loss}, Accuracy: {accuracy}\")"
   ]
  },
  {
   "cell_type": "code",
   "execution_count": 42,
   "metadata": {},
   "outputs": [
    {
     "data": {
      "text/plain": [
       "<AxesSubplot: title={'center': 'Truc'}>"
      ]
     },
     "execution_count": 42,
     "metadata": {},
     "output_type": "execute_result"
    },
    {
     "data": {
      "image/png": "[encoded data removed]",
      "text/plain": [
       "<Figure size 640x480 with 1 Axes>"
      ]
     },
     "metadata": {},
     "output_type": "display_data"
    }
   ],
   "source": [
    "pd.DataFrame(history.history).plot(title=\"Truc\")"
   ]
  },
  {
   "cell_type": "code",
   "execution_count": 45,
   "metadata": {},
   "outputs": [
    {
     "name": "stdout",
     "output_type": "stream",
     "text": [
      "Vecteurs Dijon FCO_2020.npy - Shape : (3, 4, 20)\n",
      "X_combined shape: (380, 6, 4, 20)\n",
      "12/12 [==============================] - 0s 3ms/step\n",
      "[[3.4804945 2.5870829 3.066085 ]\n",
      " [3.24963   3.2951233 2.5720568]\n",
      " [3.3904555 2.5977654 3.123944 ]\n",
      " ...\n",
      " [5.2568836 5.1756463 1.6219004]\n",
      " [4.9115634 4.0182776 1.8263639]\n",
      " [5.1660833 1.4976611 7.2086635]]\n"
     ]
    }
   ],
   "source": [
    "csv_path = \"/Users/mathieu/Documents/IMT M2/Projet P5 - Foot Predictor/Team_game_result102_forme_QUE_GB12022.csv\"  # Remplacez cela par le chemin réel de votre fichier CSV\n",
    "data = pd.read_csv(csv_path)\n",
    "data.head()\n",
    "\n",
    "import os\n",
    "import numpy as np\n",
    "\n",
    "# Dossier contenant les matrices d'équipes\n",
    "folder_path = \"/Users/mathieu/Documents/IMT M2/Projet P5 - Foot Predictor/Base de données/Matrices_Team\"\n",
    "\n",
    "# Liste des fichiers dans le dossier\n",
    "team_files = os.listdir(folder_path)\n",
    "\n",
    "# Parcourir chaque fichier et afficher la forme de la matrice\n",
    "for team_file in team_files:\n",
    "    if team_file.endswith(\".npy\"):\n",
    "        team_matrix = np.load(os.path.join(folder_path, team_file))\n",
    "        matrix_shape = team_matrix.shape\n",
    "print(f\"Vecteurs {team_file} - Shape : {matrix_shape}\")\n",
    "\n",
    "X_combined_matrices = []\n",
    "\n",
    "for index, row in data.iterrows():\n",
    "    home_team_name = row['Home_Team']\n",
    "    away_team_name = row['Away_Team']\n",
    "    home_coef = row['Forme_dom']\n",
    "    away_coef = row['Forme_exte']\n",
    "\n",
    "    home_team_matrix = np.load(os.path.join(folder_path, f\"{home_team_name}.npy\"))\n",
    "    away_team_matrix = np.load(os.path.join(folder_path, f\"{away_team_name}.npy\"))\n",
    "    home_team_matrix = (home_team_matrix * (1 + home_coef))/20\n",
    "    away_team_matrix = (away_team_matrix * (1 + away_coef))/20\n",
    "\n",
    "    combined_matrix = np.concatenate([home_team_matrix, away_team_matrix], axis=0)\n",
    "\n",
    "    X_combined_matrices.append(combined_matrix)\n",
    "\n",
    "# Convertir les listes en tableaux NumPy\n",
    "X_combined = np.array(X_combined_matrices)\n",
    "\n",
    "print(\"X_combined shape:\", X_combined.shape)\n",
    "\n",
    "ypred = model.predict(X_combined)\n",
    "\n",
    "ypred = 1/ypred\n",
    "print(ypred)"
   ]
  },
  {
   "cell_type": "code",
   "execution_count": 46,
   "metadata": {},
   "outputs": [],
   "source": [
    "d = data.to_numpy()\n",
    "y = np.hstack((ypred[:,1:2],ypred[:,0:1]))\n",
    "y = np.hstack((y,ypred[:,2:]))\n",
    "Sortie = np.hstack((d[:,1:3],y))\n",
    "\n",
    "DF = pd.DataFrame(Sortie,columns=[\"Home_Team\",\"Away_Team\",\"Côte domicile\",\"Côte nul\",\"Côte extérieur\"])\n",
    "\n",
    "# save the dataframe as a csv file\n",
    "DF.to_csv(\"Prédiction3.csv\")"
   ]
  },
  {
   "cell_type": "code",
   "execution_count": null,
   "metadata": {},
   "outputs": [],
   "source": []
  }
 ],
 "metadata": {
  "accelerator": "GPU",
  "colab": {
   "gpuType": "T4",
   "provenance": []
  },
  "kernelspec": {
   "display_name": "Python 3 (ipykernel)",
   "language": "python",
   "name": "python3"
  },
  "language_info": {
   "codemirror_mode": {
    "name": "ipython",
    "version": 3
   },
   "file_extension": ".py",
   "mimetype": "text/x-python",
   "name": "python",
   "nbconvert_exporter": "python",
   "pygments_lexer": "ipython3",
   "version": "3.8.16"
  }
 },
 "nbformat": 4,
 "nbformat_minor": 1
}
